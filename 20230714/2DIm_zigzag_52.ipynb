{
 "cells": [
  {
   "cell_type": "markdown",
   "id": "54cdc642",
   "metadata": {},
   "source": [
    "2차원 리스트"
   ]
  },
  {
   "cell_type": "markdown",
   "id": "107ab270",
   "metadata": {},
   "source": [
    "<img src=\"./2Dim.png\" width=\"1000\" align=\"left\"/>"
   ]
  },
  {
   "cell_type": "code",
   "execution_count": 1,
   "id": "730fa086",
   "metadata": {},
   "outputs": [
    {
     "name": "stdout",
     "output_type": "stream",
     "text": [
      "[[1, 2, 3], [4, 5, 6]]\n"
     ]
    }
   ],
   "source": [
    "a = [[1, 2, 3], [4, 5, 6]]\n",
    "print(a)"
   ]
  },
  {
   "cell_type": "code",
   "execution_count": 2,
   "id": "5e41d51b",
   "metadata": {},
   "outputs": [
    {
     "name": "stdout",
     "output_type": "stream",
     "text": [
      "[[0, 0, 0, 0, 0], [0, 0, 0, 0, 0], [0, 0, 0, 0, 0], [0, 0, 0, 0, 0]]\n"
     ]
    }
   ],
   "source": [
    "# 리스트이름 = [[0] * 열개수 for i in range(행개수)]\n",
    "b = [[0] * 5 for i in range(4)]\n",
    "print(b)"
   ]
  },
  {
   "cell_type": "code",
   "execution_count": 3,
   "id": "980551db",
   "metadata": {},
   "outputs": [],
   "source": [
    "import numpy as np"
   ]
  },
  {
   "cell_type": "code",
   "execution_count": 4,
   "id": "31f400d7",
   "metadata": {},
   "outputs": [
    {
     "name": "stdout",
     "output_type": "stream",
     "text": [
      "[[1 2 3]\n",
      " [4 5 6]]\n",
      "[[0 0 0 0 0]\n",
      " [0 0 0 0 0]\n",
      " [0 0 0 0 0]\n",
      " [0 0 0 0 0]]\n"
     ]
    }
   ],
   "source": [
    "print(np.array(a))\n",
    "print(np.array(b))"
   ]
  },
  {
   "cell_type": "code",
   "execution_count": 9,
   "id": "86527881",
   "metadata": {},
   "outputs": [
    {
     "name": "stdout",
     "output_type": "stream",
     "text": [
      "4\n",
      "5\n",
      "(2, 3)\n",
      "(4, 5)\n",
      "4\n",
      "5\n"
     ]
    }
   ],
   "source": [
    "print(len(b)) # 행의 개수\n",
    "print(len(b[0])) # 열의 개수\n",
    "#print(b.shape) # 에러\n",
    "print(np.array(a).shape)\n",
    "print(np.array(b).shape)\n",
    "print(np.array(b).shape[0])\n",
    "print(np.array(b).shape[1])"
   ]
  },
  {
   "cell_type": "code",
   "execution_count": 10,
   "id": "93f9ee7c",
   "metadata": {},
   "outputs": [
    {
     "name": "stdout",
     "output_type": "stream",
     "text": [
      "[0, 0, 0, 0, 0]\n",
      "[0, 0, 0, 0, 0]\n",
      "[0, 0, 0, 0, 0]\n",
      "[0, 0, 0, 0, 0]\n"
     ]
    }
   ],
   "source": [
    "for i in range(len(b)):\n",
    "    print(b[i])"
   ]
  },
  {
   "cell_type": "code",
   "execution_count": 13,
   "id": "e8104054",
   "metadata": {},
   "outputs": [
    {
     "name": "stdout",
     "output_type": "stream",
     "text": [
      "0 0 0 0 0 \n",
      "0 0 0 0 0 \n",
      "0 0 0 0 0 \n",
      "0 0 0 0 0 \n"
     ]
    }
   ],
   "source": [
    "for i in range(len(b)): #행만큼반복. 4\n",
    "    for j in range(len(b[i])): # 열. 5\n",
    "        print(b[i][j], end=' ')\n",
    "    print()"
   ]
  },
  {
   "cell_type": "markdown",
   "id": "f640d5fe",
   "metadata": {},
   "source": [
    "<img src=\"./2Dim2.png\" width=\"500\" align=\"left\"/>"
   ]
  },
  {
   "cell_type": "code",
   "execution_count": 18,
   "id": "76c13fec",
   "metadata": {},
   "outputs": [],
   "source": [
    "def print(data):\n",
    "    for i in range(len(data)):\n",
    "        for j in range(len(data[i])):\n",
    "            print('{:3d}'.format(data[i][j]), end='')\n",
    "        print()"
   ]
  },
  {
   "cell_type": "code",
   "execution_count": 15,
   "id": "625c9dc1",
   "metadata": {
    "scrolled": true
   },
   "outputs": [
    {
     "name": "stdout",
     "output_type": "stream",
     "text": [
      "2차원 리스트를 만들려는 행과 열의 개수: 15 10\n",
      " 2 3 4 5 6 7 8 91011\n",
      "12121212121212121212\n",
      "14151617181920212223\n",
      "24242424242424242424\n",
      "26272829303132333435\n",
      "36363636363636363636\n",
      "38394041424344454647\n",
      "48484848484848484848\n",
      "50515253545556575859\n",
      "60606060606060606060\n",
      "62636465666768697071\n",
      "72727272727272727272\n",
      "74757677787980818283\n",
      "84848484848484848484\n",
      "86878889909192939495\n"
     ]
    }
   ],
   "source": [
    "row, col = map(int, input('2차원 리스트를 만들려는 행과 열의 개수: ').split())\n",
    "data = [[0] * col for _ in range(row)]\n",
    "n = 0 # 리스트에 1씩 증가하며 채워질 숫자가 기억되는 변수\n",
    "\n",
    "for i in range(len(data)): # 행\n",
    "    # 짝수행은 숫자가 왼쪽에서 오른쪽으로 채워지고 홀수행은 숫자가 오른쪽에서 왼쪽으로 채워진다.\n",
    "    n += 1\n",
    "    # 짝수행인가 홀수행인가 판단한다.\n",
    "    if i % 2 == 0: # 짝수인가?\n",
    "        # 짝수행은 왼쪽에서 오른쪽으로 숫자를 채운다. j => 0, 1, 2, 3, 4\n",
    "        for j in range(len(data[i])):\n",
    "            n += 1\n",
    "            data[i][j] = n\n",
    "    else:\n",
    "        # 홀수행은 오른쪽에서 왼쪽으로 숫자를 채운다. j => 4, 3, 2, 1, 0\n",
    "        for j in range(len(data[i]) - 1, -1, -1):\n",
    "            data[i][j] = n\n",
    "\n",
    "for i in range(len(data)):\n",
    "    for j in range(len(data[i])):\n",
    "        print('{:2d}'.format(data[i][j]), end='')\n",
    "    print()"
   ]
  },
  {
   "cell_type": "code",
   "execution_count": 17,
   "id": "5afb8224",
   "metadata": {},
   "outputs": [
    {
     "name": "stdout",
     "output_type": "stream",
     "text": [
      "2차원 리스트를 만들려는 행과 열의 개수: 4 5\n",
      "[i = 0, j = 0][i = 0, j = 1][i = 0, j = 2][i = 0, j = 3]\n",
      "[i = 1, j = 4][i = 1, j = 3][i = 1, j = 2][i = 1, j = 1]\n",
      "[i = 2, j = 0][i = 2, j = 1][i = 2, j = 2][i = 2, j = 3]\n",
      "[i = 3, j = 4][i = 3, j = 3][i = 3, j = 2][i = 3, j = 1]\n"
     ]
    }
   ],
   "source": [
    "# i = 0, j = 0, 1, 2, 3, 4 => range(0, 5, sw)\n",
    "# i = 1, j = 4, 3, 2, 1, 0 => range(4, -1, sw)\n",
    "# i = 2, j = 0, 1, 2, 3, 4 => range(0, 5, sw)\n",
    "# i = 3, j = 4, 3, 2, 1, 0 => range(4, -1, sw)\n",
    "row, col = map(int, input('2차원 리스트를 만들려는 행과 열의 개수: ').split())\n",
    "data = [[0] * col for _ in range(row)]\n",
    "n = 0\n",
    "start = 0 # 2차원 리스트에 숫자가 채워지기 시작하는 열 인덱스\n",
    "end = col - 1 # 2차원 리스트에 숫자가 채워지는 마지막 열 인덱스\n",
    "# 왼쪽에서 오른쪽으로, 오른쪽에서 왼쪽으로 숫자가 채워지는 방향을 제어하는 변수 \n",
    "sw = 1 # => start 부터 end까지 증가치로 사용할 변수\n",
    "\n",
    "for i in range(row):\n",
    "    for j in range(start, end, sw):\n",
    "        print(f'[i = {i}, j = {j}]', end='')\n",
    "    # ===== for j\n",
    "    start, end = end, start\n",
    "    sw *= -1\n",
    "    print()\n",
    "# ===== for i\n",
    "\n"
   ]
  },
  {
   "cell_type": "code",
   "execution_count": 19,
   "id": "f3d03719",
   "metadata": {},
   "outputs": [
    {
     "name": "stdout",
     "output_type": "stream",
     "text": [
      "2차원 리스트를 만들려는 행과 열의 개수: 4 5\n"
     ]
    },
    {
     "ename": "TypeError",
     "evalue": "print() got an unexpected keyword argument 'end'",
     "output_type": "error",
     "traceback": [
      "\u001b[1;31m---------------------------------------------------------------------------\u001b[0m",
      "\u001b[1;31mTypeError\u001b[0m                                 Traceback (most recent call last)",
      "\u001b[1;32m<ipython-input-19-14e6de412017>\u001b[0m in \u001b[0;36m<module>\u001b[1;34m\u001b[0m\n\u001b[0;32m     16\u001b[0m \u001b[1;32mfor\u001b[0m \u001b[0mi\u001b[0m \u001b[1;32min\u001b[0m \u001b[0mrange\u001b[0m\u001b[1;33m(\u001b[0m\u001b[0mlen\u001b[0m\u001b[1;33m(\u001b[0m\u001b[0mdata\u001b[0m\u001b[1;33m)\u001b[0m\u001b[1;33m)\u001b[0m\u001b[1;33m:\u001b[0m\u001b[1;33m\u001b[0m\u001b[1;33m\u001b[0m\u001b[0m\n\u001b[0;32m     17\u001b[0m     \u001b[1;32mfor\u001b[0m \u001b[0mj\u001b[0m \u001b[1;32min\u001b[0m \u001b[0mrange\u001b[0m\u001b[1;33m(\u001b[0m\u001b[0mlen\u001b[0m\u001b[1;33m(\u001b[0m\u001b[0mdata\u001b[0m\u001b[1;33m[\u001b[0m\u001b[0mi\u001b[0m\u001b[1;33m]\u001b[0m\u001b[1;33m)\u001b[0m\u001b[1;33m)\u001b[0m\u001b[1;33m:\u001b[0m\u001b[1;33m\u001b[0m\u001b[1;33m\u001b[0m\u001b[0m\n\u001b[1;32m---> 18\u001b[1;33m         \u001b[0mprint\u001b[0m\u001b[1;33m(\u001b[0m\u001b[1;34m'{:3d}'\u001b[0m\u001b[1;33m.\u001b[0m\u001b[0mformat\u001b[0m\u001b[1;33m(\u001b[0m\u001b[0mdata\u001b[0m\u001b[1;33m[\u001b[0m\u001b[0mi\u001b[0m\u001b[1;33m]\u001b[0m\u001b[1;33m[\u001b[0m\u001b[0mj\u001b[0m\u001b[1;33m]\u001b[0m\u001b[1;33m)\u001b[0m\u001b[1;33m,\u001b[0m \u001b[0mend\u001b[0m\u001b[1;33m=\u001b[0m\u001b[1;34m' '\u001b[0m\u001b[1;33m)\u001b[0m\u001b[1;33m\u001b[0m\u001b[1;33m\u001b[0m\u001b[0m\n\u001b[0m\u001b[0;32m     19\u001b[0m     \u001b[0mprint\u001b[0m\u001b[1;33m(\u001b[0m\u001b[1;33m)\u001b[0m\u001b[1;33m\u001b[0m\u001b[1;33m\u001b[0m\u001b[0m\n",
      "\u001b[1;31mTypeError\u001b[0m: print() got an unexpected keyword argument 'end'"
     ]
    }
   ],
   "source": [
    "row, col = map(int, input('2차원 리스트를 만들려는 행과 열의 개수: ').split())\n",
    "data = [[0] * col for _ in range(row)]\n",
    "n = 0\n",
    "start = [i for i in range(col)] # 왼쪽부터 오른쪽으로 진행하는 열 인덱스를 기억하는 리스트\n",
    "end = [i for i in range(col - 1, -1, -1)] # 오른쪽부터 왼쪽으로 진행하는 열 인덱스를 기억하는 리스트\n",
    "# print(start, end)\n",
    "\n",
    "for i in range(row):\n",
    "    for j in start:\n",
    "        n += 1\n",
    "        data[i][j] = n\n",
    "    # ===== for j\n",
    "    start, end = end, start\n",
    "# ===== for i\n",
    "\n",
    "for i in range(len(data)):\n",
    "    for j in range(len(data[i])):\n",
    "        print('{:3d}'.format(data[i][j]), end=' ')\n",
    "    print()"
   ]
  },
  {
   "cell_type": "code",
   "execution_count": null,
   "id": "15c8bba6",
   "metadata": {},
   "outputs": [],
   "source": []
  },
  {
   "cell_type": "code",
   "execution_count": null,
   "id": "82880b84",
   "metadata": {},
   "outputs": [],
   "source": []
  },
  {
   "cell_type": "code",
   "execution_count": null,
   "id": "2cb54c5d",
   "metadata": {},
   "outputs": [],
   "source": []
  },
  {
   "cell_type": "code",
   "execution_count": null,
   "id": "3f851f21",
   "metadata": {},
   "outputs": [],
   "source": []
  },
  {
   "cell_type": "code",
   "execution_count": null,
   "id": "b8130c35",
   "metadata": {},
   "outputs": [],
   "source": []
  },
  {
   "cell_type": "code",
   "execution_count": null,
   "id": "23fd7828",
   "metadata": {},
   "outputs": [],
   "source": []
  },
  {
   "cell_type": "code",
   "execution_count": null,
   "id": "a687ef15",
   "metadata": {},
   "outputs": [],
   "source": []
  },
  {
   "cell_type": "code",
   "execution_count": null,
   "id": "c52f3030",
   "metadata": {},
   "outputs": [],
   "source": []
  },
  {
   "cell_type": "code",
   "execution_count": null,
   "id": "e72a4506",
   "metadata": {},
   "outputs": [],
   "source": []
  },
  {
   "cell_type": "code",
   "execution_count": null,
   "id": "b99f73d7",
   "metadata": {},
   "outputs": [],
   "source": []
  }
 ],
 "metadata": {
  "kernelspec": {
   "display_name": "Python 3",
   "language": "python",
   "name": "python3"
  },
  "language_info": {
   "codemirror_mode": {
    "name": "ipython",
    "version": 3
   },
   "file_extension": ".py",
   "mimetype": "text/x-python",
   "name": "python",
   "nbconvert_exporter": "python",
   "pygments_lexer": "ipython3",
   "version": "3.6.8"
  }
 },
 "nbformat": 4,
 "nbformat_minor": 5
}

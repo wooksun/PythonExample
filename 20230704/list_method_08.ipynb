{
 "cells": [
  {
   "cell_type": "code",
   "execution_count": 9,
   "id": "039b9e9f",
   "metadata": {},
   "outputs": [
    {
     "name": "stdout",
     "output_type": "stream",
     "text": [
      "3\n",
      "================================================================================\n",
      "[1, 2, 3]\n",
      "[1, 2, 3, 4]\n",
      "================================================================================\n",
      "[1, 5, 2, 3, 4]\n",
      "================================================================================\n",
      "[1, 5, 2, 3, 999, 4]\n",
      "[1, 5, 2, 3, 999, 4, 777]\n",
      "[1, 5, 2, 3, 999, 4, 777, 333]\n"
     ]
    }
   ],
   "source": [
    "a = [1, 2, 3]\n",
    "\n",
    "# len() 함수로 리스트에 저장된 데이터의 개수를 얻어온다.\n",
    "\n",
    "print(len(a))\n",
    "print('=' * 80)\n",
    "\n",
    "# append(데이터) 메소드로 리스트이 맨 뒤에 데이터를 추가한다.\n",
    "print(a)\n",
    "a.append(4)\n",
    "print(a)\n",
    "print('=' * 80)\n",
    "\n",
    "# insert(인덱스, 데이터) 메소드로 리스트의 특정 인덱스 위치에 데이터를 삽입한다.\n",
    "a.insert(1, 5)\n",
    "print(a)\n",
    "print('=' * 80)\n",
    "\n",
    "# insert() 메소드와 len() 함수를 사용해서 append() 메소드 효과내기\n",
    "a.insert(-1, 999)\n",
    "print(a)\n",
    "a.insert(6, 777)\n",
    "print(a)\n",
    "a.insert(len(a), 333)\n",
    "print(a)"
   ]
  },
  {
   "cell_type": "code",
   "execution_count": 12,
   "id": "83ca8abc",
   "metadata": {},
   "outputs": [
    {
     "name": "stdout",
     "output_type": "stream",
     "text": [
      "[1, 5, 2, 3, 6, 4]\n",
      "[1, 2, 3, 4, 5, 6]\n",
      "================================================================================\n",
      "['d', 'b', 'a', 'c']\n",
      "['a', 'b', 'c', 'd']\n",
      "['홍길동', '임꺽정', '장길산', '일지매']\n",
      "['일지매', '임꺽정', '장길산', '홍길동']\n",
      "================================================================================\n",
      "['1', '010', '999', '50']\n",
      "['010', '1', '50', '999']\n",
      "================================================================================\n"
     ]
    }
   ],
   "source": [
    "# sort() 메소드로 리스트에 저장된 데이터를 별도의 설정이 없으면 오름차순(문자열은 가나다순)으로 정렬한다.\n",
    "a = [1, 5, 2, 3, 6, 4]\n",
    "print(a)\n",
    "a.sort()\n",
    "print(a)\n",
    "print('=' * 80)\n",
    "\n",
    "b = ['d', 'b', 'a', 'c']\n",
    "print(b)\n",
    "b.sort()\n",
    "print(b)\n",
    "\n",
    "c = ['홍길동', '임꺽정', '장길산', '일지매']\n",
    "print(c)\n",
    "c.sort()\n",
    "print(c)\n",
    "print('=' * 80)\n",
    "\n",
    "d = ['1', '010', '999', '50']\n",
    "print(d)\n",
    "d.sort()\n",
    "print(d)\n",
    "print('=' * 80)"
   ]
  },
  {
   "cell_type": "code",
   "execution_count": 13,
   "id": "57d24892",
   "metadata": {},
   "outputs": [
    {
     "name": "stdout",
     "output_type": "stream",
     "text": [
      "[1, 5, 2, 3, 6, 4]\n",
      "[6, 5, 4, 3, 2, 1]\n",
      "================================================================================\n",
      "['d', 'b', 'a', 'c']\n",
      "['d', 'c', 'b', 'a']\n",
      "['홍길동', '임꺽정', '장길산', '일지매']\n",
      "['홍길동', '장길산', '임꺽정', '일지매']\n",
      "================================================================================\n",
      "['1', '010', '999', '50']\n",
      "['999', '50', '1', '010']\n",
      "================================================================================\n"
     ]
    }
   ],
   "source": [
    "# sort() 메소드에 reverse=True 옵션을 지정하면 내림차순(문자열은 다나가순)으로 정렬한다.\n",
    "a = [1, 5, 2, 3, 6, 4]\n",
    "print(a)\n",
    "a.sort(reverse=True)\n",
    "print(a)\n",
    "print('=' * 80)\n",
    "\n",
    "b = ['d', 'b', 'a', 'c']\n",
    "print(b)\n",
    "b.sort(reverse=True)\n",
    "print(b)\n",
    "\n",
    "c = ['홍길동', '임꺽정', '장길산', '일지매']\n",
    "print(c)\n",
    "c.sort(reverse=True)\n",
    "print(c)\n",
    "print('=' * 80)\n",
    "\n",
    "d = ['1', '010', '999', '50']\n",
    "print(d)\n",
    "d.sort(reverse=True)\n",
    "print(d)\n",
    "print('=' * 80)"
   ]
  },
  {
   "cell_type": "code",
   "execution_count": 14,
   "id": "898ae7ba",
   "metadata": {},
   "outputs": [
    {
     "name": "stdout",
     "output_type": "stream",
     "text": [
      "[1, 5, 2, 3, 6, 4]\n",
      "[1, 2, 3, 4, 5, 6]\n",
      "[6, 5, 4, 3, 2, 1]\n"
     ]
    }
   ],
   "source": [
    "# reverse=True 옵션이 기억나지 않으면 오름차순으로 정렬하고 reverse() 메소드로 결과를 뒤집으면 된다.\n",
    "a = [1, 5, 2, 3, 6, 4]\n",
    "print(a)\n",
    "a.sort()\n",
    "print(a)\n",
    "a.reverse()\n",
    "print(a)"
   ]
  },
  {
   "cell_type": "code",
   "execution_count": 15,
   "id": "4611c37e",
   "metadata": {},
   "outputs": [
    {
     "name": "stdout",
     "output_type": "stream",
     "text": [
      "[1, 5, 2, 3, 6, 4]\n",
      "[1, 2, 3, 4, 5, 6]\n",
      "[6, 5, 4, 3, 2, 1]\n"
     ]
    }
   ],
   "source": [
    "# reverse=True 옵션도 기억나지 않고, reverse() 메소드도 기억나지 않는다면 [::-1]로 슬라이싱 하면 된다.\n",
    "a = [1, 5, 2, 3, 6, 4]\n",
    "print(a)\n",
    "a.sort()\n",
    "print(a)\n",
    "a = a[::-1]\n",
    "print(a)"
   ]
  },
  {
   "cell_type": "code",
   "execution_count": 16,
   "id": "7446eba6",
   "metadata": {},
   "outputs": [
    {
     "ename": "TypeError",
     "evalue": "'<' not supported between instances of 'str' and 'int'",
     "output_type": "error",
     "traceback": [
      "\u001b[1;31m---------------------------------------------------------------------------\u001b[0m",
      "\u001b[1;31mTypeError\u001b[0m                                 Traceback (most recent call last)",
      "\u001b[1;32m<ipython-input-16-c76617cca7a0>\u001b[0m in \u001b[0;36m<module>\u001b[1;34m\u001b[0m\n\u001b[0;32m      1\u001b[0m \u001b[1;31m# 정렬할 데이터가 저장된 리스트에 2가지 이상의 데이터 타입이 존재하면 에러가 발생된다.\u001b[0m\u001b[1;33m\u001b[0m\u001b[1;33m\u001b[0m\u001b[1;33m\u001b[0m\u001b[0m\n\u001b[0;32m      2\u001b[0m \u001b[0ma\u001b[0m \u001b[1;33m=\u001b[0m \u001b[1;33m[\u001b[0m\u001b[1;36m1\u001b[0m\u001b[1;33m,\u001b[0m \u001b[1;34m'a'\u001b[0m\u001b[1;33m,\u001b[0m \u001b[1;36m2\u001b[0m\u001b[1;33m,\u001b[0m \u001b[1;34m'b'\u001b[0m\u001b[1;33m]\u001b[0m\u001b[1;33m\u001b[0m\u001b[1;33m\u001b[0m\u001b[0m\n\u001b[1;32m----> 3\u001b[1;33m \u001b[0ma\u001b[0m\u001b[1;33m.\u001b[0m\u001b[0msort\u001b[0m\u001b[1;33m(\u001b[0m\u001b[1;33m)\u001b[0m\u001b[1;33m\u001b[0m\u001b[1;33m\u001b[0m\u001b[0m\n\u001b[0m",
      "\u001b[1;31mTypeError\u001b[0m: '<' not supported between instances of 'str' and 'int'"
     ]
    }
   ],
   "source": [
    "# 정렬할 데이터가 저장된 리스트에 2가지 이상의 데이터 타입이 존재하면 에러가 발생된다.\n",
    "a = [1, 'a', 2, 'b']\n",
    "a.sort()"
   ]
  },
  {
   "cell_type": "code",
   "execution_count": 19,
   "id": "2835997c",
   "metadata": {},
   "outputs": [
    {
     "name": "stdout",
     "output_type": "stream",
     "text": [
      "[1, 5, 2, 3, 6, 4]\n",
      "[1, 5, 2, 3, 6, 4]\n",
      "[1, 2, 3, 4, 5, 6]\n",
      "[6, 5, 4, 3, 2, 1]\n"
     ]
    }
   ],
   "source": [
    "# sorted() 함수를 사용해도 리스트에 저장된 데이터의 정렬이 가능하다.\n",
    "# sort() 메소드와 sorted() 함수의 차이점은 sort() 메소드는 메소드가 실행되는 리스트의 내용이 수정되고, \n",
    "# sorted() 함수는 함수가 실행된 결과를 리턴하므로 함수가 실행되는 리스트의 내용이 수정되지 않는다.\n",
    "a = [1, 5, 2, 3, 6, 4]\n",
    "print(a)\n",
    "sorted(a)\n",
    "print(a)\n",
    "a = sorted(a)\n",
    "print(a)\n",
    "a = sorted(a, reverse=True)\n",
    "print(a)"
   ]
  },
  {
   "cell_type": "code",
   "execution_count": 21,
   "id": "4409513b",
   "metadata": {},
   "outputs": [
    {
     "name": "stdout",
     "output_type": "stream",
     "text": [
      "4\n",
      "0\n"
     ]
    }
   ],
   "source": [
    "# count() 메소드로 리스트의 데이터 요소 중에서 특정 데이터의 출현 횟수(개수)를 얻어올 수 있다.\n",
    "a = [1, 2, 3, 1, 3, 1, 4, 1, 5]\n",
    "print(a.count(1))\n",
    "print(a.count(6))"
   ]
  },
  {
   "cell_type": "code",
   "execution_count": 22,
   "id": "9351d963",
   "metadata": {},
   "outputs": [
    {
     "name": "stdout",
     "output_type": "stream",
     "text": [
      "2\n"
     ]
    },
    {
     "ename": "ValueError",
     "evalue": "6 is not in list",
     "output_type": "error",
     "traceback": [
      "\u001b[1;31m---------------------------------------------------------------------------\u001b[0m",
      "\u001b[1;31mValueError\u001b[0m                                Traceback (most recent call last)",
      "\u001b[1;32m<ipython-input-22-fc340567e19c>\u001b[0m in \u001b[0;36m<module>\u001b[1;34m\u001b[0m\n\u001b[0;32m      3\u001b[0m \u001b[0mprint\u001b[0m\u001b[1;33m(\u001b[0m\u001b[0ma\u001b[0m\u001b[1;33m.\u001b[0m\u001b[0mindex\u001b[0m\u001b[1;33m(\u001b[0m\u001b[1;36m3\u001b[0m\u001b[1;33m)\u001b[0m\u001b[1;33m)\u001b[0m\u001b[1;33m\u001b[0m\u001b[1;33m\u001b[0m\u001b[0m\n\u001b[0;32m      4\u001b[0m \u001b[1;31m# 인수로 지정한 데이터가 리스트에 없으면 에러가 발생된다.\u001b[0m\u001b[1;33m\u001b[0m\u001b[1;33m\u001b[0m\u001b[1;33m\u001b[0m\u001b[0m\n\u001b[1;32m----> 5\u001b[1;33m \u001b[0mprint\u001b[0m\u001b[1;33m(\u001b[0m\u001b[0ma\u001b[0m\u001b[1;33m.\u001b[0m\u001b[0mindex\u001b[0m\u001b[1;33m(\u001b[0m\u001b[1;36m6\u001b[0m\u001b[1;33m)\u001b[0m\u001b[1;33m)\u001b[0m \u001b[1;31m# 에러\u001b[0m\u001b[1;33m\u001b[0m\u001b[1;33m\u001b[0m\u001b[0m\n\u001b[0m",
      "\u001b[1;31mValueError\u001b[0m: 6 is not in list"
     ]
    }
   ],
   "source": [
    "# index() 메소드로 리스트의 데이터 요소 중에서 특정 데이터의 출현 횟수(개수)를 얻어올 수 있다.\n",
    "a = [1, 2, 3, 1, 3, 1, 4, 1, 5]\n",
    "print(a.index(3))\n",
    "# 인수로 지정한 데이터가 리스트에 없으면 에러가 발생된다.\n",
    "print(a.index(6)) # 에러"
   ]
  },
  {
   "cell_type": "code",
   "execution_count": 25,
   "id": "6f7cc70b",
   "metadata": {},
   "outputs": [
    {
     "name": "stdout",
     "output_type": "stream",
     "text": [
      "[1, 2, 3, 4, 5, 3]\n",
      "[1, 2, 4, 5, 3]\n",
      "[1, 2, 4, 5]\n"
     ]
    },
    {
     "ename": "ValueError",
     "evalue": "list.remove(x): x not in list",
     "output_type": "error",
     "traceback": [
      "\u001b[1;31m---------------------------------------------------------------------------\u001b[0m",
      "\u001b[1;31mValueError\u001b[0m                                Traceback (most recent call last)",
      "\u001b[1;32m<ipython-input-25-e2e0f61cdf62>\u001b[0m in \u001b[0;36m<module>\u001b[1;34m\u001b[0m\n\u001b[0;32m      6\u001b[0m \u001b[0ma\u001b[0m\u001b[1;33m.\u001b[0m\u001b[0mremove\u001b[0m\u001b[1;33m(\u001b[0m\u001b[1;36m3\u001b[0m\u001b[1;33m)\u001b[0m\u001b[1;33m\u001b[0m\u001b[1;33m\u001b[0m\u001b[0m\n\u001b[0;32m      7\u001b[0m \u001b[0mprint\u001b[0m\u001b[1;33m(\u001b[0m\u001b[0ma\u001b[0m\u001b[1;33m)\u001b[0m\u001b[1;33m\u001b[0m\u001b[1;33m\u001b[0m\u001b[0m\n\u001b[1;32m----> 8\u001b[1;33m \u001b[0ma\u001b[0m\u001b[1;33m.\u001b[0m\u001b[0mremove\u001b[0m\u001b[1;33m(\u001b[0m\u001b[1;36m3\u001b[0m\u001b[1;33m)\u001b[0m\u001b[1;33m\u001b[0m\u001b[1;33m\u001b[0m\u001b[0m\n\u001b[0m\u001b[0;32m      9\u001b[0m \u001b[0mprint\u001b[0m\u001b[1;33m(\u001b[0m\u001b[0ma\u001b[0m\u001b[1;33m)\u001b[0m\u001b[1;33m\u001b[0m\u001b[1;33m\u001b[0m\u001b[0m\n",
      "\u001b[1;31mValueError\u001b[0m: list.remove(x): x not in list"
     ]
    }
   ],
   "source": [
    "# remove() 메소드로 인수로 지정한 첫번째 데이터를 리스트에서 제거한다.\n",
    "a = [1, 2, 3, 4, 5, 3]\n",
    "print(a)\n",
    "a.remove(3) # 인수로 지정한 데이터가 리스트에 여러개 있다면, 맨 처음 데이터가 제거된다.\n",
    "print(a)\n",
    "a.remove(3) # 한번 더 실행해야 나머지 3이 제거된다.\n",
    "print(a)\n",
    "a.remove(3) # 에러 => 위에 remove에서 인수가 모두 지워져 list에서 지워졌기 때문에 데이터가 존재하지 않은 상태에서 remove() 메소드를 실행했기 때문\n",
    "print(a)"
   ]
  },
  {
   "cell_type": "code",
   "execution_count": 28,
   "id": "cf563e07",
   "metadata": {},
   "outputs": [
    {
     "name": "stdout",
     "output_type": "stream",
     "text": [
      "[1, 2, 3, 4, 5, 3]\n",
      "[1, 2, 3, 4, 5]\n",
      "[1, 2, 3, 4]\n",
      "================================================================================\n",
      "[1, 3, 4]\n"
     ]
    }
   ],
   "source": [
    "# pop() 메소드는 별도의 설정이 없으면 리스트의 맨 마지막 데이터를 제거한다.\n",
    "a = [1, 2, 3, 4, 5, 3]\n",
    "print(a)\n",
    "a.pop()\n",
    "print(a)\n",
    "a.pop()\n",
    "print(a)\n",
    "print('=' * 80)\n",
    "\n",
    "# pop() 메소드에 삭제할 인덱스를 지정하면 지정한 인덱스 위치의 데이터가 제거된다.\n",
    "a.pop(1)\n",
    "print(a)\n",
    "a.pop(3)\n",
    "print(a) # 에러, 삭제하라고 지정한 인덱스가 리스트의 범위를 벗어나면 에러가 발생된다."
   ]
  },
  {
   "cell_type": "code",
   "execution_count": 30,
   "id": "3a492527",
   "metadata": {},
   "outputs": [
    {
     "name": "stdout",
     "output_type": "stream",
     "text": [
      "[1, 2, 3, 4, 5, 3]\n",
      "[1, 2, 4, 5, 3]\n",
      "[1, 2, 4, 3]\n"
     ]
    }
   ],
   "source": [
    "# remove() 메소드는 리스트의 데이터를 제거만하지만, pop() 메소드는 데이터를 제거하기 전에 제거하려는 데이터를 얻어온다.\n",
    "a = [1, 2, 3, 4, 5, 3]\n",
    "print(a)\n",
    "a.remove(3)\n",
    "print(a)\n",
    "a.pop(3) # [0,1,2,3번째 => 5]\n",
    "print(a)"
   ]
  },
  {
   "cell_type": "markdown",
   "id": "5034a563",
   "metadata": {},
   "source": [
    "두 기억장소에 저장된 데이터 교환하기"
   ]
  },
  {
   "cell_type": "code",
   "execution_count": 41,
   "id": "839816e7",
   "metadata": {},
   "outputs": [
    {
     "name": "stdout",
     "output_type": "stream",
     "text": [
      "a = 3, b = 4\n",
      "a = 4, b = 3\n",
      "a = 3, b = 4\n",
      "a = 4, b = 3\n",
      "a = 3, b = 4\n"
     ]
    }
   ],
   "source": [
    "a = 3\n",
    "b = 4\n",
    "c = 0\n",
    "print(f'a = {a}, b = {b}') # a = 3, b = 4\n",
    "\n",
    "# 모든 언어에서 공통적으로 사용할 수 있는 방법\n",
    "c = a\n",
    "a = b\n",
    "b = c\n",
    "print(f'a = {a}, b = {b}') # a = 4, b = 3 / 값 교환\n",
    "\n",
    "# 파이썬에서만 사용할 수 있는 방법 - 리스트 사용\n",
    "[a, b] = [b, a]\n",
    "print(f'a = {a}, b = {b}') # a = 3, b = 4 / 값 교환\n",
    "\n",
    "# 파이썬에서만 사용할 수 있는 방법 - 튜플 사용\n",
    "(a, b) = (b, a)\n",
    "print(f'a = {a}, b = {b}') # a = 4, b = 3 / 값 교환\n",
    "\n",
    "# 데이터를 ','를 찍어서 나열하면 튜플로 인식한다.\n",
    "a, b = b, a\n",
    "print(f'a = {a}, b = {b}') # a = 3, b = 4 / 값 교환"
   ]
  },
  {
   "cell_type": "code",
   "execution_count": null,
   "id": "92e863de",
   "metadata": {},
   "outputs": [],
   "source": []
  },
  {
   "cell_type": "code",
   "execution_count": null,
   "id": "2cb3b422",
   "metadata": {},
   "outputs": [],
   "source": []
  },
  {
   "cell_type": "code",
   "execution_count": null,
   "id": "5f559d49",
   "metadata": {},
   "outputs": [],
   "source": []
  }
 ],
 "metadata": {
  "kernelspec": {
   "display_name": "Python 3",
   "language": "python",
   "name": "python3"
  },
  "language_info": {
   "codemirror_mode": {
    "name": "ipython",
    "version": 3
   },
   "file_extension": ".py",
   "mimetype": "text/x-python",
   "name": "python",
   "nbconvert_exporter": "python",
   "pygments_lexer": "ipython3",
   "version": "3.6.8"
  }
 },
 "nbformat": 4,
 "nbformat_minor": 5
}

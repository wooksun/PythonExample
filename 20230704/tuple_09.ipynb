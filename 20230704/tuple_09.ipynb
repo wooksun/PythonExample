{
 "cells": [
  {
   "cell_type": "markdown",
   "id": "b87fe1bf",
   "metadata": {},
   "source": [
    "튜플 만들기\n",
    "\n",
    "튜플은 리스트와 거의 비슷하지만, 약간의 차이가 있다.  \n",
    "리스트는 데이터를 []로 감싸지만, 튜플은 ()로 감싼다.  \n",
    "리스트는 데이터 요소의 수정 및 삭제가 가능하지만, 튜플은 불가능하다."
   ]
  },
  {
   "cell_type": "code",
   "execution_count": 3,
   "id": "8a6f5efc",
   "metadata": {},
   "outputs": [
    {
     "name": "stdout",
     "output_type": "stream",
     "text": [
      "<class 'tuple'>\n",
      "()\n",
      "================================================================================\n",
      "<class 'tuple'>\n",
      "()\n"
     ]
    }
   ],
   "source": [
    "# 빈 튜플 만들기\n",
    "a = ()\n",
    "print(type(a))\n",
    "print(a)\n",
    "print('=' * 80)\n",
    "\n",
    "# 빈 튜플은 생성자 함수를 사용해서도 만들 수 있다.\n",
    "b = tuple()\n",
    "print(type(b))\n",
    "print(b)"
   ]
  },
  {
   "cell_type": "code",
   "execution_count": 6,
   "id": "6b96edc1",
   "metadata": {},
   "outputs": [
    {
     "name": "stdout",
     "output_type": "stream",
     "text": [
      "<class 'list'>\n",
      "[1]\n",
      "================================================================================\n",
      "<class 'int'>\n",
      "1\n",
      "================================================================================\n",
      "<class 'tuple'>\n",
      "(1,)\n"
     ]
    }
   ],
   "source": [
    "# 데이터가 1개인 리스트\n",
    "a = [1]\n",
    "print(type(a))\n",
    "print(a)\n",
    "print('=' * 80)\n",
    "\n",
    "# 데이터가 1개인 튜플을 만들려는 경우 ()만 사용하면 ()를 튜플로 인식하는 것이 아닌 일반 연산식의 우선순위 지정에 사용하는 ()로 인식한다.\n",
    "b = (1)\n",
    "print(type(b))\n",
    "print(b)\n",
    "print('=' * 80)\n",
    "\n",
    "# 데이터가 1개인 튜플\n",
    "# 데이터가 1개인 튜플을 만들려면 ()안의 데이터 뒤에 ','를 반드시 써야한다.\n",
    "c = (1,)\n",
    "print(type(c))\n",
    "print(c)"
   ]
  },
  {
   "cell_type": "code",
   "execution_count": null,
   "id": "aca6b49c",
   "metadata": {},
   "outputs": [],
   "source": []
  },
  {
   "cell_type": "code",
   "execution_count": null,
   "id": "7e9a4061",
   "metadata": {},
   "outputs": [],
   "source": []
  },
  {
   "cell_type": "code",
   "execution_count": null,
   "id": "0cb5943b",
   "metadata": {},
   "outputs": [],
   "source": []
  },
  {
   "cell_type": "code",
   "execution_count": null,
   "id": "be64db56",
   "metadata": {},
   "outputs": [],
   "source": []
  },
  {
   "cell_type": "code",
   "execution_count": null,
   "id": "3da814ea",
   "metadata": {},
   "outputs": [],
   "source": []
  },
  {
   "cell_type": "code",
   "execution_count": null,
   "id": "d887ea89",
   "metadata": {},
   "outputs": [],
   "source": []
  },
  {
   "cell_type": "code",
   "execution_count": null,
   "id": "cd717129",
   "metadata": {},
   "outputs": [],
   "source": []
  },
  {
   "cell_type": "code",
   "execution_count": null,
   "id": "56f35f57",
   "metadata": {},
   "outputs": [],
   "source": []
  },
  {
   "cell_type": "code",
   "execution_count": null,
   "id": "ff0a7560",
   "metadata": {},
   "outputs": [],
   "source": []
  },
  {
   "cell_type": "code",
   "execution_count": null,
   "id": "a83ca35d",
   "metadata": {},
   "outputs": [],
   "source": []
  },
  {
   "cell_type": "code",
   "execution_count": null,
   "id": "e2f03fb5",
   "metadata": {},
   "outputs": [],
   "source": []
  }
 ],
 "metadata": {
  "kernelspec": {
   "display_name": "Python 3",
   "language": "python",
   "name": "python3"
  },
  "language_info": {
   "codemirror_mode": {
    "name": "ipython",
    "version": 3
   },
   "file_extension": ".py",
   "mimetype": "text/x-python",
   "name": "python",
   "nbconvert_exporter": "python",
   "pygments_lexer": "ipython3",
   "version": "3.6.8"
  }
 },
 "nbformat": 4,
 "nbformat_minor": 5
}

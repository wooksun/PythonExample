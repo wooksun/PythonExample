{
 "cells": [
  {
   "cell_type": "markdown",
   "id": "3df26bb9",
   "metadata": {},
   "source": [
    "range() 함수\n",
    "\n",
    "range() 함수는 지정한 초기치, 최종치, 증가치에 따른 숫자 리스트를 만든다.  \n",
    "range() 함수는 초기치부터 증가치 만큼씩 증가하며 최종치를 넘어가지 않는 숫자 리스트를 만든다.\n",
    "***  \n",
    "형식  \n",
    "range([초기치, ]최종치[, 증가치])\n",
    "초기치와 증가치는 생략할 수 있고, 초기치가 생략되면 0이 기본값이 되고, 증가치가 생략되면 1이 기본값으로 사용된다.  \n",
    "즉, range(0, 10, 1)과 range(10)은 같은 표현이다."
   ]
  },
  {
   "cell_type": "code",
   "execution_count": 6,
   "id": "a3efe09b",
   "metadata": {},
   "outputs": [
    {
     "name": "stdout",
     "output_type": "stream",
     "text": [
      "range(0, 10)\n",
      "[0, 1, 2, 3, 4, 5, 6, 7, 8, 9]\n",
      "[0, 1, 2, 3, 4, 5, 6, 7, 8, 9]\n",
      "[0, 2, 4, 6, 8]\n",
      "[1, 3, 5, 7, 9]\n",
      "[9, 8, 7, 6, 5, 4, 3, 2, 1, 0]\n"
     ]
    }
   ],
   "source": [
    "print(range(0, 10, 1))\n",
    "# range() 함수가 실행된 결과(리스트)는 list() 생성자 함수를 사용해서 확인한다.\n",
    "print(list(range(0, 10, 1)))\n",
    "print(list(range(10))) # 초기치와 증가치는 생략 가능 => 기본값은 각 0과 1\n",
    "print(list(range(0, 10, 2)))\n",
    "print(list(range(1, 10, 2)))\n",
    "print(list(range(9, -1, -1)))"
   ]
  },
  {
   "cell_type": "markdown",
   "id": "a8e85632",
   "metadata": {},
   "source": [
    "for\n",
    "\n",
    "제어 변수에 리스트, 튜플, 딕셔너리, set에 저장된 데이터가 처음부터 마지막까지 차례대로 대입되며 반복한다.  \n",
    "***\n",
    "for 변수 in 리스트 or 튜플 or 딕셔너리 or set:  \n",
    "&nbsp;&nbsp;&nbsp;&nbsp;반복할 문장  \n",
    "&nbsp;&nbsp;&nbsp;&nbsp;..."
   ]
  },
  {
   "cell_type": "code",
   "execution_count": 8,
   "id": "5ad58c3d",
   "metadata": {},
   "outputs": [
    {
     "name": "stdout",
     "output_type": "stream",
     "text": [
      "0\n",
      "1\n",
      "2\n",
      "3\n",
      "4\n"
     ]
    }
   ],
   "source": [
    "# print(list(range(5)))\n",
    "# for i in [0, 1, 2, 3, 4]:\n",
    "for i in range(5):\n",
    "    print(i)"
   ]
  },
  {
   "cell_type": "code",
   "execution_count": 9,
   "id": "e6aa1dfb",
   "metadata": {},
   "outputs": [
    {
     "name": "stdout",
     "output_type": "stream",
     "text": [
      "55\n"
     ]
    }
   ],
   "source": [
    "# 1 ~ 10의 합계 ~ while 사용\n",
    "i = 0\n",
    "total = 0\n",
    "while i < 10:\n",
    "    i += 1\n",
    "    total += i\n",
    "# ========== while\n",
    "print(total)"
   ]
  },
  {
   "cell_type": "code",
   "execution_count": 10,
   "id": "39c2fdd0",
   "metadata": {},
   "outputs": [
    {
     "name": "stdout",
     "output_type": "stream",
     "text": [
      "55\n"
     ]
    }
   ],
   "source": [
    "# 1 ~ 10의 합계 ~ for사용\n",
    "total = 0\n",
    "for i in range(1, 11, 1):\n",
    "    total += i\n",
    "# ====== for\n",
    "print(total)"
   ]
  },
  {
   "cell_type": "markdown",
   "id": "21cf1788",
   "metadata": {},
   "source": [
    "주사위를 10번 굴려서 출현한 눈의 개수를 센다. => 변수 사용"
   ]
  },
  {
   "cell_type": "code",
   "execution_count": 11,
   "id": "8e64ca19",
   "metadata": {},
   "outputs": [],
   "source": [
    "import random"
   ]
  },
  {
   "cell_type": "code",
   "execution_count": 42,
   "id": "f36b89c8",
   "metadata": {},
   "outputs": [
    {
     "name": "stdout",
     "output_type": "stream",
     "text": [
      "2 5 2 3 5 1 6 2 3 1 \n",
      "================================================================================\n",
      "1의 개수: 2\n",
      "2의 개수: 3\n",
      "3의 개수: 2\n",
      "4의 개수: 0\n",
      "5의 개수: 2\n",
      "6의 개수: 1\n"
     ]
    }
   ],
   "source": [
    "# 1부터 6사이의 주사위 눈의 개수를 기억할 변수 6개를 선언하고 각각 0으로 초기화시킨다.\n",
    "num1 = 0; num2 = 0; num3 = 0; num4 = 0; num5 = 0; num6 = 0\n",
    "# 주사위를 10번 굴린다.\n",
    "for i in range(10):\n",
    "    # 주사위를 굴린다.\n",
    "    dice = random.randint(1, 6);\n",
    "    print(dice, end=' ')\n",
    "    # 주사위를 굴려 발생한 눈의 개수를 증가시킨다.\n",
    "    if dice == 1:\n",
    "        num1 += 1\n",
    "    elif dice == 2:\n",
    "        num2 += 1\n",
    "    elif dice == 3:\n",
    "        num3 += 1\n",
    "    elif dice == 4:\n",
    "        num4 += 1\n",
    "    elif dice == 5:\n",
    "        num5 += 1\n",
    "    else :\n",
    "        num6 += 1\n",
    "    # ====== if\n",
    "# ====== for\n",
    "print('\\n' + '=' * 80)\n",
    "\n",
    "# 주사위의 눈의 개수를 출력한다.\n",
    "print('1의 개수: {}'.format(num1))\n",
    "print('2의 개수: {}'.format(num2))\n",
    "print('3의 개수: {}'.format(num3))\n",
    "print('4의 개수: {}'.format(num4))\n",
    "print('5의 개수: {}'.format(num5))\n",
    "print('6의 개수: {}'.format(num6))"
   ]
  },
  {
   "cell_type": "markdown",
   "id": "b536f863",
   "metadata": {},
   "source": [
    "주사위를  10번 굴려서 출현한 눈의 개수를 센다. => 리스트 사용"
   ]
  },
  {
   "cell_type": "code",
   "execution_count": 60,
   "id": "9b1f8bdf",
   "metadata": {},
   "outputs": [
    {
     "name": "stdout",
     "output_type": "stream",
     "text": [
      "3 5 4 6 4 4 6 6 4 1 \n",
      "================================================================================\n",
      "1의 개수: 1\n",
      "2의 개수: 0\n",
      "3의 개수: 1\n",
      "4의 개수: 4\n",
      "5의 개수: 1\n",
      "6의 개수: 3\n"
     ]
    }
   ],
   "source": [
    "# 1. 주사위 눈의 개수를 기억할 크기가 6인 0으로 초기화 된 리스트를 만든다.\n",
    "# count = [0, 0, 0, 0, 0, 0]\n",
    "# count = [0] * 6\n",
    "# print(count)\n",
    "\n",
    "# 2. 빈 리스트를 선언하고, append() 메소드로 0을 넣어준다.\n",
    "# count = []\n",
    "# for i in range(6):\n",
    "#    count.append(0)\n",
    "# print(count)\n",
    "\n",
    "#. 3 반복문을 사용해서 리스트를 만든다. => 리스트 컴프리핸션\n",
    "count = [0 for i in range(6)]\n",
    "# print(count)\n",
    "for i in range(10):\n",
    "    # 주사위를 굴린다.\n",
    "    dice = random.randint(1, 6);\n",
    "    print(dice, end=' ')\n",
    "    # 주사위를 굴려 발생한 눈의 개수를 증가시킨다.\n",
    "    if dice == 1:\n",
    "        count[0] += 1\n",
    "    elif dice == 2:\n",
    "        count[1] += 1\n",
    "    elif dice == 3:\n",
    "        count[2] += 1\n",
    "    elif dice == 4:\n",
    "        count[3] += 1\n",
    "    elif dice == 5:\n",
    "        count[4] += 1\n",
    "    else :\n",
    "        count[5] += 1\n",
    "    # ====== if\n",
    "# ====== for\n",
    "print('\\n' + '=' * 80)\n",
    "\n",
    "print('1의 개수: {}'.format(count[0]))\n",
    "print('2의 개수: {}'.format(count[1]))\n",
    "print('3의 개수: {}'.format(count[2]))\n",
    "print('4의 개수: {}'.format(count[3]))\n",
    "print('5의 개수: {}'.format(count[4]))\n",
    "print('6의 개수: {}'.format(count[5]))"
   ]
  },
  {
   "cell_type": "code",
   "execution_count": 71,
   "id": "361772ef",
   "metadata": {
    "scrolled": true
   },
   "outputs": [
    {
     "name": "stdout",
     "output_type": "stream",
     "text": [
      "6 5 2 3 4 5 3 4 2 6 \n",
      "================================================================================\n",
      "1의 개수: 0\n",
      "2의 개수: 2\n",
      "3의 개수: 2\n",
      "4의 개수: 2\n",
      "5의 개수: 2\n",
      "6의 개수: 2\n"
     ]
    }
   ],
   "source": [
    "count = [0 for i in range(6)]\n",
    "# print(count)\n",
    "for i in range(10):\n",
    "    # 주사위를 굴린다.\n",
    "    dice = random.randint(1, 6);\n",
    "    print(dice, end=' ')\n",
    "    # 주사위를 굴려 발생한 눈의 개수를 증가시킨다.\n",
    "    if dice == 1:\n",
    "        count[0] += 1\n",
    "    elif dice == 2:\n",
    "        count[1] += 1\n",
    "    elif dice == 3:\n",
    "        count[2] += 1\n",
    "    elif dice == 4:\n",
    "        count[3] += 1\n",
    "    elif dice == 5:\n",
    "        count[4] += 1\n",
    "    else :\n",
    "        count[5] += 1\n",
    "    # ====== if\n",
    "# ====== for\n",
    "print('\\n' + '=' * 80)\n",
    "\n",
    "for i in range(len(count)):\n",
    "    # print('{}의 개수: {}'.format(i + 1, count[i]))\n",
    "    print(f'{i + 1}의 개수: {count[i]}') # 위와 같은 결과"
   ]
  },
  {
   "cell_type": "code",
   "execution_count": 79,
   "id": "fbd2ca18",
   "metadata": {
    "scrolled": true
   },
   "outputs": [
    {
     "name": "stdout",
     "output_type": "stream",
     "text": [
      "2 4 1 2 1 3 5 6 1 3 \n",
      "================================================================================\n",
      "1의 개수: 3\n",
      "2의 개수: 2\n",
      "3의 개수: 2\n",
      "4의 개수: 1\n",
      "5의 개수: 1\n",
      "6의 개수: 1\n"
     ]
    }
   ],
   "source": [
    "count = [0 for i in range(6)]\n",
    "for i in range(10):\n",
    "    dice = random.randint(1, 6);\n",
    "    print(dice, end=' ')\n",
    "    count[dice - 1] += 1\n",
    "    # ====== if\n",
    "# ====== for\n",
    "print('\\n' + '=' * 80)\n",
    "\n",
    "for i in range(len(count)):\n",
    "    print(f'{i + 1}의 개수: {count[i]}') "
   ]
  },
  {
   "cell_type": "code",
   "execution_count": null,
   "id": "aa0feb9c",
   "metadata": {},
   "outputs": [],
   "source": []
  },
  {
   "cell_type": "code",
   "execution_count": null,
   "id": "73402e51",
   "metadata": {},
   "outputs": [],
   "source": []
  },
  {
   "cell_type": "code",
   "execution_count": null,
   "id": "04162681",
   "metadata": {},
   "outputs": [],
   "source": []
  },
  {
   "cell_type": "code",
   "execution_count": null,
   "id": "eb09bb52",
   "metadata": {},
   "outputs": [],
   "source": []
  },
  {
   "cell_type": "code",
   "execution_count": null,
   "id": "57d742ce",
   "metadata": {},
   "outputs": [],
   "source": []
  },
  {
   "cell_type": "code",
   "execution_count": null,
   "id": "84cff104",
   "metadata": {},
   "outputs": [],
   "source": []
  },
  {
   "cell_type": "code",
   "execution_count": null,
   "id": "9a14d277",
   "metadata": {},
   "outputs": [],
   "source": []
  },
  {
   "cell_type": "code",
   "execution_count": null,
   "id": "2c0eb8d2",
   "metadata": {},
   "outputs": [],
   "source": []
  },
  {
   "cell_type": "code",
   "execution_count": null,
   "id": "66a8b23d",
   "metadata": {},
   "outputs": [],
   "source": []
  },
  {
   "cell_type": "code",
   "execution_count": null,
   "id": "b51057f0",
   "metadata": {},
   "outputs": [],
   "source": []
  },
  {
   "cell_type": "code",
   "execution_count": null,
   "id": "b08f7070",
   "metadata": {},
   "outputs": [],
   "source": []
  },
  {
   "cell_type": "code",
   "execution_count": null,
   "id": "2bc9e78d",
   "metadata": {},
   "outputs": [],
   "source": []
  },
  {
   "cell_type": "code",
   "execution_count": null,
   "id": "68387481",
   "metadata": {},
   "outputs": [],
   "source": []
  }
 ],
 "metadata": {
  "kernelspec": {
   "display_name": "Python 3",
   "language": "python",
   "name": "python3"
  },
  "language_info": {
   "codemirror_mode": {
    "name": "ipython",
    "version": 3
   },
   "file_extension": ".py",
   "mimetype": "text/x-python",
   "name": "python",
   "nbconvert_exporter": "python",
   "pygments_lexer": "ipython3",
   "version": "3.6.8"
  }
 },
 "nbformat": 4,
 "nbformat_minor": 5
}

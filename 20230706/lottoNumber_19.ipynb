{
 "cells": [
  {
   "cell_type": "code",
   "execution_count": 1,
   "id": "76d0fac9",
   "metadata": {},
   "outputs": [],
   "source": [
    "import random\n",
    "lotto = [i for i in range(1, 46)]"
   ]
  },
  {
   "cell_type": "code",
   "execution_count": null,
   "id": "b7aa8738",
   "metadata": {},
   "outputs": [],
   "source": [
    "# 로또 복권 구매 금액을 입력받아, 입력받은 금액만큼 로또 번호를 생성하는 프로그램\n",
    "# 로또 복권 구매 금액을 입력받는다.\n",
    "money = int(input('로또 복권 구매 금액을 입력하세요: '))\n",
    "# 로또 복권 구매 금액만큼 반복하며 로또 번호를 생성한다.\n",
    "for i in range(money // 1000):\n",
    "    random.shuffle(lotto)\n",
    "    print('{:3d} game: '.format(i + 1), end='')\n",
    "    for j in range(6):\n",
    "        print('{:02d} '.format(lotto[j]), end='')\n",
    "    print()"
   ]
  },
  {
   "cell_type": "code",
   "execution_count": null,
   "id": "daf3901a",
   "metadata": {},
   "outputs": [],
   "source": []
  },
  {
   "cell_type": "code",
   "execution_count": null,
   "id": "1825267d",
   "metadata": {},
   "outputs": [],
   "source": []
  },
  {
   "cell_type": "code",
   "execution_count": null,
   "id": "a88b402a",
   "metadata": {},
   "outputs": [],
   "source": []
  },
  {
   "cell_type": "code",
   "execution_count": null,
   "id": "0bd34891",
   "metadata": {},
   "outputs": [],
   "source": []
  },
  {
   "cell_type": "code",
   "execution_count": null,
   "id": "6f6a08da",
   "metadata": {},
   "outputs": [],
   "source": []
  },
  {
   "cell_type": "code",
   "execution_count": null,
   "id": "4400876e",
   "metadata": {},
   "outputs": [],
   "source": []
  },
  {
   "cell_type": "code",
   "execution_count": null,
   "id": "26682df3",
   "metadata": {},
   "outputs": [],
   "source": []
  }
 ],
 "metadata": {
  "kernelspec": {
   "display_name": "Python 3",
   "language": "python",
   "name": "python3"
  },
  "language_info": {
   "codemirror_mode": {
    "name": "ipython",
    "version": 3
   },
   "file_extension": ".py",
   "mimetype": "text/x-python",
   "name": "python",
   "nbconvert_exporter": "python",
   "pygments_lexer": "ipython3",
   "version": "3.6.8"
  }
 },
 "nbformat": 4,
 "nbformat_minor": 5
}

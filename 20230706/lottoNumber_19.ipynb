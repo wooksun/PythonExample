{
 "cells": [
  {
   "cell_type": "code",
   "execution_count": 2,
   "id": "76d0fac9",
   "metadata": {},
   "outputs": [],
   "source": [
    "import random\n",
    "lotto = [i for i in range(1, 46)]"
   ]
  },
  {
   "cell_type": "code",
   "execution_count": 3,
   "id": "b7aa8738",
   "metadata": {},
   "outputs": [
    {
     "name": "stdout",
     "output_type": "stream",
     "text": [
      "로또 복권 구매 금액을 입력하세요: 5000\n",
      "  1 game: 36 45 18 06 31 16 \n",
      "  2 game: 34 25 29 44 32 18 \n",
      "  3 game: 35 39 27 15 34 45 \n",
      "  4 game: 09 41 43 07 17 36 \n",
      "  5 game: 28 27 21 19 43 32 \n"
     ]
    }
   ],
   "source": [
    "# 로또 복권 구매 금액을 입력받아, 입력받은 금액만큼 로또 번호를 생성하는 프로그램\n",
    "# 로또 복권 구매 금액을 입력받는다.\n",
    "money = int(input('로또 복권 구매 금액을 입력하세요: '))\n",
    "# 로또 복권 구매 금액만큼 반복하며 로또 번호를 생성한다.\n",
    "for i in range(money // 1000):\n",
    "    random.shuffle(lotto)\n",
    "    print('{:3d} game: '.format(i + 1), end='')\n",
    "    for j in range(6):\n",
    "        print('{:02d} '.format(lotto[j]), end='')\n",
    "    print()"
   ]
  },
  {
   "cell_type": "code",
   "execution_count": 5,
   "id": "c8822a00",
   "metadata": {},
   "outputs": [
    {
     "name": "stdout",
     "output_type": "stream",
     "text": [
      "로또 복권 구매 금액을 입력하세요: 5000\n",
      "  1 game: 11 18 21 22 32 38 \n",
      "  2 game: 18 19 20 21 32 37 \n",
      "  3 game: 02 05 11 20 33 45 \n",
      "  4 game: 15 20 24 29 38 43 \n",
      "  5 game: 01 12 19 32 36 41 \n"
     ]
    }
   ],
   "source": [
    "money = int(input('로또 복권 구매 금액을 입력하세요: '))\n",
    "# 로또 복권 구매 금액만큼 반복하며 로또 번호를 생성한다.\n",
    "for i in range(money // 1000):\n",
    "    random.shuffle(lotto)\n",
    "    print('{:3d} game: '.format(i + 1), end='')\n",
    "    result = lotto[:6]\n",
    "    result.sort()\n",
    "    for j in range(6):\n",
    "        print('{:02d} '.format(result[j]), end='')\n",
    "    print()"
   ]
  },
  {
   "cell_type": "code",
   "execution_count": 6,
   "id": "1be9b2b2",
   "metadata": {},
   "outputs": [
    {
     "name": "stdout",
     "output_type": "stream",
     "text": [
      "로또 복권 구매 금액을 입력하세요: 5000\n",
      "  1 game: 01 02 09 12 14 40 \n",
      "  2 game: 06 07 20 25 28 41 \n",
      "  3 game: 05 22 26 29 38 44 \n",
      "  4 game: 06 09 11 17 30 43 \n",
      "  5 game: 07 12 13 20 41 45 \n"
     ]
    }
   ],
   "source": [
    "money = int(input('로또 복권 구매 금액을 입력하세요: '))\n",
    "for i in range(money // 1000):\n",
    "    # random.shuffle(lotto)\n",
    "    print('{:3d} game: '.format(i + 1), end='')\n",
    "    # result = lotto[:6]\n",
    "    result = random.sample(lotto, 6)\n",
    "    result.sort()\n",
    "    for j in range(6):\n",
    "        print('{:02d} '.format(result[j]), end='')\n",
    "    print()"
   ]
  },
  {
   "cell_type": "code",
   "execution_count": null,
   "id": "daf3901a",
   "metadata": {},
   "outputs": [],
   "source": []
  },
  {
   "cell_type": "code",
   "execution_count": null,
   "id": "1825267d",
   "metadata": {},
   "outputs": [],
   "source": []
  },
  {
   "cell_type": "code",
   "execution_count": null,
   "id": "a88b402a",
   "metadata": {},
   "outputs": [],
   "source": []
  },
  {
   "cell_type": "code",
   "execution_count": null,
   "id": "0bd34891",
   "metadata": {},
   "outputs": [],
   "source": []
  },
  {
   "cell_type": "code",
   "execution_count": null,
   "id": "6f6a08da",
   "metadata": {},
   "outputs": [],
   "source": []
  },
  {
   "cell_type": "code",
   "execution_count": null,
   "id": "4400876e",
   "metadata": {},
   "outputs": [],
   "source": []
  },
  {
   "cell_type": "code",
   "execution_count": null,
   "id": "26682df3",
   "metadata": {},
   "outputs": [],
   "source": []
  }
 ],
 "metadata": {
  "kernelspec": {
   "display_name": "Python 3",
   "language": "python",
   "name": "python3"
  },
  "language_info": {
   "codemirror_mode": {
    "name": "ipython",
    "version": 3
   },
   "file_extension": ".py",
   "mimetype": "text/x-python",
   "name": "python",
   "nbconvert_exporter": "python",
   "pygments_lexer": "ipython3",
   "version": "3.6.8"
  }
 },
 "nbformat": 4,
 "nbformat_minor": 5
}

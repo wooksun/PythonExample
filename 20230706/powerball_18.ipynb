{
 "cells": [
  {
   "cell_type": "code",
   "execution_count": 1,
   "id": "52a825b8",
   "metadata": {},
   "outputs": [],
   "source": [
    "import random\n",
    "import time # sleep() 메소드를 사용하기 위해 import 시킨다."
   ]
  },
  {
   "cell_type": "code",
   "execution_count": 2,
   "id": "0665fc92",
   "metadata": {},
   "outputs": [
    {
     "name": "stdout",
     "output_type": "stream",
     "text": [
      "흰공: 14, 43, 27, 22, 40, 빨간공: 22\n"
     ]
    }
   ],
   "source": [
    "# powerball: 1 ~ 69 => 5개, 1 ~ 26 => 1개\n",
    "powerball = [i for i in range(1, 70)]\n",
    "random.shuffle(powerball)\n",
    "print('흰공: ', end='')\n",
    "for i in range(5):\n",
    "    print('{:02d}'.format(powerball[i]), end=', ')\n",
    "    time.sleep(1) # 시간은 초 단위로 지정한다.\n",
    "print('빨간공: {:2d}'.format(random.randint(1, 26)))"
   ]
  },
  {
   "cell_type": "code",
   "execution_count": null,
   "id": "49efc706",
   "metadata": {},
   "outputs": [],
   "source": []
  }
 ],
 "metadata": {
  "kernelspec": {
   "display_name": "Python 3",
   "language": "python",
   "name": "python3"
  },
  "language_info": {
   "codemirror_mode": {
    "name": "ipython",
    "version": 3
   },
   "file_extension": ".py",
   "mimetype": "text/x-python",
   "name": "python",
   "nbconvert_exporter": "python",
   "pygments_lexer": "ipython3",
   "version": "3.6.8"
  }
 },
 "nbformat": 4,
 "nbformat_minor": 5
}

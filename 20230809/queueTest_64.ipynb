{
 "cells": [
  {
   "cell_type": "code",
   "execution_count": 2,
   "id": "4d94d2f2",
   "metadata": {
    "scrolled": true
   },
   "outputs": [
    {
     "name": "stdout",
     "output_type": "stream",
     "text": [
      "큐에 저장된 데이터 => 없음\n"
     ]
    }
   ],
   "source": [
    "from queue_63 import Queue\n",
    "queue = Queue()\n",
    "queue.view()"
   ]
  },
  {
   "cell_type": "code",
   "execution_count": 4,
   "id": "8b17be45",
   "metadata": {},
   "outputs": [
    {
     "name": "stdout",
     "output_type": "stream",
     "text": [
      "==============================\n",
      " 1.add 2.remove 3.view 4.종료\n",
      "==============================\n",
      "원하는 메뉴를 입력하고 Entet 키를 누르세요: 1\n",
      "스택에 저장할 데이터를 입력하세요: 123\n",
      "큐에 123를 저장합니다. rear = 1, front = 0\n",
      "큐에 저장된 데이터 => 123 \n",
      "==============================\n",
      " 1.add 2.remove 3.view 4.종료\n",
      "==============================\n",
      "원하는 메뉴를 입력하고 Entet 키를 누르세요: 2\n",
      "큐에서 123를 제거 합니다. rear = 1, front = 1\n",
      "큐에 저장된 데이터 => 없음\n",
      "==============================\n",
      " 1.add 2.remove 3.view 4.종료\n",
      "==============================\n",
      "원하는 메뉴를 입력하고 Entet 키를 누르세요: 4\n",
      "프로그램을 종료합니다.\n"
     ]
    }
   ],
   "source": [
    "menu = 0\n",
    "while menu != 4:\n",
    "    while True:\n",
    "        print('=' * 30)\n",
    "        print(' 1.add 2.remove 3.view 4.종료')\n",
    "        print('=' * 30)\n",
    "        menu = int(input('원하는 메뉴를 입력하고 Entet 키를 누르세요: '))\n",
    "        if menu in [1, 2, 3, 4]:\n",
    "            break\n",
    "        else:\n",
    "            print('메뉴는 1 ~ 4 사이의 정수만 입력해야 합니다.')\n",
    "        # ===== if\n",
    "    # ===== while\n",
    "    \n",
    "    if menu == 1:\n",
    "        data = input('스택에 저장할 데이터를 입력하세요: ')\n",
    "        queue.add(data)\n",
    "    elif menu == 2:\n",
    "        queue.remove()\n",
    "    elif menu == 3:\n",
    "        queue.view()\n",
    "    # ===== if\n",
    "# ===== while\n",
    "print('프로그램을 종료합니다.')"
   ]
  }
 ],
 "metadata": {
  "kernelspec": {
   "display_name": "Python 3",
   "language": "python",
   "name": "python3"
  },
  "language_info": {
   "codemirror_mode": {
    "name": "ipython",
    "version": 3
   },
   "file_extension": ".py",
   "mimetype": "text/x-python",
   "name": "python",
   "nbconvert_exporter": "python",
   "pygments_lexer": "ipython3",
   "version": "3.6.8"
  }
 },
 "nbformat": 4,
 "nbformat_minor": 5
}

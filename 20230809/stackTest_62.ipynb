{
 "cells": [
  {
   "cell_type": "code",
   "execution_count": null,
   "id": "8c0b0cf5",
   "metadata": {},
   "outputs": [],
   "source": [
    "# stack_61 전체를 import 시켰기 때문에 Stack 클래스를 사용하라면 앞에 '모듈이름.'을 붙여서 사용해야 한다.\n",
    "# stack_61 => stack_61 파일에서 File => Download as => Python(.py)\n",
    "#import stack_61\n",
    "#stack = stack_61.Stack()\n",
    "#stack.view()"
   ]
  },
  {
   "cell_type": "code",
   "execution_count": 1,
   "id": "7e5e4115",
   "metadata": {},
   "outputs": [
    {
     "name": "stdout",
     "output_type": "stream",
     "text": [
      "스택에 저장된 데이터 => 없음\n"
     ]
    }
   ],
   "source": [
    "# stack_61 전체를 import 하지 않고 Stack 클래스만 import 해서 사용한다.\n",
    "from stack_61 import Stack\n",
    "# Stack 클래스만 import 시켰으므로 위의 셀과 같이 '모듈이름.'을 붙일 필요 없이 바로 사용하면 된다.\n",
    "stack = Stack()\n",
    "stack.view()"
   ]
  },
  {
   "cell_type": "code",
   "execution_count": 3,
   "id": "cdcdbaa7",
   "metadata": {},
   "outputs": [
    {
     "name": "stdout",
     "output_type": "stream",
     "text": [
      "==============================\n",
      " 1.push 2.pop 3.view 4.종료\n",
      "==============================\n",
      "원하는 메뉴를 입력하고 Entet 키를 누르세요: 3\n",
      "스택에 저장된 데이터 => 없음\n",
      "==============================\n",
      " 1.push 2.pop 3.view 4.종료\n",
      "==============================\n",
      "원하는 메뉴를 입력하고 Entet 키를 누르세요: 1\n",
      "스택에 저장할 데이터를 입력하세요: 123\n",
      "스택에 저장된 데이터 => 123 \n",
      "==============================\n",
      " 1.push 2.pop 3.view 4.종료\n",
      "==============================\n",
      "원하는 메뉴를 입력하고 Entet 키를 누르세요: 3\n",
      "스택에 저장된 데이터 => 123 \n",
      "==============================\n",
      " 1.push 2.pop 3.view 4.종료\n",
      "==============================\n",
      "원하는 메뉴를 입력하고 Entet 키를 누르세요: 2\n",
      "pop 데이터: 123\n",
      "스택에 저장된 데이터 => 없음\n",
      "==============================\n",
      " 1.push 2.pop 3.view 4.종료\n",
      "==============================\n",
      "원하는 메뉴를 입력하고 Entet 키를 누르세요: 3\n",
      "스택에 저장된 데이터 => 없음\n",
      "==============================\n",
      " 1.push 2.pop 3.view 4.종료\n",
      "==============================\n",
      "원하는 메뉴를 입력하고 Entet 키를 누르세요: 1\n",
      "스택에 저장할 데이터를 입력하세요: 123\n",
      "스택에 저장된 데이터 => 123 \n",
      "==============================\n",
      " 1.push 2.pop 3.view 4.종료\n",
      "==============================\n",
      "원하는 메뉴를 입력하고 Entet 키를 누르세요: 3\n",
      "스택에 저장된 데이터 => 123 \n",
      "==============================\n",
      " 1.push 2.pop 3.view 4.종료\n",
      "==============================\n",
      "원하는 메뉴를 입력하고 Entet 키를 누르세요: 1\n",
      "스택에 저장할 데이터를 입력하세요: 12345\n",
      "스택에 저장된 데이터 => 123 12345 \n",
      "==============================\n",
      " 1.push 2.pop 3.view 4.종료\n",
      "==============================\n",
      "원하는 메뉴를 입력하고 Entet 키를 누르세요: 1\n",
      "스택에 저장할 데이터를 입력하세요: 123\n",
      "123는(은) 중복된 데이터 입니다.\n",
      "스택에 저장된 데이터 => 123 12345 \n",
      "==============================\n",
      " 1.push 2.pop 3.view 4.종료\n",
      "==============================\n",
      "원하는 메뉴를 입력하고 Entet 키를 누르세요: 3\n",
      "스택에 저장된 데이터 => 123 12345 \n",
      "==============================\n",
      " 1.push 2.pop 3.view 4.종료\n",
      "==============================\n",
      "원하는 메뉴를 입력하고 Entet 키를 누르세요: 2\n",
      "pop 데이터: 12345\n",
      "스택에 저장된 데이터 => 123 \n",
      "==============================\n",
      " 1.push 2.pop 3.view 4.종료\n",
      "==============================\n",
      "원하는 메뉴를 입력하고 Entet 키를 누르세요: 2\n",
      "pop 데이터: 123\n",
      "스택에 저장된 데이터 => 없음\n",
      "==============================\n",
      " 1.push 2.pop 3.view 4.종료\n",
      "==============================\n",
      "원하는 메뉴를 입력하고 Entet 키를 누르세요: 3\n",
      "스택에 저장된 데이터 => 없음\n",
      "==============================\n",
      " 1.push 2.pop 3.view 4.종료\n",
      "==============================\n",
      "원하는 메뉴를 입력하고 Entet 키를 누르세요: 4\n",
      "프로그램을 종료합니다.\n"
     ]
    }
   ],
   "source": [
    "menu = 0\n",
    "while menu != 4:\n",
    "    while True:\n",
    "        print('=' * 30)\n",
    "        print(' 1.push 2.pop 3.view 4.종료')\n",
    "        print('=' * 30)\n",
    "        menu = int(input('원하는 메뉴를 입력하고 Entet 키를 누르세요: '))\n",
    "        if menu in [1, 2, 3, 4]:\n",
    "            break\n",
    "        else:\n",
    "            print('메뉴는 1 ~ 4 사이의 정수만 입력해야 합니다.')\n",
    "        # ===== if\n",
    "    # ===== while\n",
    "    \n",
    "    if menu == 1:\n",
    "        data = input('스택에 저장할 데이터를 입력하세요: ')\n",
    "        stack.push(data)\n",
    "    elif menu == 2:\n",
    "        stack.pop()\n",
    "    elif menu == 3:\n",
    "        stack.view()\n",
    "    # ===== if\n",
    "# ===== while\n",
    "print('프로그램을 종료합니다.')"
   ]
  },
  {
   "cell_type": "code",
   "execution_count": null,
   "id": "68786ee1",
   "metadata": {},
   "outputs": [],
   "source": []
  },
  {
   "cell_type": "code",
   "execution_count": null,
   "id": "2f575326",
   "metadata": {},
   "outputs": [],
   "source": []
  },
  {
   "cell_type": "code",
   "execution_count": null,
   "id": "bd3ff824",
   "metadata": {},
   "outputs": [],
   "source": []
  },
  {
   "cell_type": "code",
   "execution_count": null,
   "id": "b105a9fd",
   "metadata": {},
   "outputs": [],
   "source": []
  },
  {
   "cell_type": "code",
   "execution_count": null,
   "id": "a060ab5c",
   "metadata": {},
   "outputs": [],
   "source": []
  },
  {
   "cell_type": "code",
   "execution_count": null,
   "id": "ba2dc880",
   "metadata": {},
   "outputs": [],
   "source": []
  },
  {
   "cell_type": "code",
   "execution_count": null,
   "id": "f11327da",
   "metadata": {},
   "outputs": [],
   "source": []
  },
  {
   "cell_type": "code",
   "execution_count": null,
   "id": "90bf9353",
   "metadata": {},
   "outputs": [],
   "source": []
  }
 ],
 "metadata": {
  "kernelspec": {
   "display_name": "Python 3",
   "language": "python",
   "name": "python3"
  },
  "language_info": {
   "codemirror_mode": {
    "name": "ipython",
    "version": 3
   },
   "file_extension": ".py",
   "mimetype": "text/x-python",
   "name": "python",
   "nbconvert_exporter": "python",
   "pygments_lexer": "ipython3",
   "version": "3.6.8"
  }
 },
 "nbformat": 4,
 "nbformat_minor": 5
}

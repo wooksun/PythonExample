{
 "cells": [
  {
   "cell_type": "code",
   "execution_count": 1,
   "id": "35564997",
   "metadata": {},
   "outputs": [],
   "source": [
    "import random"
   ]
  },
  {
   "cell_type": "code",
   "execution_count": 2,
   "id": "dbbef21e",
   "metadata": {},
   "outputs": [],
   "source": [
    "# 카드 출력에 사용할 숫자와 무늬를 기억하는 리스트 또는 튜플을 만든다.\n",
    "number = ['A', '2', '3', '4', '5', '6', '7', '8', '9', '10', 'J', 'Q', 'K']\n",
    "symbol = ['♠', '◇', '♥', '♧']"
   ]
  },
  {
   "cell_type": "code",
   "execution_count": 19,
   "id": "ec05fe89",
   "metadata": {},
   "outputs": [
    {
     "name": "stdout",
     "output_type": "stream",
     "text": [
      "♠ A ♠ 2 ♠ 3 ♠ 4 ♠ 5 ♠ 6 ♠ 7 ♠ 8 ♠ 9 ♠10 ♠ J ♠ Q ♠ K \n",
      "◇ A ◇ 2 ◇ 3 ◇ 4 ◇ 5 ◇ 6 ◇ 7 ◇ 8 ◇ 9 ◇10 ◇ J ◇ Q ◇ K \n",
      "♥ A ♥ 2 ♥ 3 ♥ 4 ♥ 5 ♥ 6 ♥ 7 ♥ 8 ♥ 9 ♥10 ♥ J ♥ Q ♥ K \n",
      "♧ A ♧ 2 ♧ 3 ♧ 4 ♧ 5 ♧ 6 ♧ 7 ♧ 8 ♧ 9 ♧10 ♧ J ♧ Q ♧ K \n",
      "\n",
      "================================================== 섞기 전\n",
      "♧ 7 ♠ J ◇ J ◇10 ♠ K ♧ 3 ♧10 ♠ 5 ♥ 2 ◇ A ◇ 2 ♧ 8 ◇ 8 \n",
      "♧ 9 ♧ 6 ♧ K ♥ K ♥ J ♧ J ♧ 5 ◇ 6 ◇ 7 ♠ 2 ♠ 7 ♠ A ♥ 3 \n",
      "♧ Q ♥ 8 ◇ 9 ♥ Q ♥ 7 ♧ A ♥ A ♥10 ♠ 8 ♥ 5 ♠ 9 ♧ 2 ♠ 4 \n",
      "◇ 4 ♥ 4 ♠10 ◇ K ◇ Q ♧ 4 ◇ 5 ♥ 9 ◇ 3 ♠ Q ♠ 6 ♠ 3 ♥ 6 \n",
      "\n",
      "======================================== 섞은 후\n"
     ]
    }
   ],
   "source": [
    "# 0 ~ 51 사이의 숫자가 채워진 리스트를 만든다.\n",
    "cards = [i for i in range(52)]\n",
    "# print(cards)\n",
    "\n",
    "# 섞기 전 상태를 출력한다. => 1줄 숫자 13개씩 출력한다.\n",
    "for i in range(len(cards)):\n",
    "    # print('{:2d}'.format(cards[i] % 13), end = ' ')\n",
    "    # print('{:>2s}'.format(number[cards[i] % 13]), end = ' ') # 숫자만\n",
    "    # print('{:2s}'.format(symbol[cards[i] // 13]), end = ' ') # 무늬만\n",
    "    print('{:s}{:>2s}'.format(symbol[cards[i] // 13], number[cards[i] % 13]), end = ' ')\n",
    "    if (i + 1) % 13 == 0:\n",
    "        print()\n",
    "print('\\n' + '=' * 50 + ' 섞기 전')\n",
    "\n",
    "random.shuffle(cards)\n",
    "\n",
    "# 섞은 후 상태를 출력한다.\n",
    "for i in range(len(cards)):\n",
    "    print('{:s}{:>2s}'.format(symbol[cards[i] // 13], number[cards[i] % 13]), end = ' ')\n",
    "    if (i + 1) % 13 == 0:\n",
    "        print()\n",
    "print('\\n' + '=' * 40 + ' 섞은 후')"
   ]
  },
  {
   "cell_type": "code",
   "execution_count": null,
   "id": "3ff6ff06",
   "metadata": {},
   "outputs": [],
   "source": []
  },
  {
   "cell_type": "code",
   "execution_count": null,
   "id": "e11d83c6",
   "metadata": {},
   "outputs": [],
   "source": []
  },
  {
   "cell_type": "code",
   "execution_count": null,
   "id": "194b99df",
   "metadata": {},
   "outputs": [],
   "source": []
  },
  {
   "cell_type": "code",
   "execution_count": null,
   "id": "f01cca70",
   "metadata": {},
   "outputs": [],
   "source": []
  },
  {
   "cell_type": "code",
   "execution_count": null,
   "id": "a8202364",
   "metadata": {},
   "outputs": [],
   "source": []
  },
  {
   "cell_type": "code",
   "execution_count": null,
   "id": "bf9d6bfc",
   "metadata": {},
   "outputs": [],
   "source": []
  },
  {
   "cell_type": "code",
   "execution_count": null,
   "id": "c820171b",
   "metadata": {},
   "outputs": [],
   "source": []
  },
  {
   "cell_type": "code",
   "execution_count": null,
   "id": "480e9614",
   "metadata": {},
   "outputs": [],
   "source": []
  }
 ],
 "metadata": {
  "kernelspec": {
   "display_name": "Python 3",
   "language": "python",
   "name": "python3"
  },
  "language_info": {
   "codemirror_mode": {
    "name": "ipython",
    "version": 3
   },
   "file_extension": ".py",
   "mimetype": "text/x-python",
   "name": "python",
   "nbconvert_exporter": "python",
   "pygments_lexer": "ipython3",
   "version": "3.6.8"
  }
 },
 "nbformat": 4,
 "nbformat_minor": 5
}

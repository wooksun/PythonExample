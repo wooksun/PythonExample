{
 "cells": [
  {
   "cell_type": "markdown",
   "id": "f948d087",
   "metadata": {},
   "source": [
    "진법 변환\n",
    "\n",
    "<img src=\"./convert.png\" width=\"900\" align=\"left\" title=\"euclid 이미지\">"
   ]
  },
  {
   "cell_type": "markdown",
   "id": "ac77e21f",
   "metadata": {},
   "source": [
    "0.5 => 0.1  \n",
    "0.25 => 0.01  \n",
    "0.125 => 0.001  \n",
    "0.0625 => 0.0001  "
   ]
  },
  {
   "cell_type": "markdown",
   "id": "7ec39232",
   "metadata": {},
   "source": [
    "10진수를 2진수로: 26 => 11010<sub>2</sub>"
   ]
  },
  {
   "cell_type": "code",
   "execution_count": 1,
   "id": "06b71d9b",
   "metadata": {},
   "outputs": [
    {
     "name": "stdout",
     "output_type": "stream",
     "text": [
      "10진수를 입력하세요: 26\n",
      "[0, 1, 0, 1, 1]\n",
      "11010"
     ]
    }
   ],
   "source": [
    "d = int(input('10진수를 입력하세요: '))\n",
    "b = [] # 10진수가 2진수로 변환된 결과를 기억할 빈 리스트를 선언한다.\n",
    "# 입력되는 10진수의 크기에 따라 반복 횟수가 달라지므로 무한 루프를 돌려서 처리한다.\n",
    "while True:\n",
    "    m = d // 2 # 10진수를 2로 나눈 몫을 계산한다.\n",
    "    r = d % 2 # 10진수를 2로 나눈 나머지를 계산한다.\n",
    "    b.append(r) # 나머지를 2진수로 변환된 결과를 기억할 리스트에 저장한다.\n",
    "    # 몫이 0이되면 진법 변환이 완료된 것이므로 무한루프를 탈출한다.\n",
    "    if m == 0: \n",
    "        break\n",
    "    # ===== if\n",
    "    # 다음 계산을 위해서 d를 몫으로 수정한다.\n",
    "    d = m\n",
    "# ===== while\n",
    "print(b)\n",
    "# print(b[::-1])\n",
    "# b.reverse()\n",
    "# print(b.reverse())\n",
    "for i in range(len(b) -1, -1, -1):\n",
    "    print(b[i], end='')"
   ]
  },
  {
   "cell_type": "markdown",
   "id": "2b735052",
   "metadata": {},
   "source": [
    "10진수를 8진수로: 26 => 32<sub>(8)</sub>"
   ]
  },
  {
   "cell_type": "code",
   "execution_count": 6,
   "id": "28d1b541",
   "metadata": {
    "scrolled": true
   },
   "outputs": [
    {
     "name": "stdout",
     "output_type": "stream",
     "text": [
      "10진수를 입력하세요: 26\n",
      "[2, 3]\n",
      "32"
     ]
    }
   ],
   "source": [
    "d = int(input('10진수를 입력하세요: '))\n",
    "o = [] \n",
    "while True:\n",
    "    m = d // 8 \n",
    "    r = d % 8\n",
    "    o.append(r)\n",
    "    if m == 0: \n",
    "        break\n",
    "    # ===== if\n",
    "    d = m\n",
    "# ===== while\n",
    "print(o)\n",
    "for i in range(len(o) -1, -1, -1):\n",
    "    print(o[i], end='')"
   ]
  },
  {
   "cell_type": "code",
   "execution_count": 7,
   "id": "294e95a6",
   "metadata": {},
   "outputs": [
    {
     "name": "stdout",
     "output_type": "stream",
     "text": [
      "10진수를 입력하세요: 26\n",
      "['A', '1']\n",
      "1A"
     ]
    }
   ],
   "source": [
    "d = int(input('10진수를 입력하세요: '))\n",
    "h = [] \n",
    "hex16 = ['0', '1', '2', '3', '4', '5', '6', '7', '8', '9', 'A', 'B', 'C', 'D', 'E', 'F']\n",
    "while True:\n",
    "    m = d // 16\n",
    "    r = d % 16\n",
    "    h.append(hex16[r])\n",
    "    if m == 0: \n",
    "        break\n",
    "    # ===== if\n",
    "    d = m\n",
    "# ===== while\n",
    "print(h)\n",
    "for i in range(len(h) -1, -1, -1):\n",
    "    print(h[i], end='')"
   ]
  },
  {
   "cell_type": "markdown",
   "id": "0deb5747",
   "metadata": {},
   "source": [
    "10진수를 n진수로"
   ]
  },
  {
   "cell_type": "code",
   "execution_count": 8,
   "id": "8160d823",
   "metadata": {},
   "outputs": [
    {
     "name": "stdout",
     "output_type": "stream",
     "text": [
      "10진수와 변환할 진법을 입력하세요: 26 16\n",
      "[10, 1]\n",
      "1A"
     ]
    }
   ],
   "source": [
    "d, n = map(int, input('10진수와 변환할 진법을 입력하세요: ').split())\n",
    "c = []\n",
    "while True:\n",
    "    m = d // n # 10진수를 2로 나눈 몫을 계산한다.\n",
    "    r = d % n # 10진수를 2로 나눈 나머지를 계산한다.\n",
    "    c.append(r) # 나머지를 2진수로 변환된 결과를 기억할 리스트에 저장한다.\n",
    "    # 몫이 0이되면 진법 변환이 완료된것이므로 무한 루프를 탈출한다.\n",
    "    if m == 0:\n",
    "        break\n",
    "    # ===== if\n",
    "    d = m\n",
    "# ===== while\n",
    "print(c)\n",
    "for i in range(len(h) -1, -1, -1):\n",
    "    # chr() 함수는 인수로 지정된 유니코드에 해당되는 문자를 리턴한다.\n",
    "    print(c[i] if c[i] < 10 else chr(c[i] + 55) , end='')"
   ]
  },
  {
   "cell_type": "code",
   "execution_count": null,
   "id": "e9d736c7",
   "metadata": {},
   "outputs": [],
   "source": []
  },
  {
   "cell_type": "code",
   "execution_count": null,
   "id": "6dac4e13",
   "metadata": {},
   "outputs": [],
   "source": []
  },
  {
   "cell_type": "code",
   "execution_count": null,
   "id": "8a0c5e99",
   "metadata": {},
   "outputs": [],
   "source": []
  },
  {
   "cell_type": "code",
   "execution_count": null,
   "id": "f819e58f",
   "metadata": {},
   "outputs": [],
   "source": []
  },
  {
   "cell_type": "code",
   "execution_count": null,
   "id": "896f763e",
   "metadata": {},
   "outputs": [],
   "source": []
  },
  {
   "cell_type": "code",
   "execution_count": null,
   "id": "235d59d6",
   "metadata": {},
   "outputs": [],
   "source": []
  }
 ],
 "metadata": {
  "kernelspec": {
   "display_name": "Python 3",
   "language": "python",
   "name": "python3"
  },
  "language_info": {
   "codemirror_mode": {
    "name": "ipython",
    "version": 3
   },
   "file_extension": ".py",
   "mimetype": "text/x-python",
   "name": "python",
   "nbconvert_exporter": "python",
   "pygments_lexer": "ipython3",
   "version": "3.6.8"
  }
 },
 "nbformat": 4,
 "nbformat_minor": 5
}

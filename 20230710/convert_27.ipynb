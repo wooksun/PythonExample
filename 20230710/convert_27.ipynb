{
 "cells": [
  {
   "cell_type": "markdown",
   "id": "f948d087",
   "metadata": {},
   "source": [
    "진법 변환\n",
    "\n",
    "<img src=\"./convert.png\" width=\"900\" align=\"left\" title=\"euclid 이미지\">"
   ]
  },
  {
   "cell_type": "markdown",
   "id": "ef63e6a8",
   "metadata": {},
   "source": [
    "10진수를 2진수로: 26 => 11010<sub>2</sub>"
   ]
  },
  {
   "cell_type": "markdown",
   "id": "ac77e21f",
   "metadata": {},
   "source": [
    "0.5 => 0.1  \n",
    "0.25 => 0.01  \n",
    "0.125 => 0.001  \n",
    "0.0625 => 0.0001  "
   ]
  },
  {
   "cell_type": "code",
   "execution_count": null,
   "id": "06b71d9b",
   "metadata": {},
   "outputs": [],
   "source": []
  },
  {
   "cell_type": "code",
   "execution_count": null,
   "id": "136bf976",
   "metadata": {},
   "outputs": [],
   "source": []
  },
  {
   "cell_type": "code",
   "execution_count": null,
   "id": "24272dc6",
   "metadata": {},
   "outputs": [],
   "source": []
  },
  {
   "cell_type": "code",
   "execution_count": null,
   "id": "8160d823",
   "metadata": {},
   "outputs": [],
   "source": []
  },
  {
   "cell_type": "code",
   "execution_count": null,
   "id": "e9d736c7",
   "metadata": {},
   "outputs": [],
   "source": []
  },
  {
   "cell_type": "code",
   "execution_count": null,
   "id": "6dac4e13",
   "metadata": {},
   "outputs": [],
   "source": []
  },
  {
   "cell_type": "code",
   "execution_count": null,
   "id": "8a0c5e99",
   "metadata": {},
   "outputs": [],
   "source": []
  },
  {
   "cell_type": "code",
   "execution_count": null,
   "id": "f819e58f",
   "metadata": {},
   "outputs": [],
   "source": []
  },
  {
   "cell_type": "code",
   "execution_count": null,
   "id": "896f763e",
   "metadata": {},
   "outputs": [],
   "source": []
  },
  {
   "cell_type": "code",
   "execution_count": null,
   "id": "235d59d6",
   "metadata": {},
   "outputs": [],
   "source": []
  }
 ],
 "metadata": {
  "kernelspec": {
   "display_name": "Python 3",
   "language": "python",
   "name": "python3"
  },
  "language_info": {
   "codemirror_mode": {
    "name": "ipython",
    "version": 3
   },
   "file_extension": ".py",
   "mimetype": "text/x-python",
   "name": "python",
   "nbconvert_exporter": "python",
   "pygments_lexer": "ipython3",
   "version": "3.6.8"
  }
 },
 "nbformat": 4,
 "nbformat_minor": 5
}

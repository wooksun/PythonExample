{
 "cells": [
  {
   "cell_type": "code",
   "execution_count": 2,
   "id": "68c644ff",
   "metadata": {},
   "outputs": [],
   "source": [
    "import warnings\n",
    "warnings.filterwarnings(action='ignore')\n",
    "%config Computer.use_hedi = False"
   ]
  },
  {
   "cell_type": "markdown",
   "id": "b089f152",
   "metadata": {},
   "source": [
    "파이썬 기반 데이터 분석 환경에서는 numpy는 행렬연산을 위한 핵심 라이브러리이다.   \n",
    "numpy는 대규모 다차원 배열과 행렬 연산에 필요한 다양한 함수 및 메소드를 제공하고 메모리 버퍼에 데이터를 저장하고 처리하는 효율적인 인터페이스를 제공한다.  \n",
    "파이썬의 list 객체를 개선한 numpy의 ndarray 객체를 사용하면 더 많은 데이터를 더 빠르게 처리할 수 있다.  \n",
    "\n",
    "numpy의 특징  \n",
    "    1. 강력한 n차원 배열 객체  \n",
    "    2. 정교한 브로드캐스팅  \n",
    "    3. c/c++및 fortran 코드 통합 도구  \n",
    "    4. 유연한 선형 대수, 푸리에 변환 및 난수 기능  \n",
    "    5. 범용적 처리에 사용 가능한 다차원 컨테이너\n",
    "    \n",
    "numpy 데이터 타입"
   ]
  },
  {
   "cell_type": "code",
   "execution_count": 3,
   "id": "907dc4e5",
   "metadata": {},
   "outputs": [],
   "source": [
    "# numpy는 다음과 같은 데이터 타입을 지원한다. => 배열을 만들 때, dtype 속성으로 데이터 타입을 지정할 수 있다.\n",
    "# np.int: 정수(고정 소숫점)타입\n",
    "# np.float: 실수(부동 소숫점)타입\n",
    "# np.complex: 복소수 타입\n",
    "# np.bool: 불린(논리값)타입\n",
    "# np.object: 파이썬 객체 타입\n",
    "# np.string_: 스트링 타입\n",
    "# np.unicode_: 유니코드 타입"
   ]
  },
  {
   "cell_type": "code",
   "execution_count": 6,
   "id": "bf05d91a",
   "metadata": {},
   "outputs": [
    {
     "name": "stdout",
     "output_type": "stream",
     "text": [
      "1.19.5\n"
     ]
    }
   ],
   "source": [
    "import numpy as np\n",
    "print(np.__version__) # __version__: 설치된 라이브러리의 버전을 얻어온다."
   ]
  },
  {
   "cell_type": "code",
   "execution_count": null,
   "id": "0872b276",
   "metadata": {},
   "outputs": [],
   "source": [
    "# numpy는 다차원 배열을 지원하고 numpy 배열 구조는 shape로 표현한다."
   ]
  },
  {
   "cell_type": "markdown",
   "id": "7fbed72e",
   "metadata": {},
   "source": [
    "numpy는 다차원 배열을 지원하고 numpy 배열 구조는 shape로 표현한다.  \n",
    "shape은 배열 구조를 튜플 자료형을 사용해서 정의한다.  \n",
    "예를들면 28 * 28 컬러 사진은 폭이 28 픽셀, 높이가 28픽셀, 각 픽셀은 3개의 채널(RGB)로 구성된 구조를 가진다.  \n",
    "따라서 컬러 사진의 데이터 구조는 shape(28, 28, 3)인 3차원 배열이 된다.  \n",
    "다차원 배열은 입체적인 구조를 가지며 데이터 차원은 여러 갈래의 데이터 방향(axis)을 가진다.  \n",
    "3차원 배열의 데이터 방향은 면은 axis=0, 행은 axis=1, 열은 axis=2로 지정한다.\n",
    "\n",
    "<img src=\"./images/numpyImage01.jpg\" width=\"900\" align=\"left\"/>"
   ]
  },
  {
   "cell_type": "code",
   "execution_count": 7,
   "id": "ee85a52d",
   "metadata": {},
   "outputs": [],
   "source": [
    "# numpy 배열 객체 정보 출력용으로 사용할 함수 선언\n",
    "def pprint(arr):\n",
    "    print('type: {}'.format(type(arr)))\n",
    "    print('shape: {}, dimension: {}, dtype: {}'.format(arr.shape, arr.ndim, arr.dtype))\n",
    "    print('numpy 배열의 데이터\\n', arr, sep='')"
   ]
  },
  {
   "cell_type": "markdown",
   "id": "2a0b445e",
   "metadata": {},
   "source": [
    "파이썬 list 객체로 numpy 배열을 생성할 수 있다.  \n",
    "인수로 list 객체와 데이터의 타입(dtype, 생략가능)을 입력해서 numpy 배열을 생성하고 dtype을 생략하면 인수로 넘어오는 list 객체의 데이터 타입으로 dtype이 설정된다."
   ]
  },
  {
   "cell_type": "code",
   "execution_count": 18,
   "id": "9e47220d",
   "metadata": {},
   "outputs": [
    {
     "name": "stdout",
     "output_type": "stream",
     "text": [
      "<class 'list'>\n",
      "[1, 2, 3]\n",
      "==================================================\n",
      "type: <class 'numpy.ndarray'>\n",
      "shape: (3,), dimension: 1, dtype: int32\n",
      "numpy 배열의 데이터\n",
      "[1 2 3]\n"
     ]
    }
   ],
   "source": [
    "# 파이썬 1차원 list로 numpy 배열 만들기\n",
    "arr = [1, 2, 3]\n",
    "print(type(arr))\n",
    "print(arr)\n",
    "print('=' * 50)\n",
    "\n",
    "# array() 메소드는 인수로 list 객체를 넘겨받아 numpy 배열을 만든다.\n",
    "# 정수형 데이터의 dtype 기본값은 np.int이고 32비트 정수 데이터를 의미한다. => np.int32와 같다.\n",
    "# 정수형 데이터의 dtype은 np.int, np.int8, np.int16, np.int32, np.int64를 사용할 수 있다.\n",
    "# a = np.array(arr, dtype=np.int)\n",
    "a = np.array(arr)\n",
    "pprint(a)"
   ]
  },
  {
   "cell_type": "code",
   "execution_count": 20,
   "id": "ff42a5bb",
   "metadata": {},
   "outputs": [
    {
     "name": "stdout",
     "output_type": "stream",
     "text": [
      "<class 'list'>\n",
      "[1, 2.0, 3]\n",
      "==================================================\n",
      "type: <class 'numpy.ndarray'>\n",
      "shape: (3,), dimension: 1, dtype: float64\n",
      "numpy 배열의 데이터\n",
      "[1. 2. 3.]\n"
     ]
    }
   ],
   "source": [
    "arr = [1, 2., 3]\n",
    "print(type(arr))\n",
    "print(arr)\n",
    "print('=' * 50)\n",
    "\n",
    "# 실수형 데이터의 dtype 기본값은 np.float이고 64비트 실수 데이터를 의미한다. => np.float64와 같다.\n",
    "# 실수형 데이터의 dtype은 np.float, np.float16, np.float32, np.float64를 사용할 수 있다.\n",
    "a = np.array(arr)\n",
    "pprint(a)"
   ]
  },
  {
   "cell_type": "code",
   "execution_count": 22,
   "id": "36a25fcd",
   "metadata": {},
   "outputs": [
    {
     "name": "stdout",
     "output_type": "stream",
     "text": [
      "<class 'list'>\n",
      "[[1, 2, 3], [4, 5, 6]]\n",
      "==================================================\n",
      "type: <class 'numpy.ndarray'>\n",
      "shape: (2, 3), dimension: 2, dtype: float64\n",
      "numpy 배열의 데이터\n",
      "[[1. 2. 3.]\n",
      " [4. 5. 6.]]\n"
     ]
    }
   ],
   "source": [
    "# 파이썬 2차원 list로 numpy 배열 만들기\n",
    "arr = [[1, 2, 3], [4, 5, 6]]\n",
    "print(type(arr))\n",
    "print(arr)\n",
    "print('=' * 50)\n",
    "\n",
    "a = np.array(arr, dtype=np.float)\n",
    "pprint(a)"
   ]
  },
  {
   "cell_type": "code",
   "execution_count": 23,
   "id": "0d1d4ac6",
   "metadata": {},
   "outputs": [
    {
     "name": "stdout",
     "output_type": "stream",
     "text": [
      "<class 'list'>\n",
      "[[[1, 2, 3], [4, 5, 6]], [[11, 22, 33], [44, 55, 66]]]\n",
      "==================================================\n",
      "type: <class 'numpy.ndarray'>\n",
      "shape: (2, 2, 3), dimension: 3, dtype: float64\n",
      "numpy 배열의 데이터\n",
      "[[[ 1.  2.  3.]\n",
      "  [ 4.  5.  6.]]\n",
      "\n",
      " [[11. 22. 33.]\n",
      "  [44. 55. 66.]]]\n"
     ]
    }
   ],
   "source": [
    "# 파이썬 3차원 list로 numpy 배열 만들기\n",
    "arr = [[[1, 2, 3], [4, 5, 6]], [[11, 22, 33], [44, 55, 66]]]\n",
    "print(type(arr))\n",
    "print(arr)\n",
    "print('=' * 50)\n",
    "\n",
    "a = np.array(arr, dtype=np.float)\n",
    "pprint(a)"
   ]
  },
  {
   "cell_type": "markdown",
   "id": "88c5e9f9",
   "metadata": {},
   "source": [
    "numpy는 원하는 shape으로 배열을 생성하고 각 요소들을 특정 값으로 초기화시키는 메소드를 제공한다.  "
   ]
  },
  {
   "cell_type": "code",
   "execution_count": 28,
   "id": "96f4dcf4",
   "metadata": {},
   "outputs": [
    {
     "name": "stdout",
     "output_type": "stream",
     "text": [
      "type: <class 'numpy.ndarray'>\n",
      "shape: (3, 4), dimension: 2, dtype: int32\n",
      "numpy 배열의 데이터\n",
      "[[0 0 0 0]\n",
      " [0 0 0 0]\n",
      " [0 0 0 0]]\n"
     ]
    }
   ],
   "source": [
    "# zeros() 메소드는 지정된 shape만큼 배열을 생성하고, 모든 요소를 0으로 초기화시킨다. => 영행렬\n",
    "# zeros(shape[, dtype, order]) # dtype, order는 생략 가능하다.\n",
    "# order => 2차원 이상의 배열일 경우 데이터가 채워지는 방식을 지정한다.\n",
    "# c, c++, java, c#, python => 행 우선 방식 / fortran => 열 우선 방식\n",
    "# a = np.zeros(shape=(3, 4)) # dtype을 생략하면 np.float64로 배열이 만들어진다.\n",
    "a = np.zeros(shape=(3, 4), dtype=np.int) # dtype을 지정하면 지정된 dtype으로 배열이 만들어진다.\n",
    "pprint(a)"
   ]
  },
  {
   "cell_type": "code",
   "execution_count": 30,
   "id": "68397f38",
   "metadata": {},
   "outputs": [
    {
     "name": "stdout",
     "output_type": "stream",
     "text": [
      "type: <class 'numpy.ndarray'>\n",
      "shape: (2, 3, 4), dimension: 3, dtype: int32\n",
      "numpy 배열의 데이터\n",
      "[[[1 1 1 1]\n",
      "  [1 1 1 1]\n",
      "  [1 1 1 1]]\n",
      "\n",
      " [[1 1 1 1]\n",
      "  [1 1 1 1]\n",
      "  [1 1 1 1]]]\n"
     ]
    }
   ],
   "source": [
    "# ones() 메소드는 지정된 shape 만큼의 배열을 생성하고 모든 요소를 1로 초기화 시킨다.\n",
    "# ones(shape[, dtype, order])\n",
    "a = np.ones(shape=(2, 3, 4), dtype=np.int)\n",
    "pprint(a)"
   ]
  },
  {
   "cell_type": "code",
   "execution_count": 32,
   "id": "86506480",
   "metadata": {
    "scrolled": true
   },
   "outputs": [
    {
     "name": "stdout",
     "output_type": "stream",
     "text": [
      "type: <class 'numpy.ndarray'>\n",
      "shape: (3, 4), dimension: 2, dtype: int32\n",
      "numpy 배열의 데이터\n",
      "[[7 7 7 7]\n",
      " [7 7 7 7]\n",
      " [7 7 7 7]]\n"
     ]
    }
   ],
   "source": [
    "# full() 메소드는 지정된 shape 만큼의 배열을 생성하고 모든 요소를 특정 값으로 초기화 시킨다.\n",
    "# full(shape, fill_value[, dtype, order])\n",
    "a = np.full(shape=(3, 4), fill_value=7, dtype=np.int)\n",
    "pprint(a)"
   ]
  },
  {
   "cell_type": "code",
   "execution_count": 35,
   "id": "669b8546",
   "metadata": {},
   "outputs": [
    {
     "name": "stdout",
     "output_type": "stream",
     "text": [
      "type: <class 'numpy.ndarray'>\n",
      "shape: (5, 5), dimension: 2, dtype: int32\n",
      "numpy 배열의 데이터\n",
      "[[1 0 0 0 0]\n",
      " [0 1 0 0 0]\n",
      " [0 0 1 0 0]\n",
      " [0 0 0 1 0]\n",
      " [0 0 0 0 1]]\n"
     ]
    }
   ],
   "source": [
    "# eye() 메소드는 지정된 shape 만큼의 크기를 가지는 단위 행렬(주 대각 요소만 1이고, 나머지는 0인 행렬)을 만든다.\n",
    "# eye(n[, dtype])\n",
    "a = np.eye(5, dtype=np.int)\n",
    "pprint(a)"
   ]
  },
  {
   "cell_type": "code",
   "execution_count": 42,
   "id": "ecf1757e",
   "metadata": {},
   "outputs": [
    {
     "name": "stdout",
     "output_type": "stream",
     "text": [
      "type: <class 'numpy.ndarray'>\n",
      "shape: (3, 4), dimension: 2, dtype: int32\n",
      "numpy 배열의 데이터\n",
      "[[7 7 7 7]\n",
      " [7 7 7 7]\n",
      " [7 7 7 7]]\n"
     ]
    }
   ],
   "source": [
    "# empty() 메소드는 지정된 shape 만큼의 배열울 만들기만 하고, 초기화를 하지 않는다. => 쓰레기가 저장된다.\n",
    "# empty(shape[, dtype, order])\n",
    "a = np.empty(shape=(3, 4), dtype=np.int)\n",
    "pprint(a)"
   ]
  },
  {
   "cell_type": "markdown",
   "id": "89e2cd78",
   "metadata": {},
   "source": [
    "like 메소드  \n",
    "numpy는 인수로 지정한 배열과 shape이 같은 배열을 만드는 like 메소드를 제공한다.  \n",
    "zeros_like(), ones_like(), full_like(), empty_like()"
   ]
  },
  {
   "cell_type": "code",
   "execution_count": 49,
   "id": "b3b1bee9",
   "metadata": {},
   "outputs": [
    {
     "name": "stdout",
     "output_type": "stream",
     "text": [
      "[[1 2 3]\n",
      " [4 5 6]]\n",
      "==================================================\n",
      "[[0 0 0]\n",
      " [0 0 0]]\n",
      "==================================================\n",
      "[[1 1 1]\n",
      " [1 1 1]]\n",
      "==================================================\n",
      "[[9 9 9]\n",
      " [9 9 9]]\n",
      "==================================================\n",
      "[[9 9 9]\n",
      " [9 9 9]]\n"
     ]
    }
   ],
   "source": [
    "a = np.array([[1, 2, 3], [4, 5, 6]])\n",
    "print(a)\n",
    "print('=' * 50)\n",
    "b = np.zeros_like(a)\n",
    "print(b)\n",
    "print('=' * 50)\n",
    "c = np.ones_like(a)\n",
    "print(c)\n",
    "print('=' * 50)\n",
    "d = np.full_like(a, fill_value=9)\n",
    "print(d)\n",
    "print('=' * 50)\n",
    "e = np.empty_like(a)\n",
    "print(e)"
   ]
  },
  {
   "cell_type": "markdown",
   "id": "d65d8e8a",
   "metadata": {},
   "source": [
    "<h1 style=\"color:red;\">시각화</h1>\n",
    "\n",
    "!pip install matplotlib"
   ]
  },
  {
   "cell_type": "code",
   "execution_count": 69,
   "id": "b198f3ae",
   "metadata": {},
   "outputs": [],
   "source": [
    "import matplotlib.pyplot as plt # 시각화 라이브러리 import\n",
    "#%matplotlib inline\n"
   ]
  },
  {
   "cell_type": "markdown",
   "id": "de284fdc",
   "metadata": {},
   "source": [
    "<h1 style=\"color:red;\">데이터 생성 메소드</h1>  \n",
    "\n",
    "numpy는 주어진 조건으로 데이터를 생성한 후 배열을 만드는 데이터 생성 메소드를 제공한다.  \n",
    "linspace(), arange(), logspace()"
   ]
  },
  {
   "cell_type": "code",
   "execution_count": 51,
   "id": "455c126d",
   "metadata": {},
   "outputs": [
    {
     "name": "stdout",
     "output_type": "stream",
     "text": [
      "type: <class 'numpy.ndarray'>\n",
      "shape: (5,), dimension: 1, dtype: float64\n",
      "numpy 배열의 데이터\n",
      "[0.   0.25 0.5  0.75 1.  ]\n"
     ]
    }
   ],
   "source": [
    "# linspace() 메소드는 start 부터 stop의 범위에서 num개를 균일한 간격으로 데이터를 생성하고, 배열을 만든다.\n",
    "# linspace(start, stop, num)\n",
    "a = np.linspace(0, 1, 5)\n",
    "pprint(a)"
   ]
  },
  {
   "cell_type": "code",
   "execution_count": 68,
   "id": "1e12799b",
   "metadata": {},
   "outputs": [
    {
     "data": {
      "image/png": "[encoded data removed]",
      "text/plain": [
       "<Figure size 576x432 with 1 Axes>"
      ]
     },
     "metadata": {
      "needs_background": "light"
     },
     "output_type": "display_data"
    }
   ],
   "source": [
    "plt.figure(figsize=(8, 6))\n",
    "plt.plot(a, 'r')\n",
    "plt.show()"
   ]
  },
  {
   "cell_type": "code",
   "execution_count": 73,
   "id": "02875e8a",
   "metadata": {},
   "outputs": [
    {
     "name": "stdout",
     "output_type": "stream",
     "text": [
      "type: <class 'numpy.ndarray'>\n",
      "shape: (5,), dimension: 1, dtype: float32\n",
      "numpy 배열의 데이터\n",
      "[0. 2. 4. 6. 8.]\n"
     ]
    }
   ],
   "source": [
    "# arange() 메소드는 start 부터 stop 미만까지 step 간격으로 데이터를 생성하고 배열을 만든다.\n",
    "# arange([start, ]stop[, step, dtype])\n",
    "# linspace() 메소드는 요소의 개수를 지정해 배열을 만들지만, arange() 메소드는 요소의 개수가 아닌 데이터의 간격을 기준으로 균등한 간격의 배열을 만든다.\n",
    "# start를 생략하면 0, step을 생략하면 1이 기본값으로 사용된다.\n",
    "# arange(10), arange(0, 10), arange(0, 10, 1)은 모두 같은 기능이 실행된다.\n",
    "a = np.arange(0, 10, 2, dtype=np.float32)\n",
    "pprint(a)"
   ]
  },
  {
   "cell_type": "code",
   "execution_count": 80,
   "id": "10f080c7",
   "metadata": {},
   "outputs": [
    {
     "data": {
      "image/png": "[encoded data removed]",
      "text/plain": [
       "<Figure size 576x432 with 1 Axes>"
      ]
     },
     "metadata": {
      "needs_background": "light"
     },
     "output_type": "display_data"
    }
   ],
   "source": [
    "plt.figure(figsize=(8, 6))\n",
    "plt.plot(a, 'r')\n",
    "plt.show()"
   ]
  },
  {
   "cell_type": "code",
   "execution_count": 75,
   "id": "022ed795",
   "metadata": {},
   "outputs": [
    {
     "name": "stdout",
     "output_type": "stream",
     "text": [
      "type: <class 'numpy.ndarray'>\n",
      "shape: (100,), dimension: 1, dtype: float64\n",
      "numpy 배열의 데이터\n",
      "[1.00000000e+01 1.23284674e+01 1.51991108e+01 1.87381742e+01\n",
      " 2.31012970e+01 2.84803587e+01 3.51119173e+01 4.32876128e+01\n",
      " 5.33669923e+01 6.57933225e+01 8.11130831e+01 1.00000000e+02\n",
      " 1.23284674e+02 1.51991108e+02 1.87381742e+02 2.31012970e+02\n",
      " 2.84803587e+02 3.51119173e+02 4.32876128e+02 5.33669923e+02\n",
      " 6.57933225e+02 8.11130831e+02 1.00000000e+03 1.23284674e+03\n",
      " 1.51991108e+03 1.87381742e+03 2.31012970e+03 2.84803587e+03\n",
      " 3.51119173e+03 4.32876128e+03 5.33669923e+03 6.57933225e+03\n",
      " 8.11130831e+03 1.00000000e+04 1.23284674e+04 1.51991108e+04\n",
      " 1.87381742e+04 2.31012970e+04 2.84803587e+04 3.51119173e+04\n",
      " 4.32876128e+04 5.33669923e+04 6.57933225e+04 8.11130831e+04\n",
      " 1.00000000e+05 1.23284674e+05 1.51991108e+05 1.87381742e+05\n",
      " 2.31012970e+05 2.84803587e+05 3.51119173e+05 4.32876128e+05\n",
      " 5.33669923e+05 6.57933225e+05 8.11130831e+05 1.00000000e+06\n",
      " 1.23284674e+06 1.51991108e+06 1.87381742e+06 2.31012970e+06\n",
      " 2.84803587e+06 3.51119173e+06 4.32876128e+06 5.33669923e+06\n",
      " 6.57933225e+06 8.11130831e+06 1.00000000e+07 1.23284674e+07\n",
      " 1.51991108e+07 1.87381742e+07 2.31012970e+07 2.84803587e+07\n",
      " 3.51119173e+07 4.32876128e+07 5.33669923e+07 6.57933225e+07\n",
      " 8.11130831e+07 1.00000000e+08 1.23284674e+08 1.51991108e+08\n",
      " 1.87381742e+08 2.31012970e+08 2.84803587e+08 3.51119173e+08\n",
      " 4.32876128e+08 5.33669923e+08 6.57933225e+08 8.11130831e+08\n",
      " 1.00000000e+09 1.23284674e+09 1.51991108e+09 1.87381742e+09\n",
      " 2.31012970e+09 2.84803587e+09 3.51119173e+09 4.32876128e+09\n",
      " 5.33669923e+09 6.57933225e+09 8.11130831e+09 1.00000000e+10]\n"
     ]
    }
   ],
   "source": [
    "# logspace() 메소드는 로그 스케일로 지정된 범위(start 부터 stop 사이)에서 num개 만큼 균등한 간격으로 데이터를 생성하고, 배열을 만든다.\n",
    "# logspace(start, end, num[, base]) # base를 생략하면 10이 기본값으로 사용된다.\n",
    "a = np.logspace(1, 10, 100)\n",
    "pprint(a)"
   ]
  },
  {
   "cell_type": "code",
   "execution_count": 78,
   "id": "6474ed3e",
   "metadata": {},
   "outputs": [
    {
     "data": {
      "image/png": "[encoded data removed]",
      "text/plain": [
       "<Figure size 576x432 with 1 Axes>"
      ]
     },
     "metadata": {
      "needs_background": "light"
     },
     "output_type": "display_data"
    }
   ],
   "source": [
    "plt.figure(figsize=(8, 6))\n",
    "plt.plot(a, 'r')\n",
    "plt.show()"
   ]
  },
  {
   "cell_type": "markdown",
   "id": "e1d46f2e",
   "metadata": {},
   "source": [
    "<h1 style=\"color:red;\">난수 기반 배열 생성</h1>\n",
    "\n",
    "numpy는 난수 발생 및 배열을 생성하는 random 이라는 모듈을 제공하고 다음과 같은 메소드를 사용할 수 있다.  \n",
    "noraml(), randn(), rand(), randint(), random()"
   ]
  },
  {
   "cell_type": "code",
   "execution_count": 93,
   "id": "e1bf344e",
   "metadata": {},
   "outputs": [
    {
     "name": "stdout",
     "output_type": "stream",
     "text": [
      "type: <class 'numpy.ndarray'>\n",
      "shape: (10,), dimension: 1, dtype: float64\n",
      "numpy 배열의 데이터\n",
      "[ 0.5080109   0.33577469  0.24094804  1.30719531 -0.51344806 -1.79005697\n",
      " -0.33016141  0.10391137 -0.41682558 -0.71462634]\n"
     ]
    },
    {
     "data": {
      "image/png": "[encoded data removed]",
      "text/plain": [
       "<Figure size 576x432 with 1 Axes>"
      ]
     },
     "metadata": {
      "needs_background": "light"
     },
     "output_type": "display_data"
    }
   ],
   "source": [
    "# normal() 메소드는 정규 분포를 따르는 난수 데이터를 생성하고 배열을 만든다.\n",
    "# normal(평균, 표준편차, 난수의 개수)\n",
    "a = np.random.normal(0, 1, 10)\n",
    "pprint(a)\n",
    "\n",
    "plt.figure(figsize=(8, 6))\n",
    "plt.hist(a)\n",
    "plt.show()"
   ]
  },
  {
   "cell_type": "code",
   "execution_count": 95,
   "id": "5a76a2d2",
   "metadata": {
    "scrolled": true
   },
   "outputs": [
    {
     "name": "stdout",
     "output_type": "stream",
     "text": [
      "type: <class 'numpy.ndarray'>\n",
      "shape: (10000,), dimension: 1, dtype: float64\n",
      "numpy 배열의 데이터\n",
      "[-0.52079508  0.13003856  1.60972014 ...  1.20405568  0.17816696\n",
      " -0.60850205]\n"
     ]
    },
    {
     "data": {
      "image/png": "[encoded data removed]",
      "text/plain": [
       "<Figure size 576x432 with 1 Axes>"
      ]
     },
     "metadata": {
      "needs_background": "light"
     },
     "output_type": "display_data"
    }
   ],
   "source": [
    "a = np.random.normal(0, 1, 10000)\n",
    "pprint(a)\n",
    "\n",
    "plt.figure(figsize=(8, 6))\n",
    "plt.hist(a)\n",
    "plt.show()"
   ]
  },
  {
   "cell_type": "code",
   "execution_count": 96,
   "id": "53fc0147",
   "metadata": {},
   "outputs": [
    {
     "name": "stdout",
     "output_type": "stream",
     "text": [
      "type: <class 'numpy.ndarray'>\n",
      "shape: (3, 4), dimension: 2, dtype: float64\n",
      "numpy 배열의 데이터\n",
      "[[0.4184639  0.74816962 0.50085113 0.03689917]\n",
      " [0.24952225 0.53543301 0.54665189 0.83755658]\n",
      " [0.99946964 0.7373525  0.35953312 0.0293296 ]]\n"
     ]
    }
   ],
   "source": [
    "# randn() 메소드는 표준 정규 분포(평균이 0, 표준편차 1)를 따르는 난수 데이터를 생성하고 배열을 만든다.\n",
    "# randn(난수의 개수)\n",
    "a = np.random.rand(3, 4)\n",
    "pprint(a)"
   ]
  },
  {
   "cell_type": "code",
   "execution_count": 97,
   "id": "614398f0",
   "metadata": {},
   "outputs": [
    {
     "name": "stdout",
     "output_type": "stream",
     "text": [
      "type: <class 'numpy.ndarray'>\n",
      "shape: (10,), dimension: 1, dtype: float64\n",
      "numpy 배열의 데이터\n",
      "[0.06896135 0.32377454 0.40979227 0.24341414 0.77134121 0.81315295\n",
      " 0.53225127 0.71699313 0.19692126 0.50412397]\n"
     ]
    }
   ],
   "source": [
    "# random() 메소드는 0부터 1 사이의 균등 분포에서 난수로 데이터를 생성하고 배열을 만든다.\n",
    "# random(난수의 개수)\n",
    "a = np.random.random(10)\n",
    "pprint(a)"
   ]
  },
  {
   "cell_type": "code",
   "execution_count": 99,
   "id": "896dbb99",
   "metadata": {},
   "outputs": [
    {
     "data": {
      "image/png": "[encoded data removed]",
      "text/plain": [
       "<Figure size 576x432 with 1 Axes>"
      ]
     },
     "metadata": {
      "needs_background": "light"
     },
     "output_type": "display_data"
    }
   ],
   "source": [
    "a = np.random.random(100000)\n",
    "plt.figure(figsize=(8, 6))\n",
    "plt.hist(a, bins=100)\n",
    "plt.show()"
   ]
  },
  {
   "cell_type": "code",
   "execution_count": 102,
   "id": "2bd5d607",
   "metadata": {},
   "outputs": [
    {
     "name": "stdout",
     "output_type": "stream",
     "text": [
      "type: <class 'numpy.ndarray'>\n",
      "shape: (3, 4), dimension: 2, dtype: float64\n",
      "numpy 배열의 데이터\n",
      "[[0.95183751 0.12811733 0.38278705 0.57632501]\n",
      " [0.57436856 0.52839612 0.84047229 0.82537646]\n",
      " [0.90804591 0.29884219 0.14761168 0.69360828]]\n"
     ]
    }
   ],
   "source": [
    "a = np.random.random((3, 4))\n",
    "pprint(a)"
   ]
  },
  {
   "cell_type": "markdown",
   "id": "278bc291",
   "metadata": {},
   "source": [
    "<h1 style=\"color:red;\">약속된 난수</h1>\n",
    "\n",
    "무작위 수를 발생시키는 난수 발생 메소드는 특정 시작 숫자로부터 난수처럼 보이는 수열을 만드는 알고리즘의 결과물이다.  \n",
    "따라서 시작점을 설정하면 난수 발생을 재연할 수 있다. => 매번 같은 배열의 난수가 발생되게 할 수 있다."
   ]
  },
  {
   "cell_type": "code",
   "execution_count": 108,
   "id": "1fbc5ef5",
   "metadata": {},
   "outputs": [
    {
     "name": "stdout",
     "output_type": "stream",
     "text": [
      "[[0.54340494 0.27836939 0.42451759]\n",
      " [0.84477613 0.00471886 0.12156912]]\n",
      "==================================================\n",
      "[[0.67074908 0.82585276 0.13670659]\n",
      " [0.57509333 0.89132195 0.20920212]]\n",
      "==================================================\n",
      "[[0 9 6]\n",
      " [2 4 1]]\n",
      "==================================================\n"
     ]
    }
   ],
   "source": [
    "# seed() 메소드로 매번 같은 배열의 난수를 얻을 수 있다.\n",
    "np.random.seed(100)\n",
    "print(np.random.rand(2, 3))\n",
    "print('=' * 50)\n",
    "print(np.random.random((2, 3)))\n",
    "print('=' * 50)\n",
    "print(np.random.randint(0, 10, (2, 3)))\n",
    "print('=' * 50)"
   ]
  },
  {
   "cell_type": "markdown",
   "id": "b477e282",
   "metadata": {},
   "source": [
    "배열의 상태 검사"
   ]
  },
  {
   "cell_type": "code",
   "execution_count": null,
   "id": "bb243b14",
   "metadata": {},
   "outputs": [],
   "source": [
    "# numpy는 배열의 상태를 검사하는 다음과 같은 방법을 제공한다.\n",
    "# 배열 속성 검사 항목      배열 속성 확인 방법      예시                 결과\n",
    "# 배열 shape               넘파이배열.shape         arr.shape            (5, 2, 3)\n",
    "# 배열 길이                len(넘파이배열)          len(arr)             5\n",
    "# 배열 차원                넘파이배열.ndim          arr.ndim             3\n",
    "# 배열 요소 개수           넘파이배열.size          arr.size             30\n",
    "# 배열 타입                넘파이배열.dtype         arr.dtype            dtype('float64')\n",
    "# 배열 타입 이름           넘파이배열.dtype.name    arr.dtype.name       float64\n",
    "# 배열 타입 변환           넘파이배열.astype()      arr.astype(np.int)   "
   ]
  },
  {
   "cell_type": "code",
   "execution_count": 109,
   "id": "b557a4b3",
   "metadata": {},
   "outputs": [
    {
     "name": "stdout",
     "output_type": "stream",
     "text": [
      "type: <class 'numpy.ndarray'>\n",
      "shape: (2, 3, 6), dimension: 3, dtype: float64\n",
      "numpy 배열의 데이터\n",
      "[[[0.07898787 0.31135313 0.63238359 0.69935892 0.64196495 0.92002378]\n",
      "  [0.29887635 0.56874553 0.17862432 0.5325737  0.64669147 0.14206538]\n",
      "  [0.58138896 0.47918994 0.38641911 0.44046495 0.40475733 0.44225404]]\n",
      "\n",
      " [[0.03012328 0.77600531 0.55095838 0.3810734  0.52926578 0.9568769 ]\n",
      "  [0.17582131 0.11830284 0.86294567 0.07486688 0.82509486 0.83613181]\n",
      "  [0.07539491 0.01140079 0.04842057 0.35712271 0.66569338 0.01138961]]]\n"
     ]
    }
   ],
   "source": [
    "arr = np.random.random((2, 3, 6))\n",
    "pprint(arr)"
   ]
  },
  {
   "cell_type": "markdown",
   "id": "475225cf",
   "metadata": {},
   "source": [
    "numpy 배열 객체는 다음과 같은 방법으로 속성을 확인할 수 있다."
   ]
  },
  {
   "cell_type": "code",
   "execution_count": 110,
   "id": "34c000b4",
   "metadata": {},
   "outputs": [
    {
     "name": "stdout",
     "output_type": "stream",
     "text": [
      "배열의 타입: <class 'numpy.ndarray'>\n"
     ]
    }
   ],
   "source": [
    "print('배열의 타입: {}'.format(type(arr)))"
   ]
  },
  {
   "cell_type": "code",
   "execution_count": 111,
   "id": "cbc7fb51",
   "metadata": {},
   "outputs": [
    {
     "name": "stdout",
     "output_type": "stream",
     "text": [
      "배열의 shape: (2, 3, 6)\n"
     ]
    }
   ],
   "source": [
    "print('배열의 shape: {}'.format(arr.shape))"
   ]
  },
  {
   "cell_type": "code",
   "execution_count": 113,
   "id": "1fbfb905",
   "metadata": {},
   "outputs": [
    {
     "name": "stdout",
     "output_type": "stream",
     "text": [
      "배열의 길이(면): 2\n",
      "배열의 길이(행): 3\n",
      "배열의 길이(열): 6\n"
     ]
    }
   ],
   "source": [
    "print('배열의 길이(면): {}'.format(len(arr)))\n",
    "print('배열의 길이(행): {}'.format(len(arr[0])))\n",
    "print('배열의 길이(열): {}'.format(len(arr[0][0])))"
   ]
  },
  {
   "cell_type": "code",
   "execution_count": 114,
   "id": "2f9cba90",
   "metadata": {},
   "outputs": [
    {
     "name": "stdout",
     "output_type": "stream",
     "text": [
      "배열의 차원: 3\n"
     ]
    }
   ],
   "source": [
    "print('배열의 차원: {}'.format(arr.ndim))"
   ]
  },
  {
   "cell_type": "code",
   "execution_count": 115,
   "id": "68c6c5b1",
   "metadata": {},
   "outputs": [
    {
     "name": "stdout",
     "output_type": "stream",
     "text": [
      "배열의 요소의 개수: 36\n"
     ]
    }
   ],
   "source": [
    "print('배열의 요소의 개수: {}'.format(arr.size))"
   ]
  },
  {
   "cell_type": "code",
   "execution_count": 116,
   "id": "6b4b76bd",
   "metadata": {},
   "outputs": [
    {
     "name": "stdout",
     "output_type": "stream",
     "text": [
      "배열의 데이터 타입: float64\n"
     ]
    }
   ],
   "source": [
    "print('배열의 데이터 타입: {}'.format(arr.dtype))"
   ]
  },
  {
   "cell_type": "code",
   "execution_count": 119,
   "id": "cf8695a1",
   "metadata": {},
   "outputs": [
    {
     "name": "stdout",
     "output_type": "stream",
     "text": [
      "[[[0 0 0 0 0 0]\n",
      "  [0 0 0 0 0 0]\n",
      "  [0 0 0 0 0 0]]\n",
      "\n",
      " [[0 0 0 0 0 0]\n",
      "  [0 0 0 0 0 0]\n",
      "  [0 0 0 0 0 0]]]\n",
      "[[[0.07898787 0.31135313 0.63238359 0.69935892 0.64196495 0.92002378]\n",
      "  [0.29887635 0.56874553 0.17862432 0.5325737  0.64669147 0.14206538]\n",
      "  [0.58138896 0.47918994 0.38641911 0.44046495 0.40475733 0.44225404]]\n",
      "\n",
      " [[0.03012328 0.77600531 0.55095838 0.3810734  0.52926578 0.9568769 ]\n",
      "  [0.17582131 0.11830284 0.86294567 0.07486688 0.82509486 0.83613181]\n",
      "  [0.07539491 0.01140079 0.04842057 0.35712271 0.66569338 0.01138961]]]\n",
      "==================================================\n",
      "[[[0 0 0 0 0 0]\n",
      "  [0 0 0 0 0 0]\n",
      "  [0 0 0 0 0 0]]\n",
      "\n",
      " [[0 0 0 0 0 0]\n",
      "  [0 0 0 0 0 0]\n",
      "  [0 0 0 0 0 0]]]\n"
     ]
    }
   ],
   "source": [
    "# 배열 요소를 정수(int)로 변환한다.\n",
    "print(arr.astype(np.int))\n",
    "print(arr)\n",
    "print('=' * 50)\n",
    "\n",
    "arr = arr.astype(np.int)\n",
    "print(arr)"
   ]
  }
 ],
 "metadata": {
  "kernelspec": {
   "display_name": "Python 3",
   "language": "python",
   "name": "python3"
  },
  "language_info": {
   "codemirror_mode": {
    "name": "ipython",
    "version": 3
   },
   "file_extension": ".py",
   "mimetype": "text/x-python",
   "name": "python",
   "nbconvert_exporter": "python",
   "pygments_lexer": "ipython3",
   "version": "3.6.8"
  }
 },
 "nbformat": 4,
 "nbformat_minor": 5
}

{
 "cells": [
  {
   "cell_type": "code",
   "execution_count": 1,
   "id": "88b64376",
   "metadata": {},
   "outputs": [],
   "source": [
    "import warnings\n",
    "warnings.filterwarnings(action='ignore')\n",
    "%config Computer.use_hedi = False\n",
    "import numpy as np\n",
    "import pandas as pd\n",
    "import matplotlib.pyplot as plt\n",
    "import seaborn as sns"
   ]
  },
  {
   "cell_type": "code",
   "execution_count": 2,
   "id": "2c5b9588",
   "metadata": {},
   "outputs": [],
   "source": [
    "import matplotlib as mpl\n",
    "import matplotlib.font_manager as fm\n",
    "# 한글 폰트를 사용할 때 마이너스 부호가 깨져보이는 문제에 대처한다.\n",
    "mpl.rcParams['axes.unicode_minus'] = False"
   ]
  },
  {
   "cell_type": "code",
   "execution_count": 3,
   "id": "6ef63b58",
   "metadata": {},
   "outputs": [
    {
     "data": {
      "text/plain": [
       "array([ -65,   16,    0,   41,   96,  179,  244,  309,  371,  420,  426,\n",
       "        335,  357,  339,  269,  256,  342,  270,  244,  308,  291,  333,\n",
       "        310,  319,  242,  337,  313,  245,  169,   93,   30,    8,  -73,\n",
       "       -149, -146,  -69,  -19,  -33,   42,  -19,  -82,  -57,    7,  -50,\n",
       "        -34,  -44,  -28,  -83,  -83,  -28], dtype=int32)"
      ]
     },
     "execution_count": 3,
     "metadata": {},
     "output_type": "execute_result"
    }
   ],
   "source": [
    "data = np.random.randint(-100, 100, 50).cumsum()\n",
    "data"
   ]
  },
  {
   "cell_type": "code",
   "execution_count": null,
   "id": "39c1fc04",
   "metadata": {},
   "outputs": [],
   "source": [
    "plt.figure(figsize=(8, 6)) # 차트 크기 설정\n",
    "#plt.rcParams['figure.figsize'] = (8, 6) # 차트 크기 설정\n",
    "plt.plot(range(50), data, 'r')\n",
    "plt.title('시간별 가격 추이') # 차트 제목\n",
    "plt.xlabel('시간(분)') # x축 제목\n",
    "plt.xlabel('가격') # y축 제목\n",
    "plt.show()"
   ]
  },
  {
   "cell_type": "markdown",
   "id": "fbd7d9f1",
   "metadata": {},
   "source": [
    "폰트를 설정해 주기에 앞서 설치된 matplotlib의 버전과 설치된 위치 정보를 확인한다."
   ]
  },
  {
   "cell_type": "code",
   "execution_count": null,
   "id": "c1066e83",
   "metadata": {},
   "outputs": [],
   "source": [
    "print('버전', mpl.__version__)\n",
    "print('설치 경로:', mpl.__file__)\n",
    "print('환경 설정 정보 경로:', mpl.get_configdir())\n",
    "print('캐시 경로:', mpl.get_cachedir())"
   ]
  },
  {
   "cell_type": "markdown",
   "id": "71e7586c",
   "metadata": {},
   "source": [
    "matplotlib의 설정 위치 정보를 알았으니 설정 파일의 위치를 확인한다."
   ]
  },
  {
   "cell_type": "code",
   "execution_count": null,
   "id": "f5eb221e",
   "metadata": {},
   "outputs": [],
   "source": [
    "print('설정 파일 경로:', mpl.matplotlib_fname())"
   ]
  },
  {
   "cell_type": "markdown",
   "id": "08a6c78f",
   "metadata": {},
   "source": [
    "컴퓨터에 설치된 폰트 목록을 얻어온다."
   ]
  },
  {
   "cell_type": "code",
   "execution_count": null,
   "id": "ef294fb4",
   "metadata": {},
   "outputs": [],
   "source": [
    "font_list = fm.findSystemFonts(fontpaths=None, fontext='ttf')\n",
    "print(len(font_list))"
   ]
  },
  {
   "cell_type": "code",
   "execution_count": null,
   "id": "da2a513c",
   "metadata": {},
   "outputs": [],
   "source": [
    "f = [f.name for f in fm.fontManager.ttflist]\n",
    "print(len(f))\n",
    "print(f[:10])"
   ]
  },
  {
   "cell_type": "markdown",
   "id": "a631800f",
   "metadata": {},
   "source": [
    "나눔 글꼴을 사용할 것이므로 폰트 이름에 'Nanum'이 포함된 폰트만 가져온다."
   ]
  },
  {
   "cell_type": "code",
   "execution_count": null,
   "id": "1d2ded87",
   "metadata": {},
   "outputs": [],
   "source": [
    "font_list = [(f.name, f.fname) for f in fm.fontManager.ttflist if 'Nanum' in f.name]\n",
    "font_list[:10]"
   ]
  },
  {
   "cell_type": "markdown",
   "id": "db2082aa",
   "metadata": {},
   "source": [
    "폰트를 설치했는데 위의 코드를 실행한 결과가 []만 나오거나 설치한 폰트가 보이지 않는다면 캐시 폴더로 이동해 폴더의 모든 내용을 삭제하 후 다시 실행하면 폰트 목록이 정상적으로 보인다."
   ]
  },
  {
   "cell_type": "code",
   "execution_count": null,
   "id": "941744ce",
   "metadata": {},
   "outputs": [],
   "source": [
    "#mpl.font_manager._rebuild()"
   ]
  },
  {
   "cell_type": "markdown",
   "id": "cff62df8",
   "metadata": {},
   "source": [
    "한글 폰트를 사용하도록 설정하는 방법은 3가지가 있다.\n",
    "\n",
    "<1> FontProperties를 사용하는 방법 => 그래프에 폰트가 필요한 항목마다 개별적으로 지정한다."
   ]
  },
  {
   "cell_type": "code",
   "execution_count": null,
   "id": "f5364351",
   "metadata": {},
   "outputs": [],
   "source": [
    "# 텍스트를 지정하는 항목에 지정해서 사용할 수 있고, 지정해준 항목에만 해당 폰트가 적용된다.\n",
    "# matplotlib.pyplot => title(), xlabel(), ylabel(), legend(), text()\n",
    "# matplotlib.axes => set_title()\n",
    "\n",
    "font = 'C:\\\\Windows\\\\Fonts\\\\NanumGothicCoding.ttf'\n",
    "fontprop = fm.FontProperties(fname=font)"
   ]
  },
  {
   "cell_type": "code",
   "execution_count": null,
   "id": "c6f0c67f",
   "metadata": {},
   "outputs": [],
   "source": [
    "plt.figure(figsize=(8, 6)) # 차트 크기 설정\n",
    "plt.plot(range(50), data, 'r')\n",
    "plt.title('시간별 가격 추이', fontproperties=fontprop) # 차트 제목\n",
    "plt.xlabel('시간(분)', fontproperties=fontprop) # x축 제목\n",
    "plt.xlabel('가격', fontproperties=fontprop) # y축 제목\n",
    "plt.show()"
   ]
  },
  {
   "cell_type": "markdown",
   "id": "5e126130",
   "metadata": {},
   "source": [
    "<2> matplotlib 라이브러리의 rcParams[]로 전역 글꼴 설정 => 그래프의 폰트 설정이 필요한 파일마다 지정한다."
   ]
  },
  {
   "cell_type": "code",
   "execution_count": null,
   "id": "619c6181",
   "metadata": {},
   "outputs": [],
   "source": [
    "# matplotlib 폰트 기본 설정 정보 읽기\n",
    "print('기본으로 설정된 폰트 이름:', plt.rcParams['font.family'])\n",
    "print('기본으로 설정된 폰트 크기:', plt.rcParams['font.size'])"
   ]
  },
  {
   "cell_type": "code",
   "execution_count": null,
   "id": "2ec460d0",
   "metadata": {},
   "outputs": [],
   "source": [
    "# 2-1\n",
    "plt.rcParams['font.family'] = 'NanumGothicCoding'\n",
    "plt.rcParams['font.size'] = 15"
   ]
  },
  {
   "cell_type": "code",
   "execution_count": null,
   "id": "fe79cf1b",
   "metadata": {},
   "outputs": [],
   "source": [
    "print('변경된 폰트 이름:', plt.rcParams['font.family'])\n",
    "print('변경된 폰트 크기:', plt.rcParams['font.size'])"
   ]
  },
  {
   "cell_type": "code",
   "execution_count": null,
   "id": "f9c92d54",
   "metadata": {},
   "outputs": [],
   "source": [
    "plt.figure(figsize=(8, 6)) # 차트 크기 설정\n",
    "plt.plot(range(50), data, 'r')\n",
    "plt.title('시간별 가격 추이') # 차트 제목\n",
    "plt.xlabel('시간(분)') # x축 제목\n",
    "plt.xlabel('가격') # y축 제목\n",
    "plt.show()"
   ]
  },
  {
   "cell_type": "code",
   "execution_count": 4,
   "id": "606ee4ce",
   "metadata": {},
   "outputs": [
    {
     "name": "stdout",
     "output_type": "stream",
     "text": [
      "NanumGothicCoding\n"
     ]
    }
   ],
   "source": [
    "# 2-2\n",
    "# rcParams 대신 FontProperties의 plt.rc를 사용하는 방법이 있다.\n",
    "font = 'C:\\\\Windows\\\\Fonts\\\\NanumGothicCoding.ttf'\n",
    "font_name = fm.FontProperties(fname=font, size=15).get_name()\n",
    "print(font_name)\n",
    "plt.rc('font', family=font_name)"
   ]
  },
  {
   "cell_type": "code",
   "execution_count": 5,
   "id": "916f540d",
   "metadata": {},
   "outputs": [
    {
     "name": "stderr",
     "output_type": "stream",
     "text": [
      "findfont: Font family ['NanumGothicCoding'] not found. Falling back to DejaVu Sans.\n",
      "findfont: Font family ['NanumGothicCoding'] not found. Falling back to DejaVu Sans.\n"
     ]
    },
    {
     "data": {
      "image/png": "[encoded data removed]",
      "text/plain": [
       "<Figure size 576x432 with 1 Axes>"
      ]
     },
     "metadata": {
      "needs_background": "light"
     },
     "output_type": "display_data"
    }
   ],
   "source": [
    "plt.figure(figsize=(8, 6)) # 차트 크기 설정\n",
    "plt.plot(range(50), data, 'r')\n",
    "plt.title('시간별 가격 추이') # 차트 제목\n",
    "plt.xlabel('시간(분)') # x축 제목\n",
    "plt.xlabel('가격') # y축 제목\n",
    "plt.show()"
   ]
  },
  {
   "cell_type": "markdown",
   "id": "7be27cc6",
   "metadata": {},
   "source": [
    "<3> 폰트 설정 정보를 matplotlibrc 파일에 직접 넣어준다. => 그래프의 폰트가 필요한 컴퓨터 단위로 지정한다."
   ]
  },
  {
   "cell_type": "code",
   "execution_count": 6,
   "id": "d158dd09",
   "metadata": {},
   "outputs": [
    {
     "name": "stdout",
     "output_type": "stream",
     "text": [
      "c:\\python\\lib\\site-packages\\matplotlib\\mpl-data\\matplotlibrc\n"
     ]
    }
   ],
   "source": [
    "# mpl.matplotlib_fname()를 실행하면 출력되는 경로의 matplotlibrc 파일을 수정한다.\n",
    "# matplotlibrc 파일을 수정하면 쥬피터 노트북을 실행할 때 마다 별도의 설정없이 matplotlibrc 파일의 설정을 사용한다.\n",
    "print(mpl.matplotlib_fname())"
   ]
  },
  {
   "cell_type": "code",
   "execution_count": null,
   "id": "366fc0c8",
   "metadata": {},
   "outputs": [],
   "source": [
    "plt.figure(figsize=(8, 6)) # 차트 크기 설정\n",
    "plt.plot(range(50), data, 'r')\n",
    "plt.title('시간별 가격 추이') # 차트 제목\n",
    "plt.xlabel('시간(분)') # x축 제목\n",
    "plt.xlabel('가격') # y축 제목\n",
    "plt.show()"
   ]
  },
  {
   "cell_type": "code",
   "execution_count": null,
   "id": "81898e70",
   "metadata": {},
   "outputs": [],
   "source": []
  },
  {
   "cell_type": "code",
   "execution_count": null,
   "id": "1d8adb6e",
   "metadata": {},
   "outputs": [],
   "source": []
  },
  {
   "cell_type": "code",
   "execution_count": null,
   "id": "c65806bb",
   "metadata": {},
   "outputs": [],
   "source": []
  },
  {
   "cell_type": "code",
   "execution_count": null,
   "id": "61643dc4",
   "metadata": {},
   "outputs": [],
   "source": []
  },
  {
   "cell_type": "code",
   "execution_count": null,
   "id": "abeef7e9",
   "metadata": {},
   "outputs": [],
   "source": []
  },
  {
   "cell_type": "code",
   "execution_count": null,
   "id": "daebdf4d",
   "metadata": {},
   "outputs": [],
   "source": []
  },
  {
   "cell_type": "code",
   "execution_count": null,
   "id": "da6322c7",
   "metadata": {},
   "outputs": [],
   "source": []
  },
  {
   "cell_type": "code",
   "execution_count": null,
   "id": "44a8e9fd",
   "metadata": {},
   "outputs": [],
   "source": []
  },
  {
   "cell_type": "code",
   "execution_count": null,
   "id": "8ed7f5ae",
   "metadata": {},
   "outputs": [],
   "source": []
  }
 ],
 "metadata": {
  "kernelspec": {
   "display_name": "Python 3",
   "language": "python",
   "name": "python3"
  },
  "language_info": {
   "codemirror_mode": {
    "name": "ipython",
    "version": 3
   },
   "file_extension": ".py",
   "mimetype": "text/x-python",
   "name": "python",
   "nbconvert_exporter": "python",
   "pygments_lexer": "ipython3",
   "version": "3.6.8"
  }
 },
 "nbformat": 4,
 "nbformat_minor": 5
}

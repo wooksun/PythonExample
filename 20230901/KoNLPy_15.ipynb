{
 "cells": [
  {
   "cell_type": "markdown",
   "id": "84fb7ae1",
   "metadata": {},
   "source": [
    "형태소 분석(morphological Analysis)\n",
    "\n",
    "형태소 분석은 자연 언어의 문장을 형태소라는 최소 단위로 분할하고 품사를 판별하는 작업이다.  \n",
    "영문 형태소 분석은 형태소마다 띄어쓰기를 해서 문장을 구성하는 것이 기본이기 때문에 크게 어렵지 않으나 아시아 계열 언어 분석에는 많은 노력이 필요하다.  \n",
    "대표적으로 문법 규칙에 의한 방법과 확률적 언어 모델을 사용하는 방법이 있는데 최근에 확률적 언어 모델을 사용한 행태소 분석이 많아서 정밀도가 높아졌다.  \n",
    "어쨌거나, 두 가지 품사 사전과 문법 사전을 기반으로 대조하면서 형태소를 분석한다.\n",
    "\n",
    "한국어 형태소 분석 라이브러리 => KoNLPy => pip install konlpy => java1.7 이상의 버전이 미리 설치되어 있어야 한다.  \n",
    "KoNLPy에는 대한민국 헌법 말뭉치 kolaw와 국회 법안 말뭉치인 kobill을 제공한다."
   ]
  },
  {
   "cell_type": "code",
   "execution_count": 2,
   "id": "39e534b3",
   "metadata": {},
   "outputs": [
    {
     "name": "stdout",
     "output_type": "stream",
     "text": [
      "['constitution.txt']\n",
      "['1809890.txt', '1809891.txt', '1809892.txt', '1809893.txt', '1809894.txt', '1809895.txt', '1809896.txt', '1809897.txt', '1809898.txt', '1809899.txt']\n"
     ]
    }
   ],
   "source": [
    "# pip install konlpy\n",
    "from konlpy.corpus import kolaw, kobill\n",
    "# 각 말뭉치가 포함하고 있는 텍스트 파일 이름은 fileids() 메소드로 확인할 수 있다.\n",
    "print(kolaw.fileids())\n",
    "print(kobill.fileids())"
   ]
  },
  {
   "cell_type": "code",
   "execution_count": 6,
   "id": "e4ffefe6",
   "metadata": {
    "scrolled": true
   },
   "outputs": [
    {
     "name": "stdout",
     "output_type": "stream",
     "text": [
      "대한민국헌법\n",
      "\n",
      "유구한 역사와 전통에 빛나는 우리 대한국민은 3·1운동으로\n"
     ]
    }
   ],
   "source": [
    "# 말뭉치 파일을 읽어들이려면 말뭉치에 포함된 텍스트 파일을 open() 메소드로 열고 read() 메소드로 읽는다.\n",
    "corpus = kolaw.open('constitution.txt').read()\n",
    "print(corpus[:40])"
   ]
  },
  {
   "cell_type": "code",
   "execution_count": 22,
   "id": "199d8f99",
   "metadata": {},
   "outputs": [
    {
     "name": "stdout",
     "output_type": "stream",
     "text": [
      "지방공무원법 일부개정법률안\n",
      "\n",
      "(정의화의원 대표발의 )\n",
      "\n",
      " 의 안\n",
      " 번 호\n"
     ]
    }
   ],
   "source": [
    "corpus = kobill.open('1809890.txt').read()\n",
    "print(corpus[:40])"
   ]
  },
  {
   "cell_type": "markdown",
   "id": "ac1739f4",
   "metadata": {},
   "source": [
    "KoNLPy는 다음과 같은 다양한 형태소 분석, 태깅 라이브러리를 파이썬에서 쉽게 사용할 수 있도록 모아놓았다.  \n",
    "한나눔  \n",
    "꼬꼬마  \n",
    "코모란  \n",
    "메카브  \n",
    "오픈 소스 한국어 분석기"
   ]
  },
  {
   "cell_type": "markdown",
   "id": "6db33bf1",
   "metadata": {},
   "source": [
    "Hannanum: 한나눔. KAIST Semantic Web Research Center 개발.  \n",
    "http://semanticweb.kaist.ac.kr/hannanum/  \n",
    "Kkma: 꼬꼬마. 서울대학교 IDS(Intelligent Data Systems) 연구실 개발.  \n",
    "http://kkma.snu.ac.kr/  \n",
    "Komoran: 코모란. Shineware에서 개발.  \n",
    "https://github.com/shin285/KOMORAN  \n",
    "Mecab: 메카브. 일본어용 형태소 분석기를 한국어를 사용할 수 있도록 수정.  \n",
    "https://bitbucket.org/eunjeon/mecab-ko  \n",
    "Open Korean Text: 오픈 소스 한국어 분석기. 과거 트위터 형태소 분석기.  \n",
    "https://github.com/open-korean-text/open-korean-text  "
   ]
  },
  {
   "cell_type": "code",
   "execution_count": 15,
   "id": "6b3dd80a",
   "metadata": {},
   "outputs": [],
   "source": [
    "from konlpy.tag import *"
   ]
  },
  {
   "cell_type": "code",
   "execution_count": 17,
   "id": "9b6cf029",
   "metadata": {},
   "outputs": [],
   "source": [
    "hannanum = Hannanum()\n",
    "kkma = Kkma()\n",
    "komoran = Komoran()\n",
    "okt = Okt()\n",
    "# mecab = Macab() # Mac 전용이라 윈도우에서 지원하지 않는다.\n",
    "\n",
    "# 이 클래스들은 다음과 같은 메소드를 공통으로 지원한다.\n",
    "# nouns: 명사 추출\n",
    "# morphs: 형태소 추출\n",
    "# pod: 품사 부착"
   ]
  },
  {
   "cell_type": "markdown",
   "id": "fe113527",
   "metadata": {},
   "source": [
    "명사 추출"
   ]
  },
  {
   "cell_type": "code",
   "execution_count": 23,
   "id": "4ba475e4",
   "metadata": {},
   "outputs": [
    {
     "data": {
      "text/plain": [
       "['지방공무원법', '일부개정법률안', '정의화의원', '대표발', '의', '번']"
      ]
     },
     "execution_count": 23,
     "metadata": {},
     "output_type": "execute_result"
    }
   ],
   "source": [
    "hannanum.nouns(corpus[:40])"
   ]
  },
  {
   "cell_type": "code",
   "execution_count": 24,
   "id": "27934bd8",
   "metadata": {
    "scrolled": true
   },
   "outputs": [
    {
     "data": {
      "text/plain": [
       "['지방',\n",
       " '지방공무원법',\n",
       " '공무원',\n",
       " '법',\n",
       " '일부',\n",
       " '일부개정법률안',\n",
       " '개정',\n",
       " '법률안',\n",
       " '정의',\n",
       " '정의화의원',\n",
       " '화',\n",
       " '의원',\n",
       " '대표',\n",
       " '대표발의',\n",
       " '발의',\n",
       " '의',\n",
       " '안',\n",
       " '호']"
      ]
     },
     "execution_count": 24,
     "metadata": {},
     "output_type": "execute_result"
    }
   ],
   "source": [
    "kkma.nouns(corpus[:40])"
   ]
  },
  {
   "cell_type": "code",
   "execution_count": 25,
   "id": "d87638e0",
   "metadata": {},
   "outputs": [
    {
     "data": {
      "text/plain": [
       "['지방공무원법', '일부', '개정', '법률', '안', '정의화', '의원', '대표', '발의', '의', '안', '번', '호']"
      ]
     },
     "execution_count": 25,
     "metadata": {},
     "output_type": "execute_result"
    }
   ],
   "source": [
    "okt.nouns(corpus[:40])"
   ]
  },
  {
   "cell_type": "code",
   "execution_count": 26,
   "id": "28ce6cf4",
   "metadata": {
    "scrolled": true
   },
   "outputs": [
    {
     "data": {
      "text/plain": [
       "['지방공무원법', '일부개정법률안', '(', '정의화의원', '대표발', '의', ')', '의', '안', '번', '호']"
      ]
     },
     "execution_count": 26,
     "metadata": {},
     "output_type": "execute_result"
    }
   ],
   "source": [
    "hannanum.morphs(corpus[:40])"
   ]
  },
  {
   "cell_type": "code",
   "execution_count": 27,
   "id": "9c1852e1",
   "metadata": {
    "scrolled": true
   },
   "outputs": [
    {
     "data": {
      "text/plain": [
       "['지방',\n",
       " '공무원',\n",
       " '법',\n",
       " '일부',\n",
       " '개정',\n",
       " '법률안',\n",
       " '(',\n",
       " '정의',\n",
       " '화',\n",
       " '의원',\n",
       " '대표',\n",
       " '발의',\n",
       " ')',\n",
       " '의',\n",
       " '안',\n",
       " '벌',\n",
       " 'ㄴ',\n",
       " '호']"
      ]
     },
     "execution_count": 27,
     "metadata": {},
     "output_type": "execute_result"
    }
   ],
   "source": [
    "kkma.morphs(corpus[:40])"
   ]
  },
  {
   "cell_type": "code",
   "execution_count": 28,
   "id": "c73248a1",
   "metadata": {
    "scrolled": true
   },
   "outputs": [
    {
     "data": {
      "text/plain": [
       "['지방공무원법',\n",
       " '일부',\n",
       " '개정',\n",
       " '법률',\n",
       " '안',\n",
       " '\\n\\n',\n",
       " '(',\n",
       " '정의화',\n",
       " '의원',\n",
       " '대표',\n",
       " '발의',\n",
       " ')',\n",
       " '\\n\\n ',\n",
       " '의',\n",
       " '안',\n",
       " '\\n ',\n",
       " '번',\n",
       " '호']"
      ]
     },
     "execution_count": 28,
     "metadata": {},
     "output_type": "execute_result"
    }
   ],
   "source": [
    "okt.morphs(corpus[:40])"
   ]
  },
  {
   "cell_type": "markdown",
   "id": "b40637c3",
   "metadata": {},
   "source": [
    "품사 부착\n",
    "\n",
    "형태소 분석기마다 사용하는 품사 태그가 다르므로 각 형태소 분석기에 대한 문서를 참조한다.  \n",
    "부착되는 품사 태그와 기호의 의미는 tagset 속성으로 확인할 수 있다."
   ]
  },
  {
   "cell_type": "code",
   "execution_count": 29,
   "id": "81c51f86",
   "metadata": {
    "scrolled": true
   },
   "outputs": [
    {
     "data": {
      "text/plain": [
       "[('지방공무원법', 'N'),\n",
       " ('일부개정법률안', 'N'),\n",
       " ('(', 'S'),\n",
       " ('정의화의원', 'N'),\n",
       " ('대표발', 'N'),\n",
       " ('의', 'J'),\n",
       " (')', 'S'),\n",
       " ('의', 'N'),\n",
       " ('안', 'M'),\n",
       " ('번', 'N'),\n",
       " ('호', 'I')]"
      ]
     },
     "execution_count": 29,
     "metadata": {},
     "output_type": "execute_result"
    }
   ],
   "source": [
    "hannanum.pos(corpus[:40])"
   ]
  },
  {
   "cell_type": "code",
   "execution_count": 30,
   "id": "1e230131",
   "metadata": {
    "scrolled": true
   },
   "outputs": [
    {
     "data": {
      "text/plain": [
       "{'E': '어미',\n",
       " 'EC': '연결 어미',\n",
       " 'EF': '종결 어미',\n",
       " 'EP': '선어말어미',\n",
       " 'ET': '전성 어미',\n",
       " 'F': '외국어',\n",
       " 'I': '독립언',\n",
       " 'II': '감탄사',\n",
       " 'J': '관계언',\n",
       " 'JC': '격조사',\n",
       " 'JP': '서술격 조사',\n",
       " 'JX': '보조사',\n",
       " 'M': '수식언',\n",
       " 'MA': '부사',\n",
       " 'MM': '관형사',\n",
       " 'N': '체언',\n",
       " 'NB': '의존명사',\n",
       " 'NC': '보통명사',\n",
       " 'NN': '수사',\n",
       " 'NP': '대명사',\n",
       " 'NQ': '고유명사',\n",
       " 'P': '용언',\n",
       " 'PA': '형용사',\n",
       " 'PV': '동사',\n",
       " 'PX': '보조 용언',\n",
       " 'S': '기호',\n",
       " 'X': '접사',\n",
       " 'XP': '접두사',\n",
       " 'XS': '접미사'}"
      ]
     },
     "execution_count": 30,
     "metadata": {},
     "output_type": "execute_result"
    }
   ],
   "source": [
    "hannanum.tagset"
   ]
  },
  {
   "cell_type": "code",
   "execution_count": 31,
   "id": "be53fb23",
   "metadata": {
    "scrolled": true
   },
   "outputs": [
    {
     "data": {
      "text/plain": [
       "[('지방', 'NNG'),\n",
       " ('공무원', 'NNG'),\n",
       " ('법', 'NNG'),\n",
       " ('일부', 'NNG'),\n",
       " ('개정', 'NNG'),\n",
       " ('법률안', 'NNG'),\n",
       " ('(', 'SS'),\n",
       " ('정의', 'NNG'),\n",
       " ('화', 'NNG'),\n",
       " ('의원', 'NNG'),\n",
       " ('대표', 'NNG'),\n",
       " ('발의', 'NNG'),\n",
       " (')', 'SS'),\n",
       " ('의', 'NNG'),\n",
       " ('안', 'NNG'),\n",
       " ('벌', 'VV'),\n",
       " ('ㄴ', 'ETD'),\n",
       " ('호', 'NNG')]"
      ]
     },
     "execution_count": 31,
     "metadata": {},
     "output_type": "execute_result"
    }
   ],
   "source": [
    "kkma.pos(corpus[:40])"
   ]
  },
  {
   "cell_type": "code",
   "execution_count": null,
   "id": "3e892c01",
   "metadata": {},
   "outputs": [],
   "source": []
  },
  {
   "cell_type": "code",
   "execution_count": null,
   "id": "2a1ebd1b",
   "metadata": {},
   "outputs": [],
   "source": []
  }
 ],
 "metadata": {
  "kernelspec": {
   "display_name": "Python 3",
   "language": "python",
   "name": "python3"
  },
  "language_info": {
   "codemirror_mode": {
    "name": "ipython",
    "version": 3
   },
   "file_extension": ".py",
   "mimetype": "text/x-python",
   "name": "python",
   "nbconvert_exporter": "python",
   "pygments_lexer": "ipython3",
   "version": "3.6.8"
  }
 },
 "nbformat": 4,
 "nbformat_minor": 5
}

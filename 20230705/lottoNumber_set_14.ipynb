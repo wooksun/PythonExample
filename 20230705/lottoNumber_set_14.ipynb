{
 "cells": [
  {
   "cell_type": "code",
   "execution_count": 2,
   "id": "0c26931f",
   "metadata": {},
   "outputs": [],
   "source": [
    "import random"
   ]
  },
  {
   "cell_type": "code",
   "execution_count": 15,
   "id": "e0bcaa10",
   "metadata": {
    "scrolled": true
   },
   "outputs": [
    {
     "name": "stdout",
     "output_type": "stream",
     "text": [
      "1등 번호: [6, 14, 27, 31, 32, 41]\n",
      "12\n",
      "1등 번호: [6, 14, 27, 31, 32, 41], 보너스 번호: 12\n"
     ]
    }
   ],
   "source": [
    "# 로또 1등 번호를 기억할 빈 set을 만든다.\n",
    "lotto = set()\n",
    "# 1등 번호\n",
    "while True:\n",
    "    # 1 ~ 45 사이의 난수를 발생시킨다.\n",
    "    number = random.randint(1, 45)\n",
    "    # print(number)\n",
    "    # 리스트는 중복을 확인하는 if가 필요했지만, set은 중복 데이터를 허용하지 않기 때문에\n",
    "    # 중복을 확인하는 if가 필요없다.\n",
    "    lotto.add(number)\n",
    "    # set에 중복되지 않는 숫자가 6개 저장되면 무한 루프를 탈출시킨다.\n",
    "    if len(lotto) == 6:\n",
    "        break\n",
    "    # ======= if\n",
    "# ======== while\n",
    "print('1등 번호: {}'.format(lotto))\n",
    "\n",
    "# 보너스 번호\n",
    "while True: \n",
    "    bonus = random.randint(1, 45)\n",
    "    # print(bonus)\n",
    "    if bonus not in lotto:\n",
    "        break\n",
    "    # ======= if\n",
    "# ======== while\n",
    "print('1등 번호: {}, 보너스 번호: {}'.format(lotto, bonus))"
   ]
  },
  {
   "cell_type": "code",
   "execution_count": null,
   "id": "419355cc",
   "metadata": {},
   "outputs": [],
   "source": []
  },
  {
   "cell_type": "code",
   "execution_count": null,
   "id": "9b3a29eb",
   "metadata": {},
   "outputs": [],
   "source": []
  },
  {
   "cell_type": "code",
   "execution_count": null,
   "id": "4e66b0ef",
   "metadata": {},
   "outputs": [],
   "source": []
  },
  {
   "cell_type": "code",
   "execution_count": null,
   "id": "02861309",
   "metadata": {},
   "outputs": [],
   "source": []
  },
  {
   "cell_type": "code",
   "execution_count": null,
   "id": "b0450eab",
   "metadata": {},
   "outputs": [],
   "source": []
  },
  {
   "cell_type": "code",
   "execution_count": null,
   "id": "c5922ddd",
   "metadata": {},
   "outputs": [],
   "source": []
  },
  {
   "cell_type": "code",
   "execution_count": null,
   "id": "5a768366",
   "metadata": {},
   "outputs": [],
   "source": []
  },
  {
   "cell_type": "code",
   "execution_count": null,
   "id": "52c13a30",
   "metadata": {},
   "outputs": [],
   "source": []
  },
  {
   "cell_type": "code",
   "execution_count": null,
   "id": "1ce2f2f7",
   "metadata": {},
   "outputs": [],
   "source": []
  },
  {
   "cell_type": "code",
   "execution_count": null,
   "id": "0b2ebe5e",
   "metadata": {},
   "outputs": [],
   "source": []
  },
  {
   "cell_type": "code",
   "execution_count": null,
   "id": "71cfeae4",
   "metadata": {},
   "outputs": [],
   "source": []
  },
  {
   "cell_type": "code",
   "execution_count": null,
   "id": "489b3102",
   "metadata": {},
   "outputs": [],
   "source": []
  }
 ],
 "metadata": {
  "kernelspec": {
   "display_name": "Python 3",
   "language": "python",
   "name": "python3"
  },
  "language_info": {
   "codemirror_mode": {
    "name": "ipython",
    "version": 3
   },
   "file_extension": ".py",
   "mimetype": "text/x-python",
   "name": "python",
   "nbconvert_exporter": "python",
   "pygments_lexer": "ipython3",
   "version": "3.6.8"
  }
 },
 "nbformat": 4,
 "nbformat_minor": 5
}

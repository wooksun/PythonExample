{
 "cells": [
  {
   "cell_type": "markdown",
   "id": "2e1ccf38",
   "metadata": {},
   "source": [
    "set 만들기\n",
    "\n",
    "set은 수학의 집합과 비슷한 형태로 중복되는 데이터의 입력을 허용하지 않고, 입력하는 데이터의 순서와 실제로 저장되는 데이터의 순서가 달라서 인덱싱과 슬라이싱을 사용할 수 없다.  \n",
    "딕셔너리처러 {}를 사용해서 데이터를 감싸주지만, key가 존재하지 않고 value들만 존재한다."
   ]
  },
  {
   "cell_type": "code",
   "execution_count": 1,
   "id": "1257ab80",
   "metadata": {},
   "outputs": [
    {
     "name": "stdout",
     "output_type": "stream",
     "text": [
      "<class 'dict'>\n",
      "<class 'set'>\n",
      "set()\n"
     ]
    }
   ],
   "source": [
    "# 빈 set 만들기\n",
    "a = {} # 빈 set은 {}를 사용해서 만들 수 없다. => 딕셔너리로 인식한다.\n",
    "print(type(a))\n",
    "\n",
    "# 빈 set을 만들 때 {}만 사용하면 딕셔너리가 생성되기 때문에 반드시 생성자 함수를 사용해서 만들어 사용한다.\n",
    "b = set()\n",
    "print(type(b))\n",
    "print(b)"
   ]
  },
  {
   "cell_type": "code",
   "execution_count": 2,
   "id": "cfe68ae7",
   "metadata": {},
   "outputs": [
    {
     "name": "stdout",
     "output_type": "stream",
     "text": [
      "<class 'set'>\n",
      "{1, 2, 3, 4}\n"
     ]
    }
   ],
   "source": [
    "# 초기치를 가지는 set\n",
    "a = {1, 2, 3, 4}\n",
    "print(type(a))\n",
    "print(a)"
   ]
  },
  {
   "cell_type": "code",
   "execution_count": 9,
   "id": "d1882d9d",
   "metadata": {},
   "outputs": [
    {
     "name": "stdout",
     "output_type": "stream",
     "text": [
      "<class 'set'>\n",
      "{1, 2, 3, 4}\n",
      "<class 'set'>\n",
      "{1, 2, 3, 4}\n"
     ]
    }
   ],
   "source": [
    "# 생성자 함수의 인수로 리스트나 튜플을 넘겨받아 set을 만들 수 있다.\n",
    "a = set([1, 2, 3, 4])\n",
    "print(type(a))\n",
    "print(a)\n",
    "\n",
    "b = set((1, 2, 3, 4))\n",
    "print(type(b))\n",
    "print(b)"
   ]
  },
  {
   "cell_type": "code",
   "execution_count": 5,
   "id": "c63b9892",
   "metadata": {},
   "outputs": [
    {
     "name": "stdout",
     "output_type": "stream",
     "text": [
      "<class 'set'>\n",
      "{1, 2, 3, 4, 5, 6, 7}\n"
     ]
    }
   ],
   "source": [
    "# set은 중복되는 데이터의 입력을 허용하지 않는다.\n",
    "a = {1, 4, 5, 1, 4, 6, 7, 3, 3, 2}\n",
    "print(type(a))\n",
    "print(a)"
   ]
  },
  {
   "cell_type": "code",
   "execution_count": 10,
   "id": "e0893b82",
   "metadata": {},
   "outputs": [
    {
     "name": "stdout",
     "output_type": "stream",
     "text": [
      "set()\n",
      "{'홍길동'}\n",
      "{'임꺽정', '홍길동'}\n",
      "{'임꺽정', '장길산', '홍길동'}\n",
      "{'일지매', '임꺽정', '장길산', '홍길동'}\n"
     ]
    }
   ],
   "source": [
    "# add() 메소드로 데이터를 1개씩 추가할 수 있다.\n",
    "a = set()\n",
    "print(a)\n",
    "a.add('홍길동')\n",
    "print(a)\n",
    "a.add('임꺽정')\n",
    "print(a)\n",
    "a.add('장길산')\n",
    "print(a)\n",
    "a.add('일지매')\n",
    "print(a)"
   ]
  },
  {
   "cell_type": "code",
   "execution_count": 13,
   "id": "60bfb5c6",
   "metadata": {},
   "outputs": [
    {
     "name": "stdout",
     "output_type": "stream",
     "text": [
      "{'임꺽정', '일지매', '장길산', '홍길동'}\n",
      "================================================================================\n",
      "['손오공', '저팔계', '사오정', '삼장법사']\n",
      "{'일지매', '저팔계', '장길산', '삼장법사', '사오정', '손오공', '임꺽정', '홍길동'}\n",
      "================================================================================\n",
      "('피콜로', '마인부우', '배지터', '프리저')\n",
      "{'일지매', '저팔계', '장길산', '삼장법사', '프리저', '배지터', '마인부우', '피콜로', '사오정', '손오공', '임꺽정', '홍길동'}\n"
     ]
    }
   ],
   "source": [
    "# update() 메소드로 리스트나 튜플에 저장된 데이터를 set에 일괄적으로 추가할 수 있다.\n",
    "a = {'홍길동', '일지매', '임꺽정', '장길산'}\n",
    "print(a)\n",
    "print('=' * 80)\n",
    "\n",
    "b = ['손오공', '저팔계', '사오정', '삼장법사']\n",
    "print(b)\n",
    "a.update(b)\n",
    "print(a)\n",
    "print('=' * 80)\n",
    "\n",
    "c = '피콜로', '마인부우', '배지터', '프리저'\n",
    "print(c)\n",
    "a.update(c)\n",
    "print(a)"
   ]
  },
  {
   "cell_type": "code",
   "execution_count": 16,
   "id": "86635448",
   "metadata": {},
   "outputs": [
    {
     "name": "stdout",
     "output_type": "stream",
     "text": [
      "{'임꺽정', '일지매', '장길산', '홍길동'}\n",
      "{'임꺽정', '일지매', '홍길동'}\n"
     ]
    }
   ],
   "source": [
    "# remove() 메소드로 인수로 지정한 데이터를 set에서 제거한다.\n",
    "a = {'홍길동', '일지매', '임꺽정', '장길산'}\n",
    "print(a)\n",
    "\n",
    "a.remove('장길산')\n",
    "print(a)\n",
    "# a.remove('장길산') # 에러 => set에 존재하지 않는 데이터를 삭제하려 했으므로 에러가 발생된다."
   ]
  },
  {
   "cell_type": "code",
   "execution_count": 20,
   "id": "c6da2923",
   "metadata": {},
   "outputs": [
    {
     "name": "stdout",
     "output_type": "stream",
     "text": [
      "{'임꺽정', '일지매', '장길산', '홍길동'}\n",
      "{'임꺽정', '일지매', '홍길동'}\n",
      "{'임꺽정', '일지매', '홍길동'}\n"
     ]
    }
   ],
   "source": [
    "# discard() 메소드로 인스로 지정한 데이터를 set에서 제거한다.\n",
    "a = {'홍길동', '일지매', '임꺽정', '장길산'}\n",
    "print(a)\n",
    "\n",
    "a.discard('장길산')\n",
    "print(a)\n",
    "a.discard('장길산') # set에 존재하지 않는 데이터를 삭제하려해도 에러가 발생하지 않는다.\n",
    "print(a)"
   ]
  },
  {
   "cell_type": "code",
   "execution_count": 22,
   "id": "d89fa23d",
   "metadata": {},
   "outputs": [
    {
     "name": "stdout",
     "output_type": "stream",
     "text": [
      "{'임꺽정', '일지매', '장길산', '홍길동'}\n",
      "set()\n"
     ]
    },
    {
     "ename": "NameError",
     "evalue": "name 'a' is not defined",
     "output_type": "error",
     "traceback": [
      "\u001b[1;31m---------------------------------------------------------------------------\u001b[0m",
      "\u001b[1;31mNameError\u001b[0m                                 Traceback (most recent call last)",
      "\u001b[1;32m<ipython-input-22-94158c6a9c62>\u001b[0m in \u001b[0;36m<module>\u001b[1;34m\u001b[0m\n\u001b[0;32m      8\u001b[0m \u001b[1;31m# del 명령을 사용해서 set 자체를 메모리에서 제거할 수 있다.\u001b[0m\u001b[1;33m\u001b[0m\u001b[1;33m\u001b[0m\u001b[1;33m\u001b[0m\u001b[0m\n\u001b[0;32m      9\u001b[0m \u001b[1;32mdel\u001b[0m \u001b[0ma\u001b[0m\u001b[1;33m\u001b[0m\u001b[1;33m\u001b[0m\u001b[0m\n\u001b[1;32m---> 10\u001b[1;33m \u001b[0mprint\u001b[0m\u001b[1;33m(\u001b[0m\u001b[0ma\u001b[0m\u001b[1;33m)\u001b[0m\u001b[1;33m\u001b[0m\u001b[1;33m\u001b[0m\u001b[0m\n\u001b[0m",
      "\u001b[1;31mNameError\u001b[0m: name 'a' is not defined"
     ]
    }
   ],
   "source": [
    "# clear() 메소드로 set에 저장된 모든 데이터를 제거할 수 있다.\n",
    "a = {'홍길동', '일지매', '임꺽정', '장길산'}\n",
    "print(a)\n",
    "\n",
    "a.clear()\n",
    "print(a)\n",
    "\n",
    "# del 명령을 사용해서 set 자체를 메모리에서 제거할 수 있다.\n",
    "del a \n",
    "print(a)"
   ]
  },
  {
   "cell_type": "code",
   "execution_count": 31,
   "id": "f7b237fc",
   "metadata": {},
   "outputs": [
    {
     "name": "stdout",
     "output_type": "stream",
     "text": [
      "{1, 2, 3, 4, 5, 6, 7}\n",
      "{1, 2, 3, 4, 5, 6, 7}\n",
      "================================================================================\n",
      "{3, 4, 5}\n",
      "{3, 4, 5}\n",
      "{1, 2}\n",
      "{1, 2}\n",
      "{6, 7}\n",
      "{6, 7}\n",
      "{1, 2, 6, 7}\n",
      "{1, 2, 6, 7}\n"
     ]
    }
   ],
   "source": [
    "a = {1, 2, 3, 4, 5}\n",
    "b = {3, 4, 5, 6, 7}\n",
    "\n",
    "# 합집합 => union(), |\n",
    "print(a.union(b))\n",
    "print(a | b)\n",
    "print('=' * 80)\n",
    "\n",
    "# 교집합 => intersection(), &\n",
    "print(a.intersection(b))\n",
    "print(a & b)\n",
    "\n",
    "# 차집합 => difference()\n",
    "print(a.difference(b))\n",
    "print(a - b)\n",
    "print(b.difference(a))\n",
    "print(b - a)\n",
    "\n",
    "# 대칭 차집합: 합집합 - 교집합 => symmetric_difference(), ^\n",
    "print((a | b) - (a & b))\n",
    "print(a. => symmetric_difference(b))\n",
    "print(a ^ b)"
   ]
  },
  {
   "cell_type": "code",
   "execution_count": null,
   "id": "2e3ddb64",
   "metadata": {},
   "outputs": [],
   "source": []
  },
  {
   "cell_type": "code",
   "execution_count": null,
   "id": "5b55fcd8",
   "metadata": {},
   "outputs": [],
   "source": []
  },
  {
   "cell_type": "code",
   "execution_count": null,
   "id": "afe6f332",
   "metadata": {},
   "outputs": [],
   "source": []
  },
  {
   "cell_type": "code",
   "execution_count": null,
   "id": "5ec88b0a",
   "metadata": {},
   "outputs": [],
   "source": []
  },
  {
   "cell_type": "code",
   "execution_count": null,
   "id": "7a629166",
   "metadata": {},
   "outputs": [],
   "source": []
  },
  {
   "cell_type": "code",
   "execution_count": null,
   "id": "5c29c3b5",
   "metadata": {},
   "outputs": [],
   "source": []
  },
  {
   "cell_type": "code",
   "execution_count": null,
   "id": "7c60503b",
   "metadata": {},
   "outputs": [],
   "source": []
  },
  {
   "cell_type": "code",
   "execution_count": null,
   "id": "b85e9a4e",
   "metadata": {},
   "outputs": [],
   "source": []
  }
 ],
 "metadata": {
  "kernelspec": {
   "display_name": "Python 3",
   "language": "python",
   "name": "python3"
  },
  "language_info": {
   "codemirror_mode": {
    "name": "ipython",
    "version": 3
   },
   "file_extension": ".py",
   "mimetype": "text/x-python",
   "name": "python",
   "nbconvert_exporter": "python",
   "pygments_lexer": "ipython3",
   "version": "3.6.8"
  }
 },
 "nbformat": 4,
 "nbformat_minor": 5
}

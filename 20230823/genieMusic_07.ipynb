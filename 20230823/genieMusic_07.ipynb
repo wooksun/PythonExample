{
 "cells": [
  {
   "cell_type": "code",
   "execution_count": 1,
   "id": "63298da6",
   "metadata": {},
   "outputs": [],
   "source": [
    "import warnings\n",
    "warnings.filterwarnings(action='ignore')\n",
    "%config Computer.use_jedi = False\n",
    "import requests\n",
    "from bs4 import BeautifulSoup\n",
    "from datetime import datetime as dt"
   ]
  },
  {
   "cell_type": "code",
   "execution_count": 3,
   "id": "66c8a898",
   "metadata": {},
   "outputs": [
    {
     "name": "stdout",
     "output_type": "stream",
     "text": [
      " https://www.genie.co.kr/chart/top200?ditc=D&ymd=20230823&hh=18&rtm=Y&pg=1\n",
      " https://www.genie.co.kr/chart/top200?ditc=D&ymd=20230823&hh=18&rtm=Y&pg=2\n",
      " https://www.genie.co.kr/chart/top200?ditc=D&ymd=20230823&hh=18&rtm=Y&pg=3\n",
      " https://www.genie.co.kr/chart/top200?ditc=D&ymd=20230823&hh=18&rtm=Y&pg=4\n"
     ]
    }
   ],
   "source": [
    "# 타겟 사이트 주소 만들기\n",
    "# https://www.genie.co.kr/chart/top200?ditc=D&ymd=20230823&hh=18&rtm=Y&pg=1  => 1 ~ 50등 주소\n",
    "# https://www.genie.co.kr/chart/top200?ditc=D&ymd=20230823&hh=18&rtm=Y&pg=2  => 51 ~ 100등 주소\n",
    "# https://www.genie.co.kr/chart/top200?ditc=D&ymd=20230823&hh=18&rtm=Y&pg=3  => 101 ~ 150등 주소\n",
    "# https://www.genie.co.kr/chart/top200?ditc=D&ymd=20230823&hh=18&rtm=Y&pg=4  => 151 ~ 200등 주소\n",
    "url = ' https://www.genie.co.kr/chart/top200?ditc=D&ymd=20230823&hh=18&rtm=Y&pg='\n",
    "for i in range(1, 5):\n",
    "    #targetSite = url + str(i)\n",
    "    targetSite = '{}{}'.format(url, i)\n",
    "    print(targetSite)"
   ]
  },
  {
   "cell_type": "code",
   "execution_count": 9,
   "id": "a65b4498",
   "metadata": {},
   "outputs": [],
   "source": [
    "targetSite = 'https://www.genie.co.kr/chart/top200?ditc=D&ymd=20230823&hh=18&rtm=Y&pg=1'\n",
    "header = {'User-agent': 'Mozilla/5.0 (Windows NT 6.3; WOW64; Trident/7.0; rv:11.0) like Gecko'}\n",
    "request = requests.get(targetSite, headers=header)\n",
    "#print(request)\n",
    "html = request.text\n",
    "#print(html)\n",
    "soup = BeautifulSoup(html, 'html.parser')\n",
    "#print(soup)"
   ]
  },
  {
   "cell_type": "code",
   "execution_count": 11,
   "id": "1b95ce66",
   "metadata": {},
   "outputs": [
    {
     "name": "stdout",
     "output_type": "stream",
     "text": [
      "  1위 ETA\n",
      "  2위 Super Shy\n",
      "  3위 Seven (Feat. Latto) (Clean Ver.)\n",
      "  4위 헤어지자 말해요\n",
      "  5위 I AM\n",
      "  6위 퀸카 (Queencard)\n",
      "  7위 Hype boy\n",
      "  8위 Spicy\n",
      "  9위 이브, 프시케 그리고 푸른 수염의 아내\n",
      " 10위 사막에서 꽃을 피우듯\n",
      " 11위 Kitsch\n",
      " 12위 Summer (Feat. BE'O (비오))\n",
      " 13위 사랑은 늘 도망가\n",
      " 14위 Ditto\n",
      " 15위 사건의 지평선\n",
      " 16위 Fast Forward\n",
      " 17위 New Jeans\n",
      " 18위 UNFORGIVEN (Feat. Nile Rodgers)\n",
      " 19위 우리들의 블루스\n",
      " 20위 Steal The Show\n",
      " 21위 I Don't Think That I Like Her\n",
      " 22위 Love Lee\n",
      " 23위 모래 알갱이\n",
      " 24위 이제 나만 믿어요\n",
      " 25위 After LIKE\n",
      " 26위 다시 만날 수 있을까\n",
      " 27위 심 (心)\n",
      " 28위 Attention\n",
      " 29위 무지개\n",
      " 30위 꽃\n",
      " 31위 London Boy\n",
      " 32위 Polaroid\n",
      " 33위 LOVE DIVE\n",
      " 34위 OMG\n",
      " 35위 아버지\n",
      " 36위 A bientot\n",
      " 37위 손이 참 곱던 그대\n",
      " 38위 다정히 내 이름을 부르면\n",
      " 39위 건물 사이에 피어난 장미\n",
      " 40위 Dangerously\n",
      " 41위 사랑해 진짜\n",
      " 42위 Underwater\n",
      " 43위 연애편지\n",
      " 44위 보금자리\n",
      " 45위 손오공\n",
      " 46위 인생찬가\n",
      " 47위 후라이의 꿈\n",
      " 48위 미친 사랑의 노래\n",
      " 49위 Teddy Bear\n",
      " 50위 사랑인가 봐\n"
     ]
    }
   ],
   "source": [
    "# 노래 제목 크롤링\n",
    "titles = soup.findAll('a', {'class': 'title ellipsis'})\n",
    "#print(len(titles))\n",
    "#print(titles)\n",
    "\n",
    "for i in range(len(titles)):\n",
    "    #print('{:3d}위 {}'.format(i + 1, titles[i].text.strip())) # 방법1\n",
    "    #print('{:3d}위 {}'.format(i + 1, titles[i].text.split('\\n')[1])) # 방법2\n",
    "    print('{:3d}위 {}'.format(i + 1, titles[i].text.strip().split('\\n')[0])) # 방법3"
   ]
  },
  {
   "cell_type": "code",
   "execution_count": null,
   "id": "815a38a7",
   "metadata": {},
   "outputs": [],
   "source": []
  },
  {
   "cell_type": "code",
   "execution_count": null,
   "id": "c7413c2d",
   "metadata": {},
   "outputs": [],
   "source": []
  },
  {
   "cell_type": "code",
   "execution_count": null,
   "id": "fa3c96a4",
   "metadata": {},
   "outputs": [],
   "source": []
  },
  {
   "cell_type": "code",
   "execution_count": null,
   "id": "e51711af",
   "metadata": {},
   "outputs": [],
   "source": []
  },
  {
   "cell_type": "code",
   "execution_count": null,
   "id": "857125b0",
   "metadata": {},
   "outputs": [],
   "source": []
  },
  {
   "cell_type": "code",
   "execution_count": null,
   "id": "6224e05e",
   "metadata": {},
   "outputs": [],
   "source": []
  },
  {
   "cell_type": "code",
   "execution_count": null,
   "id": "5a850533",
   "metadata": {},
   "outputs": [],
   "source": []
  },
  {
   "cell_type": "code",
   "execution_count": null,
   "id": "72e3d866",
   "metadata": {},
   "outputs": [],
   "source": []
  }
 ],
 "metadata": {
  "kernelspec": {
   "display_name": "Python 3",
   "language": "python",
   "name": "python3"
  },
  "language_info": {
   "codemirror_mode": {
    "name": "ipython",
    "version": 3
   },
   "file_extension": ".py",
   "mimetype": "text/x-python",
   "name": "python",
   "nbconvert_exporter": "python",
   "pygments_lexer": "ipython3",
   "version": "3.6.8"
  }
 },
 "nbformat": 4,
 "nbformat_minor": 5
}

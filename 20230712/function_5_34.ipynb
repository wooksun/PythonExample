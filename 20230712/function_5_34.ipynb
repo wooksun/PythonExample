{
 "cells": [
  {
   "cell_type": "markdown",
   "id": "aa5d3d18",
   "metadata": {},
   "source": [
    "디폴트 인수를 사용하는 함수로 가변인자를 가지는 함수를 흉내낼 수 있지만, 인수의 개수가 많아지면 비효율적이다."
   ]
  },
  {
   "cell_type": "code",
   "execution_count": 10,
   "id": "9f26be97",
   "metadata": {},
   "outputs": [],
   "source": [
    "def func6(a = 0, b = 0, c = 0, d = 0, e = 0, f = 0, g = 0,):\n",
    "    print('{}'.format(a + b + c + d + e + f + g))"
   ]
  },
  {
   "cell_type": "code",
   "execution_count": 14,
   "id": "64cd64d9",
   "metadata": {},
   "outputs": [
    {
     "name": "stdout",
     "output_type": "stream",
     "text": [
      "0\n",
      "1\n",
      "3\n",
      "6\n",
      "10\n",
      "15\n",
      "21\n",
      "28\n"
     ]
    }
   ],
   "source": [
    "func6()\n",
    "func6(1)\n",
    "func6(1, 2)\n",
    "func6(1, 2, 3)\n",
    "func6(1, 2, 3, 4)\n",
    "func6(1, 2, 3, 4 , 5)\n",
    "func6(1, 2, 3, 4 , 5, 6)\n",
    "func6(1, 2, 3, 4 , 5, 6, 7)\n",
    "func6(1, 2, 3, 4 , 5, 6, 7, 8) # 8때문에 에러"
   ]
  },
  {
   "cell_type": "markdown",
   "id": "553bb513",
   "metadata": {},
   "source": [
    "가변 인자를 사용하는 함수"
   ]
  },
  {
   "cell_type": "code",
   "execution_count": 20,
   "id": "b78670eb",
   "metadata": {},
   "outputs": [],
   "source": [
    "# 가변 인자는 '*변수이름' 형태로 표현한다. => 가변인자는 넘어오는 데이터를 튜플로 받는다.\n",
    "# 가변 인자를 사용하면 가변 인자에 할당해야 할 메모리 크기를 모르기 때문에 인수 목록의 맨 마지막에 딱 1번만 사용한다.\n",
    "def func7(a, *args):\n",
    "    #print(type(args))\n",
    "    #print(args)\n",
    "    total = 0\n",
    "    for arg in args:\n",
    "        total += arg\n",
    "    print(total)"
   ]
  },
  {
   "cell_type": "code",
   "execution_count": 22,
   "id": "9ed8e11a",
   "metadata": {},
   "outputs": [
    {
     "name": "stdout",
     "output_type": "stream",
     "text": [
      "0\n",
      "2\n",
      "5\n",
      "9\n",
      "14\n",
      "20\n",
      "27\n",
      "35\n"
     ]
    }
   ],
   "source": [
    "#func7()\n",
    "func7(1)\n",
    "func7(1, 2)\n",
    "func7(1, 2, 3)\n",
    "func7(1, 2, 3, 4)\n",
    "func7(1, 2, 3, 4, 5)\n",
    "func7(1, 2, 3, 4, 5, 6)\n",
    "func7(1, 2, 3, 4, 5, 6, 7)\n",
    "func7(1, 2, 3, 4, 5, 6, 7, 8) # 성공"
   ]
  },
  {
   "cell_type": "code",
   "execution_count": null,
   "id": "220019b9",
   "metadata": {},
   "outputs": [],
   "source": [
    "# def func7(*args1, *args2) => 함수 선언 시 가변 인자가 2번 이상 사용되었으므로 선언시 에러가 발생된다.\n",
    "# def func7(*args1, a) => 함수를 호출할 때, func7(a = 100) 형태로 a에 전달될 값을 지정하지 않으면 에러가 발생된다.\n",
    "# def func7(a, *args1) => 함수를 호출할 때, 첫번째 인수가 a에 전달되고 나머지 데이터가 가변 인자로 전달된다."
   ]
  },
  {
   "cell_type": "code",
   "execution_count": null,
   "id": "4d069ae1",
   "metadata": {},
   "outputs": [],
   "source": []
  },
  {
   "cell_type": "code",
   "execution_count": null,
   "id": "94ef10ca",
   "metadata": {},
   "outputs": [],
   "source": []
  },
  {
   "cell_type": "code",
   "execution_count": null,
   "id": "e14982f0",
   "metadata": {},
   "outputs": [],
   "source": []
  },
  {
   "cell_type": "code",
   "execution_count": null,
   "id": "45637869",
   "metadata": {},
   "outputs": [],
   "source": []
  },
  {
   "cell_type": "code",
   "execution_count": null,
   "id": "620b9209",
   "metadata": {},
   "outputs": [],
   "source": []
  }
 ],
 "metadata": {
  "kernelspec": {
   "display_name": "Python 3",
   "language": "python",
   "name": "python3"
  },
  "language_info": {
   "codemirror_mode": {
    "name": "ipython",
    "version": 3
   },
   "file_extension": ".py",
   "mimetype": "text/x-python",
   "name": "python",
   "nbconvert_exporter": "python",
   "pygments_lexer": "ipython3",
   "version": "3.6.8"
  }
 },
 "nbformat": 4,
 "nbformat_minor": 5
}

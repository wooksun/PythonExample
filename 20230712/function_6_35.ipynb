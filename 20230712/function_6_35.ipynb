{
 "cells": [
  {
   "cell_type": "markdown",
   "id": "4518638c",
   "metadata": {},
   "source": [
    "넘겨받은 인수를 딕셔너리 형태로 변환하는 함수 => 딕셔너리 변환 인자는 '**변수이름' 형태로 표현한다."
   ]
  },
  {
   "cell_type": "code",
   "execution_count": 7,
   "id": "65a33b81",
   "metadata": {},
   "outputs": [],
   "source": [
    "def func8(**args):\n",
    "    print(type(args))\n",
    "    print(args)"
   ]
  },
  {
   "cell_type": "code",
   "execution_count": 8,
   "id": "daa2539a",
   "metadata": {},
   "outputs": [
    {
     "name": "stdout",
     "output_type": "stream",
     "text": [
      "<class 'dict'>\n",
      "{}\n"
     ]
    }
   ],
   "source": [
    "func8()"
   ]
  },
  {
   "cell_type": "code",
   "execution_count": 9,
   "id": "843d02cb",
   "metadata": {},
   "outputs": [
    {
     "name": "stdout",
     "output_type": "stream",
     "text": [
      "<class 'dict'>\n",
      "{'apple': 1000}\n"
     ]
    }
   ],
   "source": [
    "# '**변수이름' 형태로 인수를 사용하는 함수에는 key와 key에 할당할 value를 'key=value' 형태로 전달한다.\n",
    "# func8(1000) # 'key=value' 형태로 인수를 전달하지 않아서 에러가 발생된다.\n",
    "func8(apple=1000)"
   ]
  },
  {
   "cell_type": "code",
   "execution_count": 13,
   "id": "ce1cb005",
   "metadata": {},
   "outputs": [
    {
     "name": "stdout",
     "output_type": "stream",
     "text": [
      "<class 'dict'>\n",
      "{'apple': 1000, 'water_melon': 20000}\n"
     ]
    }
   ],
   "source": [
    "func8(apple=1000, water_melon=20000)"
   ]
  },
  {
   "cell_type": "code",
   "execution_count": null,
   "id": "59e29a9c",
   "metadata": {},
   "outputs": [],
   "source": []
  },
  {
   "cell_type": "code",
   "execution_count": null,
   "id": "8a12a3bb",
   "metadata": {},
   "outputs": [],
   "source": []
  },
  {
   "cell_type": "code",
   "execution_count": null,
   "id": "3366cd64",
   "metadata": {},
   "outputs": [],
   "source": []
  },
  {
   "cell_type": "code",
   "execution_count": null,
   "id": "06b8e98a",
   "metadata": {},
   "outputs": [],
   "source": []
  },
  {
   "cell_type": "code",
   "execution_count": null,
   "id": "11ea2a90",
   "metadata": {},
   "outputs": [],
   "source": []
  },
  {
   "cell_type": "code",
   "execution_count": null,
   "id": "b91292d5",
   "metadata": {},
   "outputs": [],
   "source": []
  },
  {
   "cell_type": "code",
   "execution_count": null,
   "id": "d535cb2e",
   "metadata": {},
   "outputs": [],
   "source": []
  }
 ],
 "metadata": {
  "kernelspec": {
   "display_name": "Python 3",
   "language": "python",
   "name": "python3"
  },
  "language_info": {
   "codemirror_mode": {
    "name": "ipython",
    "version": 3
   },
   "file_extension": ".py",
   "mimetype": "text/x-python",
   "name": "python",
   "nbconvert_exporter": "python",
   "pygments_lexer": "ipython3",
   "version": "3.6.8"
  }
 },
 "nbformat": 4,
 "nbformat_minor": 5
}

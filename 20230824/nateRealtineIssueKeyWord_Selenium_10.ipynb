{
 "cells": [
  {
   "cell_type": "code",
   "execution_count": 6,
   "id": "f5663574",
   "metadata": {},
   "outputs": [],
   "source": [
    "import warnings\n",
    "warnings.filterwarnings(action='ignore')\n",
    "%config Computer.use_jedi = False\n",
    "# requests 모듈을 사용하지 않고, selenium을 사용할 것이므로 import 하지 않는다.\n",
    "#import requests\n",
    "from bs4 import BeautifulSoup"
   ]
  },
  {
   "cell_type": "code",
   "execution_count": 7,
   "id": "f7c96d70",
   "metadata": {},
   "outputs": [],
   "source": [
    "# selenium을 사용하기 위해서 selenium을 설치하고 import 한다.\n",
    "# !pip install selenium\n",
    "from selenium import webdriver # import"
   ]
  },
  {
   "cell_type": "code",
   "execution_count": 16,
   "id": "da82b9ea",
   "metadata": {},
   "outputs": [
    {
     "name": "stdout",
     "output_type": "stream",
     "text": [
      " 6위: 횡령 경남은행 직원[▼1]\n",
      " 7위: 메시 마이애미 US오픈컵[new]\n",
      " 8위: 낙하물 함정 항공기[new]\n",
      " 9위: 북한 인권[new]\n",
      "10위: 전주서 여성 끌고[new]\n"
     ]
    }
   ],
   "source": [
    "# selenium을 사용해서 가상 크롬을 실행한다. => 사용중인 크롬 버전과 같은 버전의 드라이버를 os에 맞게 다운받는다.\n",
    "# https://edgedl.me.gvt1.com/edgedl/chrome/chrome-for-testing/116.0.5845.96/win32/chromedriver-win32.zip => 다운로드\n",
    "# 다운받은 크롬 드라이버를 워크스페이스에 복사해 넣고 사용한다.\n",
    "driver = webdriver.Chrome('./chromedriver.exe') # 가상 크롬을 실행한다.\n",
    "# get() 메소드로 가상 크롬에 크롤링할 타겟 사이트를 띄운다.\n",
    "driver.get('https://www.nate.com/')\n",
    "# 가상 크롬에 실행된 사이트의 html 정보를 얻어온다.\n",
    "html = driver.page_source\n",
    "#print(html)\n",
    "soup = BeautifulSoup(html, 'html.parser')\n",
    "\n",
    "ranks = soup.select('#olLiveIssueKeyword .num_rank')\n",
    "issues = soup.findAll('a', {'class': 'ik'})\n",
    "for i in range(5):\n",
    "    rank = ranks[i].text\n",
    "    issue = issues[i].text.strip().split('\\n')[0]\n",
    "    upDown = issues[i].text.strip().split('\\n')[1]\n",
    "    \n",
    "    print('{:>2s}위: {}'.format(rank, issue), end='')\n",
    "    if upDown[:2] == '상승':\n",
    "        print('[{}{}]'.format('▲', upDown[-1]))\n",
    "    elif upDown[:2] == '하락':\n",
    "        print('[{}{}]'.format('▼', upDown[-1]))\n",
    "    elif upDown[:2] == '동일':\n",
    "        print('[-]')\n",
    "    else:\n",
    "        print('[new]')"
   ]
  },
  {
   "cell_type": "code",
   "execution_count": null,
   "id": "c38d047f",
   "metadata": {},
   "outputs": [],
   "source": []
  },
  {
   "cell_type": "code",
   "execution_count": null,
   "id": "0c799861",
   "metadata": {},
   "outputs": [],
   "source": []
  },
  {
   "cell_type": "code",
   "execution_count": null,
   "id": "c7191232",
   "metadata": {},
   "outputs": [],
   "source": []
  },
  {
   "cell_type": "code",
   "execution_count": null,
   "id": "2cd9c9dc",
   "metadata": {},
   "outputs": [],
   "source": []
  },
  {
   "cell_type": "code",
   "execution_count": null,
   "id": "6878c31e",
   "metadata": {},
   "outputs": [],
   "source": []
  },
  {
   "cell_type": "code",
   "execution_count": null,
   "id": "90330e15",
   "metadata": {},
   "outputs": [],
   "source": []
  },
  {
   "cell_type": "code",
   "execution_count": null,
   "id": "f6f19244",
   "metadata": {},
   "outputs": [],
   "source": []
  },
  {
   "cell_type": "code",
   "execution_count": null,
   "id": "d19950ba",
   "metadata": {},
   "outputs": [],
   "source": []
  }
 ],
 "metadata": {
  "kernelspec": {
   "display_name": "Python 3",
   "language": "python",
   "name": "python3"
  },
  "language_info": {
   "codemirror_mode": {
    "name": "ipython",
    "version": 3
   },
   "file_extension": ".py",
   "mimetype": "text/x-python",
   "name": "python",
   "nbconvert_exporter": "python",
   "pygments_lexer": "ipython3",
   "version": "3.6.8"
  }
 },
 "nbformat": 4,
 "nbformat_minor": 5
}

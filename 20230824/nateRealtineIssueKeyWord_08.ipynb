{
 "cells": [
  {
   "cell_type": "code",
   "execution_count": 1,
   "id": "8e6019ed",
   "metadata": {},
   "outputs": [],
   "source": [
    "import warnings\n",
    "warnings.filterwarnings(action='ignore')\n",
    "%config Computer.use_jedi = False\n",
    "import requests\n",
    "from bs4 import BeautifulSoup\n",
    "from datetime import datetime as dt"
   ]
  },
  {
   "cell_type": "code",
   "execution_count": 54,
   "id": "566eeeff",
   "metadata": {},
   "outputs": [
    {
     "name": "stdout",
     "output_type": "stream",
     "text": [
      "['프리고진 사망', '상승3']\n",
      "프리고진 사망 상승3\n",
      "['AG 이강인 9월', 'new']\n",
      "AG 이강인 9월 new\n",
      "['완전히 망했네요 부여잡은', 'new']\n",
      "완전히 망했네요 부여잡은 new\n",
      "['반란 프리고진 추락사', 'new']\n",
      "반란 프리고진 추락사 new\n",
      "['미사일 분석 결과', '동일']\n",
      "미사일 분석 결과 동일\n"
     ]
    }
   ],
   "source": [
    "targetSite = 'https://www.nate.com/'\n",
    "header = {'User-agent': 'Mozilla/5.0 (Windows NT 6.3; WOW64; Trident/7.0; rv:11.0) like Gecko'}\n",
    "request = requests.get(targetSite, headers=header)\n",
    "#print(request)\n",
    "html = request.text\n",
    "soup = BeautifulSoup(html, 'html.parser')\n",
    "#print(soup)\n",
    "\n",
    "# 순위\n",
    "#ranks = soup.findAll('span', {'class': 'txt_rank'})\n",
    "#print(ranks)\n",
    "\n",
    "#for i in range(len(ranks)):\n",
    "    #print('{:3d}위 {}'.format(i + 1, ranks[i].text.strip().split('\\n')[0])) # 방법3\n",
    "    \n",
    "#for rank in ranks[:5]:\n",
    "    #print(rank.txt)\n",
    "\n",
    "ranks = soup.select('#olLiveIssueKeyword .num_rank')\n",
    "#print(ranks)\n",
    "\n",
    "# 실시간 이슈 키워드와 상승/하락 폭\n",
    "issues = soup.findAll('a', {'class': 'ik'})\n",
    "#print(issues)\n",
    "for issue in issues:\n",
    "    print(issue.text.strip().split('\\n'))\n",
    "    print(issue.text.strip().split('\\n')[0], issue.text.strip().split('\\n')[1])"
   ]
  },
  {
   "cell_type": "code",
   "execution_count": 55,
   "id": "a525926c",
   "metadata": {},
   "outputs": [
    {
     "name": "stdout",
     "output_type": "stream",
     "text": [
      " 6위: 프리고진 사망[▲3]\n",
      " 7위: AG 이강인 9월[new]\n",
      " 8위: 완전히 망했네요 부여잡은[new]\n",
      " 9위: 반란 프리고진 추락사[new]\n",
      "10위: 미사일 분석 결과[-]\n"
     ]
    }
   ],
   "source": [
    "for i in range(5):\n",
    "    rank = ranks[i].text\n",
    "    issue = issues[i].text.strip().split('\\n')[0]\n",
    "    upDown = issues[i].text.strip().split('\\n')[1]\n",
    "    # print('%2s위: %s' % (rank, issue))\n",
    "    print('{:>2s}위: {}'.format(rank, issue), end='')\n",
    "    if upDown[:2] == '상승':\n",
    "        print('[{}{}]'.format('▲', upDown[-1]))\n",
    "    elif upDown[:2] == '하락':\n",
    "        print('[{}{}]'.format('▼', upDown[-1]))\n",
    "    elif upDown[:2] == '동일':\n",
    "        print('[-]')\n",
    "    else:\n",
    "        print('[new]')"
   ]
  },
  {
   "cell_type": "code",
   "execution_count": null,
   "id": "34dbfa2d",
   "metadata": {},
   "outputs": [],
   "source": []
  },
  {
   "cell_type": "code",
   "execution_count": null,
   "id": "147fc01e",
   "metadata": {},
   "outputs": [],
   "source": []
  },
  {
   "cell_type": "code",
   "execution_count": null,
   "id": "c5896f99",
   "metadata": {},
   "outputs": [],
   "source": []
  },
  {
   "cell_type": "code",
   "execution_count": null,
   "id": "b0f26b31",
   "metadata": {},
   "outputs": [],
   "source": []
  },
  {
   "cell_type": "code",
   "execution_count": null,
   "id": "9817a973",
   "metadata": {},
   "outputs": [],
   "source": []
  },
  {
   "cell_type": "code",
   "execution_count": null,
   "id": "7d6ad45e",
   "metadata": {},
   "outputs": [],
   "source": []
  },
  {
   "cell_type": "code",
   "execution_count": null,
   "id": "f7b5e45a",
   "metadata": {},
   "outputs": [],
   "source": []
  },
  {
   "cell_type": "code",
   "execution_count": null,
   "id": "ceda0363",
   "metadata": {},
   "outputs": [],
   "source": []
  },
  {
   "cell_type": "code",
   "execution_count": null,
   "id": "784c1c45",
   "metadata": {},
   "outputs": [],
   "source": []
  },
  {
   "cell_type": "code",
   "execution_count": null,
   "id": "e9fab10d",
   "metadata": {},
   "outputs": [],
   "source": []
  }
 ],
 "metadata": {
  "kernelspec": {
   "display_name": "Python 3",
   "language": "python",
   "name": "python3"
  },
  "language_info": {
   "codemirror_mode": {
    "name": "ipython",
    "version": 3
   },
   "file_extension": ".py",
   "mimetype": "text/x-python",
   "name": "python",
   "nbconvert_exporter": "python",
   "pygments_lexer": "ipython3",
   "version": "3.6.8"
  }
 },
 "nbformat": 4,
 "nbformat_minor": 5
}

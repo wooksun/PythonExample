{
 "cells": [
  {
   "cell_type": "markdown",
   "id": "11e87de2",
   "metadata": {},
   "source": [
    "<h1>class</h1>\n",
    "\n",
    "class는 데이터와 데이터를 처리하는 함수(클래스 내부에서 만든 함수를 메소드라 부른다.)를 가지고 있는 자료형이다."
   ]
  },
  {
   "cell_type": "code",
   "execution_count": 5,
   "id": "17cbc3b2",
   "metadata": {},
   "outputs": [],
   "source": [
    "'''\n",
    "형식\n",
    "class 클래스이름: 클래스 이름은 다른 변수와 헷갈리지 않게 하기 위해서 일반적으로 첫 문자를 대문자로 만들어 사용한다.\n",
    "\n",
    "    # 생성자(초기자) 함수를 만든다. => __init__()\n",
    "    # 생성자(constructor)란 객체(클래스로 만든 변수)가 생성될 때 자동으로 실행하는 함수이다.\n",
    "    # 클래스 내부에서 선언하는 모든 함수의 첫번째 인수는 무조건 self를 써야한다.\n",
    "    # self라는 변수에는 클래스의 객체가 메모리에 생성된 주소가 넘어온다. => self로 넘어온 주소로 객체를 식별한다.\n",
    "    # 생성자는 clsss의 멤버 변수(클래스 내부의 모든 함수에서 사용할 수 있는 변수)를 초기화시키는 목적으로 주로 사용한다.\n",
    "    # def __init__(self[, 인수, ...]):\n",
    "        # 멤버변수 초기화\n",
    "        # 변수 이름 앞에 'self'가 붙어있는 변수를 멤버 변수라 부르고 클래스 전체에서 사용할 수 있다.\n",
    "        # 변수 이름 앞에 'self'가 붙어있지 않은 변수를 지역 변수라 부르고 선언된 함수 내부에서만 사용할 수 있다.\n",
    "        \n",
    "'''\n",
    "pass"
   ]
  },
  {
   "cell_type": "code",
   "execution_count": 2,
   "id": "d7ec4508",
   "metadata": {},
   "outputs": [],
   "source": [
    "class Score:\n",
    "    # 생성자 함수로 Score 클래스 객체가 생성될 때 이름과 3과목 점수를 넘겨받아 멤버 변수를 초기화시키고, 총점과 평균을 계산한다.\n",
    "    def __init__(self):\n",
    "        #print('Score 클래스의 객체가 메모리에 생성될 때 자동으로 실행된다.')\n",
    "        #print('Score 클래스의 객체가 메모리에 생성된 주소: {}'.format(self))\n",
    "        # 멤버 변수 초기화\n",
    "        self.name = name"
   ]
  },
  {
   "cell_type": "code",
   "execution_count": 3,
   "id": "7bfc9f19",
   "metadata": {},
   "outputs": [
    {
     "name": "stdout",
     "output_type": "stream",
     "text": [
      "Score 클래스의 객체가 메모리에 생성될 때 자동으로 실행된다.\n",
      "Score 클래스의 객체가 메모리에 생성된 주소: <__main__.Score object at 0x0000029AD9C8D160>\n",
      "<__main__.Score object at 0x0000029AD9C8D160>\n"
     ]
    }
   ],
   "source": [
    "# class 객체(변수) 선언 방법\n",
    "# 객체이름 = 클래스이름([생성자로 전달할 데이터, ...])\n",
    "# 클래스 객체를 선언하면 클래스의 객체가 메모리에 생성된 주소가 생성자의 첫번째 인수인 self로 전달된다.\n",
    "score1 = Score('최진욱', 100, 100, 99)\n",
    "print(score1)"
   ]
  },
  {
   "cell_type": "code",
   "execution_count": 4,
   "id": "98ce963f",
   "metadata": {},
   "outputs": [
    {
     "name": "stdout",
     "output_type": "stream",
     "text": [
      "Score 클래스의 객체가 메모리에 생성될 때 자동으로 실행된다.\n",
      "Score 클래스의 객체가 메모리에 생성된 주소: <__main__.Score object at 0x0000029AD9C8DD30>\n",
      "<__main__.Score object at 0x0000029AD9C8DD30>\n"
     ]
    }
   ],
   "source": [
    "score2 = Score()\n",
    "print(score2)"
   ]
  },
  {
   "cell_type": "code",
   "execution_count": null,
   "id": "f1a46ffa",
   "metadata": {},
   "outputs": [],
   "source": []
  },
  {
   "cell_type": "code",
   "execution_count": null,
   "id": "49b403fc",
   "metadata": {},
   "outputs": [],
   "source": []
  }
 ],
 "metadata": {
  "kernelspec": {
   "display_name": "Python 3",
   "language": "python",
   "name": "python3"
  },
  "language_info": {
   "codemirror_mode": {
    "name": "ipython",
    "version": 3
   },
   "file_extension": ".py",
   "mimetype": "text/x-python",
   "name": "python",
   "nbconvert_exporter": "python",
   "pygments_lexer": "ipython3",
   "version": "3.6.8"
  }
 },
 "nbformat": 4,
 "nbformat_minor": 5
}

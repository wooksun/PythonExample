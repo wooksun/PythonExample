{
 "cells": [
  {
   "cell_type": "markdown",
   "id": "08d1e918",
   "metadata": {},
   "source": [
    "파이썬을 이용해서 텍스트 파일을 처리할 경우 파일 탐색기에서 아래의 설정이 되어있나 확인한다.  \n",
    "windows10, 11: 파일 탐색기 => 보기 메뉴 => 파일 확장명 체크  "
   ]
  },
  {
   "cell_type": "markdown",
   "id": "d376c9c2",
   "metadata": {},
   "source": [
    "파일로 출력하거나 파일에서 읽어오는 경우 반드시 파일을 open 시켜야 한다."
   ]
  },
  {
   "cell_type": "markdown",
   "id": "ede3c5eb",
   "metadata": {},
   "source": [
    "<h1>파일 열기</h1>\n",
    "\n",
    "변수 = open('텍스트 파일 이름', '파일 열기 모드')  \n",
    "파일 열기 모드 => w(write, 쓰기(덮어쓰기)), a(append, 쓰기(추가)), r(read, 읽기)  \n",
    "'w'는 지정한 파일이 없으면 파일을 만든 후 저장하고, 파일이 있으면 내용을 지우고 저장한다. => 덮어쓰기  \n",
    "'a'는 지정한 파일이 없으면 파일을 만든 후 저장하고, 파일이 있으면 기존 내용 뒤에 추가해서 저장한다. => 추가  \n",
    "'r'은 지정한 파일이 없으면 에러가 발생된다.  \n",
    "\n",
    "'w', 'a'모드로 파일을 열어서 작업했으면 반드시 파일을 close() 메소드를 사용해서 닫아야 파일에 데이터가 저장된다.  \n",
    "'r'모드로 열어서 작업했으면 파일을 닫지 않아도 상관없다."
   ]
  },
  {
   "cell_type": "code",
   "execution_count": 4,
   "id": "c311135b",
   "metadata": {},
   "outputs": [],
   "source": [
    "# open() 함수에 파일 이름만 쓰면 현재 화면에 작업중인 프로그램이 위치한 경로에 위치한 파일이라는 의미이다.\n",
    "# open('data.txt', 'w')을 사용해서 파일을 open 할 때, 'cp949'라는 메시지가 보이며 한글 인코딩 문제로 에러가 발생되면 \n",
    "# open('data.txt', 'w', -1, 'utf-8') 형식으로 파일을 열면된다.\n",
    "file = open('data.txt', 'w') # data.txt 파일을 출력(덮어쓰기)용으로 open 한다.\n",
    "for i in range(10):\n",
    "    # 화면에 출력할 때는 print()를 사용하고, 파일로 출력할 때는 write()를 사용한다.\n",
    "    # 출력할 때, 끝에 개행 문자('\\n')를 붙여야 텍스트 파일에 데이터가 저장될 때 줄이 바뀐다.\n",
    "    file.write('file.write 출력' + '\\n') # data.txt 파일에 file.write 출력문이 for문의 조건에 맞춰 10번 찍힘.\n",
    "file.close() # w, a는 '파일명.close()'를 해야함"
   ]
  },
  {
   "cell_type": "markdown",
   "id": "2cbf15e3",
   "metadata": {},
   "source": [
    "<h1>경로 지정 방법</h1>\n",
    "\n",
    "절대경로 지정 방식과 상대경로 지정 방식이 있다.  \n",
    "절대경로: 디스크 드라이브의 최상위(root) 폴더(디렉토리)부터 파일이 저장된 폴더까지의 경로를 의미한다.  \n",
    "상대경로: 현재 화면에 표시되는 소스 프로그램 파일이 위치한 폴더부터 텍스트 파일이 위치한 폴더까지의 경로를 의미한다."
   ]
  },
  {
   "cell_type": "code",
   "execution_count": null,
   "id": "28d71e69",
   "metadata": {},
   "outputs": [],
   "source": [
    "# 절대 경로\n",
    "# 현재 작업중인 소스 프로그램이 위치한 경로가 아닌 다른 경로에 파일을 저장하려면 반드시 파일이 저장될 경로를 지정해야 한다.\n",
    "# C:\\k_digital\\python\\basic\\workspace\\data\\data2.txt => 절대경로, 에러\n",
    "# 위와 같이 경로를 지정하면 이스케이프 시퀀스로 잘못 인식해서 오류가 발생되므로 '\\'를 '\\\\'또는 '/'로 수정한다.\n",
    "# C:\\\\k_digital\\\\python\\\\basic\\\\workspace\\\\data\\\\data2.txt\n",
    "# C:/k_digital/python/basic/workspace/data/data2.txt\n",
    "# C:\\\\k_digital\\\\python\\\\basic\\\\workspace/datadata2.txt # '\\\\'와 '/' 모두 사용 가능\n",
    "\n",
    "# 상대경로\n",
    "# '.' => 현재 화면에 표시되는 소스 프로그램이 저장된 폴더\n",
    "# '..' => 현재 화면에 표시되는 소스 프로그램이 저장된 폴더의 한 단계 상위 폴더\n",
    "# ./data/data3.txt\n",
    "# .\\\\data\\\\data3.txt"
   ]
  },
  {
   "cell_type": "code",
   "execution_count": 13,
   "id": "b14497ff",
   "metadata": {},
   "outputs": [
    {
     "name": "stdout",
     "output_type": "stream",
     "text": [
      "data2.txt 파일 쓰기 완료\n"
     ]
    }
   ],
   "source": [
    "# 절대 경로\n",
    "file = open('C:/k_digital/python/basic/workspace/data/data2.txt', 'w') # data.txt 파일을 출력(덮어쓰기)용으로 open 한다.\n",
    "for i in range(10):\n",
    "    file.write('file.write 출력2' + '\\n') \n",
    "file.close() # w, a는 '파일명.close()'를 해야함\n",
    "print('data2.txt 파일 쓰기 완료')"
   ]
  },
  {
   "cell_type": "code",
   "execution_count": 12,
   "id": "4640a9f7",
   "metadata": {},
   "outputs": [
    {
     "name": "stdout",
     "output_type": "stream",
     "text": [
      "data3.txt 파일 쓰기 완료\n"
     ]
    }
   ],
   "source": [
    "# 상대 경로\n",
    "file = open('./data/data3.txt', 'w') \n",
    "for i in range(10):\n",
    "    file.write('file.write 출력3' + '\\n') \n",
    "file.close()\n",
    "print('data3.txt 파일 쓰기 완료')"
   ]
  },
  {
   "cell_type": "code",
   "execution_count": 14,
   "id": "08af9ce9",
   "metadata": {},
   "outputs": [
    {
     "name": "stdout",
     "output_type": "stream",
     "text": [
      ">>> 안녕하세요\n",
      ">>> 최진욱 입니다.\n",
      ">>> 현재 data.txt4 파일 예제 중입니다.\n",
      ">>> quit\n",
      "data4.txt 파일 쓰기 완료\n"
     ]
    }
   ],
   "source": [
    "# 키보드로 입력한 문자열을 텍스트 파일에 저장한다.\n",
    "# 'quit'가 입력되면 저장을 종료한다. => 'quit'가 대문자로 입력되던 소문자로 입렫되던 섞여서 입력된 종료한다.\n",
    "file = open('./data/data4.txt', 'w')\n",
    "while True:\n",
    "    string = input('>>> ')\n",
    "    if string.lower() == 'quit':\n",
    "        break\n",
    "    # ===== if\n",
    "    file.write(string + '\\n')\n",
    "# ===== while\n",
    "file.close()\n",
    "print('data4.txt 파일 쓰기 완료')"
   ]
  },
  {
   "cell_type": "code",
   "execution_count": 16,
   "id": "8ed29c50",
   "metadata": {},
   "outputs": [
    {
     "name": "stdout",
     "output_type": "stream",
     "text": [
      ">>> file.colse()\n",
      ">>> 메소드를 쓰지않고\n",
      ">>> with 구문만으로 파일 작성하기\n",
      ">>> quit\n",
      "data5.txt 파일 쓰기 완료\n"
     ]
    }
   ],
   "source": [
    "# while 구문을 사용해서 파일을 open 하면 with 블록의 모든 내용이 실행되고 난 후 파일을 자동으로 닫아준다.\n",
    "with open('./data/data5.txt', 'w') as file:\n",
    "    while True:\n",
    "        string = input('>>> ')\n",
    "        if string.lower() == 'quit':\n",
    "            break\n",
    "        # ===== if\n",
    "        file.write(string + '\\n')\n",
    "    # ===== while\n",
    "# file.close() # with 구문을 사용해 파일을 open 하면 close() 메소드를 사용하지 않아도 된다.\n",
    "print('data5.txt 파일 쓰기 완료')"
   ]
  },
  {
   "cell_type": "code",
   "execution_count": 18,
   "id": "dfaf6f65",
   "metadata": {},
   "outputs": [
    {
     "name": "stdout",
     "output_type": "stream",
     "text": [
      ">>> =============\n",
      ">>> 지금부터 'a'(추가)를 사용함에 있어\n",
      ">>> 'w'와는 다르게 덮어쓰지 않고\n",
      ">>> 있는 데이터에 내용이 추가되는 것을 확인하기 위함\n",
      ">>> quit\n",
      "data6.txt 파일 쓰기 완료\n"
     ]
    }
   ],
   "source": [
    "with open('./data/data6.txt', 'a') as file:\n",
    "    while True:\n",
    "        string = input('>>> ')\n",
    "        if string.upper() == 'QUIT':\n",
    "            break\n",
    "        # ===== if\n",
    "        file.write(string + '\\n')\n",
    "    # ===== while\n",
    "print('data6.txt 파일 쓰기 완료')"
   ]
  }
 ],
 "metadata": {
  "kernelspec": {
   "display_name": "Python 3",
   "language": "python",
   "name": "python3"
  },
  "language_info": {
   "codemirror_mode": {
    "name": "ipython",
    "version": 3
   },
   "file_extension": ".py",
   "mimetype": "text/x-python",
   "name": "python",
   "nbconvert_exporter": "python",
   "pygments_lexer": "ipython3",
   "version": "3.6.8"
  }
 },
 "nbformat": 4,
 "nbformat_minor": 5
}

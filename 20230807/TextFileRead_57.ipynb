{
 "cells": [
  {
   "cell_type": "code",
   "execution_count": 4,
   "id": "e72cc330",
   "metadata": {},
   "outputs": [
    {
     "name": "stdout",
     "output_type": "stream",
     "text": [
      "data6.txt 파일에서 읽기 완료\n",
      "[\"data6.txt\\n파일 새로 생성하여\\nupper로 사용\\n=============\\n지금부터 'a'(추가)를 사용함에 있어\\n'w'와는 다르게 덮어쓰지 않고\\n있는 데이터에 내용이 추가되는 것을 확인하기 위함\\n\", '']\n"
     ]
    }
   ],
   "source": [
    "try:\n",
    "    file = open('./data/data6.txt', 'r')\n",
    "    lines = []\n",
    "    # 텍스트 파일에 저장된 데이터가 몇 줄인지 알 수 없으므로 무한 루프를 돌려서 읽는다.\n",
    "    while True:\n",
    "        char = file.read()\n",
    "        #print(char)\n",
    "        lines.append(char)\n",
    "        if len(char) == 0:\n",
    "            break\n",
    "    \n",
    "    file.close()\n",
    "    print('data6.txt 파일에서 읽기 완료')\n",
    "except FileNotFoundError:\n",
    "    print('디스크에 파일이 존재하지 않습니다.')\n",
    "print(lines)"
   ]
  },
  {
   "cell_type": "code",
   "execution_count": 6,
   "id": "fbe44078",
   "metadata": {},
   "outputs": [
    {
     "name": "stdout",
     "output_type": "stream",
     "text": [
      "data6.txt 파일에서 읽기 완료\n",
      "['data6.txt', '파일 새로 생성하여', 'upper로 사용', '=============', \"지금부터 'a'(추가)를 사용함에 있어\", \"'w'와는 다르게 덮어쓰지 않고\", '있는 데이터에 내용이 추가되는 것을 확인하기 위함']\n"
     ]
    }
   ],
   "source": [
    "try:\n",
    "    file = open('./data/data6.txt', 'r')\n",
    "    lines = []\n",
    "    # 텍스트 파일에 저장된 데이터가 몇 줄인지 알 수 없으므로 무한 루프를 돌려서 읽는다.\n",
    "    while True:\n",
    "        # char = file.read() # 텍스트 파일의 데이터를 문자 단위로 읽어온다.\n",
    "        line = file.readline() # 텍스트 파일의 데이터를 1줄씩 읽어온다.\n",
    "        if not line: # 텍스트 파일에서 읽어들인 데이터가 없으면\n",
    "            break\n",
    "        #print(line, end='\\n')\n",
    "        #print(line.strip())\n",
    "        # readline() 메소드로 데이터를 읽어들인 후, strip() 메소드로 문자열 앞, 뒤의 불필요한 공백을 제거하는 것이 좋다.\n",
    "        line = line.strip()\n",
    "        # readline() 메소드로 읽어들인 데이터가 모두 공백이면 저장할 필요가 없다.\n",
    "        if len(line) != 0:\n",
    "            lines.append(line)\n",
    "    file.close()\n",
    "    print('data6.txt 파일에서 읽기 완료')\n",
    "except FileNotFoundError:\n",
    "    print('디스크에 파일이 존재하지 않습니다.')\n",
    "print(lines)"
   ]
  },
  {
   "cell_type": "code",
   "execution_count": 7,
   "id": "faf44c16",
   "metadata": {},
   "outputs": [
    {
     "name": "stdout",
     "output_type": "stream",
     "text": [
      "<class 'list'>\n",
      "data6.txt 파일에서 읽기 완료\n",
      "['data6.txt', '파일 새로 생성하여', 'upper로 사용', '=============', \"지금부터 'a'(추가)를 사용함에 있어\", \"'w'와는 다르게 덮어쓰지 않고\", '있는 데이터에 내용이 추가되는 것을 확인하기 위함']\n"
     ]
    }
   ],
   "source": [
    "try:\n",
    "    file = open('./data/data6.txt', 'r')\n",
    "    # readline() 메소드는 텍스트 파일 전체 데이터를 한꺼번에 읽어서 리스트로 리턴한다.\n",
    "    liens = file.readlines()\n",
    "    print(type(lines))\n",
    "    file.close()\n",
    "    print('data6.txt 파일에서 읽기 완료')\n",
    "except FileNotFoundError:\n",
    "    print('디스크에 파일이 존재하지 않습니다.')\n",
    "print(lines)"
   ]
  }
 ],
 "metadata": {
  "kernelspec": {
   "display_name": "Python 3",
   "language": "python",
   "name": "python3"
  },
  "language_info": {
   "codemirror_mode": {
    "name": "ipython",
    "version": 3
   },
   "file_extension": ".py",
   "mimetype": "text/x-python",
   "name": "python",
   "nbconvert_exporter": "python",
   "pygments_lexer": "ipython3",
   "version": "3.6.8"
  }
 },
 "nbformat": 4,
 "nbformat_minor": 5
}

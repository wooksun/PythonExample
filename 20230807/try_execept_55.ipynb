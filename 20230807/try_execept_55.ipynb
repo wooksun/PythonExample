{
 "cells": [
  {
   "cell_type": "markdown",
   "id": "fdd07043",
   "metadata": {},
   "source": [
    "오류 처리\n",
    "\n",
    "프로그램을 작석할 때 잘못 동작되는 것을 방지하기 위해 오류가 발생된다. => 오류가 발생되면 프로그램이 멈춘다.  \n",
    "try ~ except를 사용하면 오류가 발생되었을 때 별도의 처리를 하거나, 오류를 무시하고 프로그램을 실행할 수 있다.  \n",
    "오류가 발생될 것으로 예상되는 문장을 try 블록에 코딩하고 try 블록을 실행하다가 오류가 발생되면 더이상 try 블록에 코딩된 내용을 실행하지 않고, except 블록에 코딩된 내용을 실행한다.  \n",
    "***  \n",
    "try: # 필수  \n",
    "&nbsp;&nbsp;&nbsp;&nbsp;오류가 발생될 것으로 예상되는 문장  \n",
    "&nbsp;&nbsp;&nbsp;&nbsp;...  \n",
    "except [오류 이름[as 변수 이름]]: # 필수 => 오류 이름과 변수 이름은 생략할 수 있다.  \n",
    "&nbsp;&nbsp;&nbsp;&nbsp;오류가 발생되면 실행할 문장  \n",
    "&nbsp;&nbsp;&nbsp;&nbsp;...   \n",
    "finally: # 선택 => 필요한 경우 사용한다.  \n",
    "&nbsp;&nbsp;&nbsp;&nbsp;오류 발생 여부와 관계없이 실행할 문장  \n",
    "&nbsp;&nbsp;&nbsp;&nbsp;..."
   ]
  },
  {
   "cell_type": "code",
   "execution_count": 7,
   "id": "1bc8d1b3",
   "metadata": {},
   "outputs": [
    {
     "name": "stdout",
     "output_type": "stream",
     "text": [
      "4.0\n",
      "except 오류처리 print\n",
      "오류처리 무시하고 print를 찍는 결과\n"
     ]
    }
   ],
   "source": [
    "try:\n",
    "    print(4 / 1)\n",
    "    print(4 / 0) # ZeroDivisionError\n",
    "    print(4 / 4)\n",
    "except: # except 뒤에 오류 이름을 쓰지 않으면 모든 오류를 처리할 수 있다.\n",
    "    pass # 오류 발생 시, 아무것도 하지않고 오류를 무시하려면 pass를 사용하면 된다. => 오류처리 무시한 print 결과가 찍힘.\n",
    "    print(\"except 오류처리 print\")\n",
    "print(\"오류처리 무시하고 print를 찍는 결과\")  # IndentationError 오류 즉, except 밑으로 빈줄처리를 함."
   ]
  },
  {
   "cell_type": "code",
   "execution_count": 11,
   "id": "efa08e06",
   "metadata": {},
   "outputs": [
    {
     "name": "stdout",
     "output_type": "stream",
     "text": [
      "3\n",
      "3\n",
      "리스트의 인덱스 지정이 올바르지 않습니다.\n",
      "except 나와서 실행하는 print\n"
     ]
    }
   ],
   "source": [
    "data = [1, 2, 3]\n",
    "try:\n",
    "    print(data[2]) # 3\n",
    "    print(data[3]) # (try없이 실행했을 경우) IndexError => 3 다음의 올 index가 없어서 생기는 오류\n",
    "    print(data[-1])\n",
    "except:\n",
    "    print('리스트의 인덱스 지정이 올바르지 않습니다.')\n",
    "print('except 나와서 실행하는 print')"
   ]
  },
  {
   "cell_type": "code",
   "execution_count": 30,
   "id": "13e34511",
   "metadata": {},
   "outputs": [
    {
     "name": "stdout",
     "output_type": "stream",
     "text": [
      "except 오류처리 ZeroDivisionError print\n",
      "finally에서 실행하는 print\n",
      "except 나와서 실행하는 print\n"
     ]
    }
   ],
   "source": [
    "data = [1, 2, 3]\n",
    "string = '문자열 a'\n",
    "try:\n",
    "    print(4 / 0) # ZeroDivisionError\n",
    "    print(data[3]) # IndexError\n",
    "    print(string)\n",
    "    print('%d' % string) # 데이터 타입이 올바르지 않아 생기는 TypeError\n",
    "except ZeroDivisionError: # except 뒤에 오류 이름을 적으면 지정된 오류만 처리할 수 있다.\n",
    "    print(\"except 오류처리 ZeroDivisionError print\")\n",
    "except IndexError as e: # ZeroDivisionError 오류처리가 되면 Indexerror 오류처리는 건너뛴다.\n",
    "    print(\"except 오류처리 IndexError print\")\n",
    "    # except 뒤에 오류 이름을 쓰고 as 다음에 변수를 지정하면 오류 메시지가 변수에 저장된다.\n",
    "    print(e) # list index out of range라고 뜸\n",
    "except:\n",
    "    # except 뒤에 오류 이름을 지정하지 않으면 모든 오류를 처리하기 때문에 except 뒤에 코딩한 다른 except 문장이\n",
    "    # 실행될 수 없기 때문에, SyntaxError가 발생된다.\n",
    "    # 따라서, except만 사용하는 경우 반드시 맨 마지막에 코딩을 해야 한다.\n",
    "    # ZeroDivisionError, IndexError를 제외한 모든 오류가 이곳에 코딩한 문장을 실행한다.\n",
    "    print('올바르지 않은 데이터 타입 오류처리 print')\n",
    "finally:\n",
    "    # 오류 발생 여부와 관계없이 무조건 실행해야 할 문장이 있다면, finally 블록에 코딩한다.\n",
    "    print('finally에서 실행하는 print')\n",
    "print('except 나와서 실행하는 print')"
   ]
  },
  {
   "cell_type": "code",
   "execution_count": 32,
   "id": "b9aaa9a8",
   "metadata": {},
   "outputs": [
    {
     "name": "stdout",
     "output_type": "stream",
     "text": [
      "[100, '010', 55, '10']\n"
     ]
    },
    {
     "ename": "TypeError",
     "evalue": "'<' not supported between instances of 'str' and 'int'",
     "output_type": "error",
     "traceback": [
      "\u001b[1;31m---------------------------------------------------------------------------\u001b[0m",
      "\u001b[1;31mTypeError\u001b[0m                                 Traceback (most recent call last)",
      "\u001b[1;32m<ipython-input-32-9f29ca21a51d>\u001b[0m in \u001b[0;36m<module>\u001b[1;34m\u001b[0m\n\u001b[0;32m      1\u001b[0m \u001b[0ma\u001b[0m \u001b[1;33m=\u001b[0m \u001b[1;33m[\u001b[0m\u001b[1;36m100\u001b[0m\u001b[1;33m,\u001b[0m \u001b[1;34m'010'\u001b[0m\u001b[1;33m,\u001b[0m \u001b[1;36m55\u001b[0m\u001b[1;33m,\u001b[0m \u001b[1;34m'10'\u001b[0m\u001b[1;33m]\u001b[0m\u001b[1;33m\u001b[0m\u001b[1;33m\u001b[0m\u001b[0m\n\u001b[0;32m      2\u001b[0m \u001b[0mprint\u001b[0m\u001b[1;33m(\u001b[0m\u001b[0ma\u001b[0m\u001b[1;33m)\u001b[0m\u001b[1;33m\u001b[0m\u001b[1;33m\u001b[0m\u001b[0m\n\u001b[1;32m----> 3\u001b[1;33m \u001b[0ma\u001b[0m\u001b[1;33m.\u001b[0m\u001b[0msort\u001b[0m\u001b[1;33m(\u001b[0m\u001b[1;33m)\u001b[0m\u001b[1;33m\u001b[0m\u001b[1;33m\u001b[0m\u001b[0m\n\u001b[0m",
      "\u001b[1;31mTypeError\u001b[0m: '<' not supported between instances of 'str' and 'int'"
     ]
    }
   ],
   "source": [
    "a = [100, '010', 55, '10']\n",
    "print(a)\n",
    "a.sort() # TypeError"
   ]
  },
  {
   "cell_type": "code",
   "execution_count": 33,
   "id": "b464e170",
   "metadata": {},
   "outputs": [
    {
     "name": "stdout",
     "output_type": "stream",
     "text": [
      "정렬할 데이터를 입력하세요(999가 입력되면 정렬을 시작합니다.): ddd\n",
      "정렬할 데이터를 입력하세요(999가 입력되면 정렬을 시작합니다.): 10\n",
      "정렬할 데이터를 입력하세요(999가 입력되면 정렬을 시작합니다.): aaa\n",
      "정렬할 데이터를 입력하세요(999가 입력되면 정렬을 시작합니다.): 0101\n",
      "정렬할 데이터를 입력하세요(999가 입력되면 정렬을 시작합니다.): 999\n",
      "[10, 101, 'aaa', 'ddd']\n"
     ]
    }
   ],
   "source": [
    "# 숫자 데이터와 문자 데이터가 섞여서 입력되는 데이터를 정렬한다. 999가 입력되면 정렬을 시작한다.\n",
    "number = [] # 숫자를 기억\n",
    "alpha = [] # 문자를 기억\n",
    "while True:\n",
    "    var = input('정렬할 데이터를 입력하세요(999가 입력되면 정렬을 시작합니다.): ')\n",
    "    if var == '999':\n",
    "        break\n",
    "    # 입력받은 데이터가 '0' ~ '9' 사이의 문자로만 구성된 경우와 그렇지 않은 경우를 각각 number, alpha 리스트에 저장한다.\n",
    "    try:\n",
    "        number.append(int(var))\n",
    "    except ValueError:\n",
    "        alpha.append(var)\n",
    "# ===== while\n",
    "\n",
    "number.sort()\n",
    "alpha.sort()\n",
    "print(number + alpha)"
   ]
  }
 ],
 "metadata": {
  "kernelspec": {
   "display_name": "Python 3",
   "language": "python",
   "name": "python3"
  },
  "language_info": {
   "codemirror_mode": {
    "name": "ipython",
    "version": 3
   },
   "file_extension": ".py",
   "mimetype": "text/x-python",
   "name": "python",
   "nbconvert_exporter": "python",
   "pygments_lexer": "ipython3",
   "version": "3.6.8"
  }
 },
 "nbformat": 4,
 "nbformat_minor": 5
}

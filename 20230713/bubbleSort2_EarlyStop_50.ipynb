{
 "cells": [
  {
   "cell_type": "markdown",
   "id": "39c58a94",
   "metadata": {},
   "source": [
    "bubble sort(교환법)\n",
    "\n",
    "선택정렬 => 특정 위치(i)의 데이터를 선택해서 나머지(j) 데이터와 비교하며 정렬한다.  \n",
    "버블정렬 => 인접한 데이터 (j, j + 1)를 비교하며 정렬한다.  \n",
    "정렬할 데이터가 n개일 경우 회전수는 n-1번이 된다. => 데이터가 5개면 회전수는 4번이다."
   ]
  },
  {
   "cell_type": "markdown",
   "id": "2c03fa8e",
   "metadata": {},
   "source": [
    "<img src=\"./bubble1.png\" width=\"900\" align=\"left\"/> "
   ]
  },
  {
   "cell_type": "markdown",
   "id": "a776502d",
   "metadata": {},
   "source": [
    "<img src=\"./bubble2.png\" width=\"900\" align=\"left\"/> "
   ]
  },
  {
   "cell_type": "markdown",
   "id": "3618afe4",
   "metadata": {},
   "source": [
    "<img src=\"./bubble3.png\" width=\"900\" align=\"left\"/> "
   ]
  },
  {
   "cell_type": "markdown",
   "id": "07b6f638",
   "metadata": {},
   "source": [
    "<img src=\"./bubble5.png\" width=\"900\" align=\"left\"/> "
   ]
  },
  {
   "cell_type": "markdown",
   "id": "091bf7a0",
   "metadata": {},
   "source": [
    "<img src=\"./bubble6.png\" width=\"700\" align=\"left\"/> "
   ]
  },
  {
   "cell_type": "code",
   "execution_count": 1,
   "id": "91093a71",
   "metadata": {},
   "outputs": [
    {
     "name": "stdout",
     "output_type": "stream",
     "text": [
      "[i = 0, j = 1][i = 0, j = 2][i = 0, j = 3][i = 0, j = 4]\n",
      "[i = 1, j = 2][i = 1, j = 3][i = 1, j = 4]\n",
      "[i = 2, j = 3][i = 2, j = 4]\n",
      "[i = 3, j = 4]\n"
     ]
    }
   ],
   "source": [
    "n = 5\n",
    "for i in range(n - 1): # 회전수\n",
    "    for j in range(n - 1 - i): # 데이터를 비교하기 위해서 선택하는 위치\n",
    "        print(f'[i = {i}, j = {j}]', end='')\n",
    "    print()"
   ]
  },
  {
   "cell_type": "code",
   "execution_count": 4,
   "id": "1756735c",
   "metadata": {},
   "outputs": [
    {
     "name": "stdout",
     "output_type": "stream",
     "text": [
      "1회전 결과: [1, 3, 4, 8, 9]\n",
      "정렬 결과: [1, 3, 4, 8, 9]\n"
     ]
    }
   ],
   "source": [
    "data = [9, 1, 3, 4, 8]\n",
    "for i in range(len(data) - 1):\n",
    "    # 1. => 회전(정렬) 작업이 시작되기 전에 flag 변수를 0으로 초기화 한다.\n",
    "    flag = 0\n",
    "    for j in range(len(data) - 1 - i):\n",
    "        if data[j] > data[j + 1]:\n",
    "            data[j], data[j + 1] = data[j + 1], data[j]\n",
    "            # 2. => 데이터 교환 작업이 실행되면 flag 변수를 1로 수정한다.\n",
    "            flag = 1\n",
    "        # ===== if\n",
    "    # ===== for j => 회전 종료\n",
    "    # 3. => 한 회전이 종료되었을 때, 데이터 교환 작업이 1번도 실행되지 않았다면 현재 데이터는 모두 정렬이 되어있는 상태를 의미하므로, 정렬을 중지시킨다.\n",
    "    # => i 반복을 탈출한다.\n",
    "    if flag == 0:\n",
    "        break\n",
    "    print(f'{i + 1}회전 결과: {data}')\n",
    "# ===== for i => 정렬 종료\n",
    "print(f'정렬 결과: {data}')"
   ]
  },
  {
   "cell_type": "code",
   "execution_count": 6,
   "id": "d056c18c",
   "metadata": {},
   "outputs": [
    {
     "name": "stdout",
     "output_type": "stream",
     "text": [
      "1회전 결과: [1, 3, 4, 8, 9]\n",
      "4회전 해야지만 2회전 후 중간 종료됨\n",
      "정렬 결과: [1, 3, 4, 8, 9]\n"
     ]
    }
   ],
   "source": [
    "data = [9, 1, 3, 4, 8]\n",
    "for i in range(len(data) - 1):\n",
    "    flag = True\n",
    "    for j in range(len(data) - 1 - i):\n",
    "        if data[j] > data[j + 1]:\n",
    "            data[j], data[j + 1] = data[j + 1], data[j]\n",
    "            flag = False\n",
    "        # ===== if\n",
    "    # ===== for j => 회전 종료\n",
    "    if flag:\n",
    "        print(f'{len(data) - 1}회전 해야지만 {i + 1}회전 후 중간 종료됨')\n",
    "        break\n",
    "    print(f'{i + 1}회전 결과: {data}')\n",
    "# ===== for i => 정렬 종료\n",
    "print(f'정렬 결과: {data}')"
   ]
  },
  {
   "cell_type": "code",
   "execution_count": null,
   "id": "f5cea512",
   "metadata": {},
   "outputs": [],
   "source": []
  }
 ],
 "metadata": {
  "kernelspec": {
   "display_name": "Python 3",
   "language": "python",
   "name": "python3"
  },
  "language_info": {
   "codemirror_mode": {
    "name": "ipython",
    "version": 3
   },
   "file_extension": ".py",
   "mimetype": "text/x-python",
   "name": "python",
   "nbconvert_exporter": "python",
   "pygments_lexer": "ipython3",
   "version": "3.6.8"
  }
 },
 "nbformat": 4,
 "nbformat_minor": 5
}

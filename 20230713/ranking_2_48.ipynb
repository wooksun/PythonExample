{
 "cells": [
  {
   "cell_type": "markdown",
   "id": "8ac2b9d7",
   "metadata": {},
   "source": [
    "선택 정렬의 반복 알고리즘을 이용한 석차 계산\n",
    "\n",
    "<img src=\"./ranking.png\" width=\"1000\" align=\"left\"/>  "
   ]
  },
  {
   "cell_type": "code",
   "execution_count": 1,
   "id": "e9e69eb6",
   "metadata": {},
   "outputs": [
    {
     "name": "stdout",
     "output_type": "stream",
     "text": [
      "[1, 1, 1, 1, 1]\n"
     ]
    }
   ],
   "source": [
    "score = [70, 100, 80, 100, 90]\n",
    "rank = [1for _ in range(len(score))]\n",
    "#print(rank)\n",
    "\n",
    "for i in range(len(score) - 1):\n",
    "    for j in range(i + 1, len(score)):\n",
    "        # i번째 점수가 크면 j번째 석차를 1증가 시키고 j번째 점수가 크면 i번째 석차를 1증가 시킨다.\n",
    "        # 부등호 방향을 모두 반대로 변경하면 오름차순(작은 점수가 1등) 석차가 계산된다.\n",
    "        if score[i] < score[j]:\n",
    "            rank[i] += 1\n",
    "        elif score[i] > score[j]:\n",
    "            rank[j] += 1\n",
    "        # ===== if\n",
    "    # ===== for j\n",
    "# ===== for i\n",
    "\n",
    "for i in lange(len(score)):\n",
    "    print(f'{:3d}점은 {}등 입니다.'.format(score[i], rank[i]))"
   ]
  },
  {
   "cell_type": "code",
   "execution_count": null,
   "id": "511399ae",
   "metadata": {},
   "outputs": [],
   "source": []
  },
  {
   "cell_type": "code",
   "execution_count": null,
   "id": "893c5632",
   "metadata": {},
   "outputs": [],
   "source": []
  },
  {
   "cell_type": "code",
   "execution_count": null,
   "id": "3d5be879",
   "metadata": {},
   "outputs": [],
   "source": []
  },
  {
   "cell_type": "code",
   "execution_count": null,
   "id": "4d08d7d4",
   "metadata": {},
   "outputs": [],
   "source": []
  },
  {
   "cell_type": "code",
   "execution_count": null,
   "id": "6dc32365",
   "metadata": {},
   "outputs": [],
   "source": []
  }
 ],
 "metadata": {
  "kernelspec": {
   "display_name": "Python 3",
   "language": "python",
   "name": "python3"
  },
  "language_info": {
   "codemirror_mode": {
    "name": "ipython",
    "version": 3
   },
   "file_extension": ".py",
   "mimetype": "text/x-python",
   "name": "python",
   "nbconvert_exporter": "python",
   "pygments_lexer": "ipython3",
   "version": "3.6.8"
  }
 },
 "nbformat": 4,
 "nbformat_minor": 5
}

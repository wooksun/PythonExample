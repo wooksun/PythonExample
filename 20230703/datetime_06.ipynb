{
 "cells": [
  {
   "cell_type": "markdown",
   "id": "954e281a",
   "metadata": {},
   "source": [
    "datetime 모듈\n",
    "\n",
    "컴퓨터 시스템의 날짜와 시간을 얻어온다."
   ]
  },
  {
   "cell_type": "code",
   "execution_count": null,
   "id": "dc39361f",
   "metadata": {},
   "outputs": [],
   "source": [
    "import datetime # datetime 모듈 전체를 import 한다.\n",
    "now = datetime.datetime.now()\n",
    "print(now)"
   ]
  },
  {
   "cell_type": "code",
   "execution_count": null,
   "id": "bb0a85e7",
   "metadata": {},
   "outputs": [],
   "source": [
    "from datetime import datetime # datetime 모듈에서 datetime 클래스만 import 한다.\n",
    "now2 = datetime.now()\n",
    "print(now2)"
   ]
  },
  {
   "cell_type": "code",
   "execution_count": 2,
   "id": "936fcca8",
   "metadata": {},
   "outputs": [
    {
     "name": "stdout",
     "output_type": "stream",
     "text": [
      "2023-07-03 11:10:53.627598\n"
     ]
    }
   ],
   "source": [
    "from datetime import datetime as dt # import한 datetime 클래스에 dt라는 별명을 지정한다.\n",
    "# import하는 모듈에 별명을 지정한 경우 원래 모듈 이름은 사용할 수 없고 as 뒤의 별명을 사용해야 한다.  => as 뒤에 별명 사용(alias같이)\n",
    "# now3 = datetime.now() # 별명을 설정했기 때문에, datetime.now()에 datetime은 오류가 된다. \n",
    "now3 = dt.now()\n",
    "print(now3)"
   ]
  },
  {
   "cell_type": "markdown",
   "id": "42575b3d",
   "metadata": {},
   "source": [
    "날짜, 시간 데이터에서 년, 월, 일, 시, 분, 초, 밀리초, 마이크로초, 요일 추출하기"
   ]
  },
  {
   "cell_type": "code",
   "execution_count": 9,
   "id": "f781523d",
   "metadata": {},
   "outputs": [
    {
     "name": "stdout",
     "output_type": "stream",
     "text": [
      "2023-07-03 11:22:39.581487\n",
      "년: 2023\n",
      "월: 7\n",
      "일: 3\n",
      "시: 11\n",
      "분: 22\n",
      "초: 39\n",
      "마이크로초: 581487\n",
      "밀리초: 581\n",
      "요일: 0\n",
      "요일: 월\n"
     ]
    }
   ],
   "source": [
    "from datetime import datetime as dt\n",
    "today = dt.now()\n",
    "print(today)\n",
    "\n",
    "print('년: {}'.format(today.year))\n",
    "print('월: {}'.format(today.month))\n",
    "print('일: {}'.format(today.day))\n",
    "print('시: {}'.format(today.hour))\n",
    "print('분: {}'.format(today.minute))\n",
    "print('초: {}'.format(today.second))\n",
    "print('마이크로초: {}'.format(today.microsecond))\n",
    "print('밀리초: {}'.format(today.microsecond // 1000))\n",
    "# weekday() 메소드로 요일을 숫자로 얻어올 수 있다. => 월(0), 화(1), 수(2), 목(3), 금(4), 토(5), 일(6)\n",
    "print('요일: {}'.format(today.weekday()))\n",
    "week = ['월', '화', '수', '목', '금', '토', '일']\n",
    "print('요일: {}'.format(week[today.weekday()]))"
   ]
  },
  {
   "cell_type": "code",
   "execution_count": null,
   "id": "5eb18434",
   "metadata": {},
   "outputs": [],
   "source": []
  },
  {
   "cell_type": "code",
   "execution_count": null,
   "id": "44a9e46e",
   "metadata": {},
   "outputs": [],
   "source": []
  },
  {
   "cell_type": "code",
   "execution_count": null,
   "id": "85cb31e7",
   "metadata": {},
   "outputs": [],
   "source": []
  },
  {
   "cell_type": "code",
   "execution_count": null,
   "id": "a8934ce7",
   "metadata": {},
   "outputs": [],
   "source": []
  }
 ],
 "metadata": {
  "kernelspec": {
   "display_name": "Python 3",
   "language": "python",
   "name": "python3"
  },
  "language_info": {
   "codemirror_mode": {
    "name": "ipython",
    "version": 3
   },
   "file_extension": ".py",
   "mimetype": "text/x-python",
   "name": "python",
   "nbconvert_exporter": "python",
   "pygments_lexer": "ipython3",
   "version": "3.6.8"
  }
 },
 "nbformat": 4,
 "nbformat_minor": 5
}
